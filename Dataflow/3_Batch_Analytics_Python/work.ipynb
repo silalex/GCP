{
 "cells": [
  {
   "cell_type": "code",
   "execution_count": 4,
   "id": "d4f20d53",
   "metadata": {},
   "outputs": [
    {
     "name": "stdout",
     "output_type": "stream",
     "text": [
      "1748650521.0\n"
     ]
    }
   ],
   "source": [
    "from datetime import datetime\n",
    "\n",
    "time_str = \"2025-05-30T17:15:21.987713Z\"\n",
    "print(datetime.strptime(time_str[:-8], \"%Y-%m-%dT%H:%M:%S\").timestamp())"
   ]
  },
  {
   "cell_type": "code",
   "execution_count": null,
   "id": "ef39340c",
   "metadata": {},
   "outputs": [],
   "source": []
  }
 ],
 "metadata": {
  "kernelspec": {
   "display_name": "Python 3",
   "language": "python",
   "name": "python3"
  },
  "language_info": {
   "codemirror_mode": {
    "name": "ipython",
    "version": 3
   },
   "file_extension": ".py",
   "mimetype": "text/x-python",
   "name": "python",
   "nbconvert_exporter": "python",
   "pygments_lexer": "ipython3",
   "version": "3.10.11"
  }
 },
 "nbformat": 4,
 "nbformat_minor": 5
}
