{
 "cells": [
  {
   "cell_type": "code",
   "execution_count": 4,
   "id": "d4f20d53",
   "metadata": {},
   "outputs": [
    {
     "name": "stdout",
     "output_type": "stream",
     "text": [
      "1748650521.0\n"
     ]
    }
   ],
   "source": [
    "from datetime import datetime\n",
    "\n",
    "time_str = \"2025-05-30T17:15:21.987713Z\"\n",
    "print(datetime.strptime(time_str[:-8], \"%Y-%m-%dT%H:%M:%S\").timestamp())"
   ]
  },
  {
   "cell_type": "code",
   "execution_count": 1,
   "id": "ef39340c",
   "metadata": {},
   "outputs": [
    {
     "name": "stdout",
     "output_type": "stream",
     "text": [
      "Original: 2023-01-15T08:30:00\n",
      "Converted: 2023-01-15 08:30:00\n",
      "Type: <class 'datetime.datetime'>\n"
     ]
    }
   ],
   "source": [
    "from datetime import datetime\n",
    "\n",
    "# 1. Simulate an 'element' with a timestamp string\n",
    "class MockElement:\n",
    "    def __init__(self, ts_str):\n",
    "        self.timestamp = ts_str\n",
    "\n",
    "element = MockElement(\"2023-01-15T08:30:00\")\n",
    "\n",
    "# 2. Define the format string matching the input\n",
    "format_string = \"%Y-%m-%dT%H:%M:%S\"\n",
    "\n",
    "# 3. Convert the timestamp string to a datetime object\n",
    "datetime_object = datetime.strptime(element.timestamp, format_string)\n",
    "\n",
    "# 4. Print the result\n",
    "print(f\"Original: {element.timestamp}\")\n",
    "print(f\"Converted: {datetime_object}\")\n",
    "print(f\"Type: {type(datetime_object)}\")"
   ]
  },
  {
   "cell_type": "code",
   "execution_count": null,
   "id": "304952c2",
   "metadata": {},
   "outputs": [],
   "source": []
  }
 ],
 "metadata": {
  "kernelspec": {
   "display_name": "Python 3",
   "language": "python",
   "name": "python3"
  },
  "language_info": {
   "codemirror_mode": {
    "name": "ipython",
    "version": 3
   },
   "file_extension": ".py",
   "mimetype": "text/x-python",
   "name": "python",
   "nbconvert_exporter": "python",
   "pygments_lexer": "ipython3",
   "version": "3.10.11"
  }
 },
 "nbformat": 4,
 "nbformat_minor": 5
}
