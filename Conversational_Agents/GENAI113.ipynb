{
  "cells": [
    {
      "cell_type": "markdown",
      "source": [
        "# Build Conversational Agents with the Python SDK\n",
        "\n",
        "### [GENAI113](https://partner.cloudskillsboost.google/paths/523/course_templates/1316/labs/548755)\n",
        "\n",
        "\n",
        "## Objective\n",
        "In this lab, you will learn how to do the following:\n",
        "\n",
        "- Set up a Colab Enterprise notebook with necessary packages.\n",
        "- Create and configure a Conversational agent with generative settings.\n",
        "- Develop a weather-fetching tool using OpenAPI and deploy it via Cloud Run.\n",
        "- Integrate tools into agents and chain them for complex workflows.\n",
        "- Implement multi-turn sessions for dynamic interactions.\n",
        "\n",
        "## Task 1. Create a Colab Enterprise Notebook\n",
        "In this section, you will set up a Colab Enterprise notebook environment in the Google Cloud Console.\n",
        "\n",
        "1. In the Google Cloud Console, navigate to Vertex AI > Colab Enterprise.\n",
        "\n",
        "2. In the My notebooks section, select the us-east1 region from the Region drop-down menu, if it is not already selected, and click the + New notebook button to create a new notebook.\n",
        "\n",
        "3. Enter the following code snippet in the first cell and run it by pressing Shift + Return or Shift + Enter"
      ],
      "metadata": {
        "id": "EfH1r6oSrS4u"
      },
      "id": "EfH1r6oSrS4u"
    },
    {
      "cell_type": "code",
      "id": "kZLbT45GY89T6HXuI3DZskJK",
      "metadata": {
        "tags": [],
        "id": "kZLbT45GY89T6HXuI3DZskJK",
        "colab": {
          "base_uri": "https://localhost:8080/",
          "height": 1000
        },
        "outputId": "53bb0507-7e2c-4b22-a620-7bf8c9503b75"
      },
      "source": [
        "!pip install dfcx-scrapi"
      ],
      "execution_count": 1,
      "outputs": [
        {
          "output_type": "stream",
          "name": "stdout",
          "text": [
            "Collecting dfcx-scrapi\n",
            "  Downloading dfcx_scrapi-1.13.1-py3-none-any.whl.metadata (10 kB)\n",
            "Collecting google-cloud-dialogflow-cx (from dfcx-scrapi)\n",
            "  Downloading google_cloud_dialogflow_cx-1.42.0-py3-none-any.whl.metadata (9.6 kB)\n",
            "Requirement already satisfied: google-cloud-aiplatform in /usr/local/lib/python3.11/dist-packages (from dfcx-scrapi) (1.99.0)\n",
            "Collecting google-cloud-discoveryengine (from dfcx-scrapi)\n",
            "  Downloading google_cloud_discoveryengine-0.13.9-py3-none-any.whl.metadata (9.6 kB)\n",
            "Collecting rouge-score (from dfcx-scrapi)\n",
            "  Downloading rouge_score-0.1.2.tar.gz (17 kB)\n",
            "  Preparing metadata (setup.py) ... \u001b[?25l\u001b[?25hdone\n",
            "Requirement already satisfied: google-api-core!=2.0.*,!=2.1.*,!=2.2.*,!=2.3.*,!=2.4.*,!=2.5.*,!=2.6.*,!=2.7.*,<3.0.0,>=1.34.1 in /usr/local/lib/python3.11/dist-packages (from google-api-core[grpc]!=2.0.*,!=2.1.*,!=2.2.*,!=2.3.*,!=2.4.*,!=2.5.*,!=2.6.*,!=2.7.*,<3.0.0,>=1.34.1->google-cloud-aiplatform->dfcx-scrapi) (2.25.1)\n",
            "Requirement already satisfied: google-auth<3.0.0,>=2.14.1 in /usr/local/lib/python3.11/dist-packages (from google-cloud-aiplatform->dfcx-scrapi) (2.38.0)\n",
            "Requirement already satisfied: proto-plus<2.0.0,>=1.22.3 in /usr/local/lib/python3.11/dist-packages (from google-cloud-aiplatform->dfcx-scrapi) (1.26.1)\n",
            "Requirement already satisfied: protobuf!=4.21.0,!=4.21.1,!=4.21.2,!=4.21.3,!=4.21.4,!=4.21.5,<7.0.0,>=3.20.2 in /usr/local/lib/python3.11/dist-packages (from google-cloud-aiplatform->dfcx-scrapi) (5.29.5)\n",
            "Requirement already satisfied: packaging>=14.3 in /usr/local/lib/python3.11/dist-packages (from google-cloud-aiplatform->dfcx-scrapi) (24.2)\n",
            "Requirement already satisfied: google-cloud-storage<3.0.0,>=1.32.0 in /usr/local/lib/python3.11/dist-packages (from google-cloud-aiplatform->dfcx-scrapi) (2.19.0)\n",
            "Requirement already satisfied: google-cloud-bigquery!=3.20.0,<4.0.0,>=1.15.0 in /usr/local/lib/python3.11/dist-packages (from google-cloud-aiplatform->dfcx-scrapi) (3.34.0)\n",
            "Requirement already satisfied: google-cloud-resource-manager<3.0.0,>=1.3.3 in /usr/local/lib/python3.11/dist-packages (from google-cloud-aiplatform->dfcx-scrapi) (1.14.2)\n",
            "Requirement already satisfied: shapely<3.0.0 in /usr/local/lib/python3.11/dist-packages (from google-cloud-aiplatform->dfcx-scrapi) (2.1.1)\n",
            "Requirement already satisfied: google-genai<2.0.0,>=1.0.0 in /usr/local/lib/python3.11/dist-packages (from google-cloud-aiplatform->dfcx-scrapi) (1.21.1)\n",
            "Requirement already satisfied: pydantic<3 in /usr/local/lib/python3.11/dist-packages (from google-cloud-aiplatform->dfcx-scrapi) (2.11.7)\n",
            "Requirement already satisfied: typing_extensions in /usr/local/lib/python3.11/dist-packages (from google-cloud-aiplatform->dfcx-scrapi) (4.14.0)\n",
            "Requirement already satisfied: docstring_parser<1 in /usr/local/lib/python3.11/dist-packages (from google-cloud-aiplatform->dfcx-scrapi) (0.16)\n",
            "Requirement already satisfied: absl-py in /usr/local/lib/python3.11/dist-packages (from rouge-score->dfcx-scrapi) (1.4.0)\n",
            "Requirement already satisfied: nltk in /usr/local/lib/python3.11/dist-packages (from rouge-score->dfcx-scrapi) (3.9.1)\n",
            "Requirement already satisfied: numpy in /usr/local/lib/python3.11/dist-packages (from rouge-score->dfcx-scrapi) (2.0.2)\n",
            "Requirement already satisfied: six>=1.14.0 in /usr/local/lib/python3.11/dist-packages (from rouge-score->dfcx-scrapi) (1.17.0)\n",
            "Requirement already satisfied: googleapis-common-protos<2.0.0,>=1.56.2 in /usr/local/lib/python3.11/dist-packages (from google-api-core!=2.0.*,!=2.1.*,!=2.2.*,!=2.3.*,!=2.4.*,!=2.5.*,!=2.6.*,!=2.7.*,<3.0.0,>=1.34.1->google-api-core[grpc]!=2.0.*,!=2.1.*,!=2.2.*,!=2.3.*,!=2.4.*,!=2.5.*,!=2.6.*,!=2.7.*,<3.0.0,>=1.34.1->google-cloud-aiplatform->dfcx-scrapi) (1.70.0)\n",
            "Requirement already satisfied: requests<3.0.0,>=2.18.0 in /usr/local/lib/python3.11/dist-packages (from google-api-core!=2.0.*,!=2.1.*,!=2.2.*,!=2.3.*,!=2.4.*,!=2.5.*,!=2.6.*,!=2.7.*,<3.0.0,>=1.34.1->google-api-core[grpc]!=2.0.*,!=2.1.*,!=2.2.*,!=2.3.*,!=2.4.*,!=2.5.*,!=2.6.*,!=2.7.*,<3.0.0,>=1.34.1->google-cloud-aiplatform->dfcx-scrapi) (2.32.3)\n",
            "Requirement already satisfied: grpcio<2.0.0,>=1.33.2 in /usr/local/lib/python3.11/dist-packages (from google-api-core[grpc]!=2.0.*,!=2.1.*,!=2.2.*,!=2.3.*,!=2.4.*,!=2.5.*,!=2.6.*,!=2.7.*,<3.0.0,>=1.34.1->google-cloud-aiplatform->dfcx-scrapi) (1.73.0)\n",
            "Requirement already satisfied: grpcio-status<2.0.0,>=1.33.2 in /usr/local/lib/python3.11/dist-packages (from google-api-core[grpc]!=2.0.*,!=2.1.*,!=2.2.*,!=2.3.*,!=2.4.*,!=2.5.*,!=2.6.*,!=2.7.*,<3.0.0,>=1.34.1->google-cloud-aiplatform->dfcx-scrapi) (1.71.0)\n",
            "Requirement already satisfied: cachetools<6.0,>=2.0.0 in /usr/local/lib/python3.11/dist-packages (from google-auth<3.0.0,>=2.14.1->google-cloud-aiplatform->dfcx-scrapi) (5.5.2)\n",
            "Requirement already satisfied: pyasn1-modules>=0.2.1 in /usr/local/lib/python3.11/dist-packages (from google-auth<3.0.0,>=2.14.1->google-cloud-aiplatform->dfcx-scrapi) (0.4.2)\n",
            "Requirement already satisfied: rsa<5,>=3.1.4 in /usr/local/lib/python3.11/dist-packages (from google-auth<3.0.0,>=2.14.1->google-cloud-aiplatform->dfcx-scrapi) (4.9.1)\n",
            "Requirement already satisfied: google-cloud-core<3.0.0,>=2.4.1 in /usr/local/lib/python3.11/dist-packages (from google-cloud-bigquery!=3.20.0,<4.0.0,>=1.15.0->google-cloud-aiplatform->dfcx-scrapi) (2.4.3)\n",
            "Requirement already satisfied: google-resumable-media<3.0.0,>=2.0.0 in /usr/local/lib/python3.11/dist-packages (from google-cloud-bigquery!=3.20.0,<4.0.0,>=1.15.0->google-cloud-aiplatform->dfcx-scrapi) (2.7.2)\n",
            "Requirement already satisfied: python-dateutil<3.0.0,>=2.8.2 in /usr/local/lib/python3.11/dist-packages (from google-cloud-bigquery!=3.20.0,<4.0.0,>=1.15.0->google-cloud-aiplatform->dfcx-scrapi) (2.9.0.post0)\n",
            "Requirement already satisfied: grpc-google-iam-v1<1.0.0,>=0.14.0 in /usr/local/lib/python3.11/dist-packages (from google-cloud-resource-manager<3.0.0,>=1.3.3->google-cloud-aiplatform->dfcx-scrapi) (0.14.2)\n",
            "Requirement already satisfied: google-crc32c<2.0dev,>=1.0 in /usr/local/lib/python3.11/dist-packages (from google-cloud-storage<3.0.0,>=1.32.0->google-cloud-aiplatform->dfcx-scrapi) (1.7.1)\n",
            "Requirement already satisfied: anyio<5.0.0,>=4.8.0 in /usr/local/lib/python3.11/dist-packages (from google-genai<2.0.0,>=1.0.0->google-cloud-aiplatform->dfcx-scrapi) (4.9.0)\n",
            "Requirement already satisfied: httpx<1.0.0,>=0.28.1 in /usr/local/lib/python3.11/dist-packages (from google-genai<2.0.0,>=1.0.0->google-cloud-aiplatform->dfcx-scrapi) (0.28.1)\n",
            "Requirement already satisfied: tenacity<9.0.0,>=8.2.3 in /usr/local/lib/python3.11/dist-packages (from google-genai<2.0.0,>=1.0.0->google-cloud-aiplatform->dfcx-scrapi) (8.5.0)\n",
            "Requirement already satisfied: websockets<15.1.0,>=13.0.0 in /usr/local/lib/python3.11/dist-packages (from google-genai<2.0.0,>=1.0.0->google-cloud-aiplatform->dfcx-scrapi) (15.0.1)\n",
            "Requirement already satisfied: annotated-types>=0.6.0 in /usr/local/lib/python3.11/dist-packages (from pydantic<3->google-cloud-aiplatform->dfcx-scrapi) (0.7.0)\n",
            "Requirement already satisfied: pydantic-core==2.33.2 in /usr/local/lib/python3.11/dist-packages (from pydantic<3->google-cloud-aiplatform->dfcx-scrapi) (2.33.2)\n",
            "Requirement already satisfied: typing-inspection>=0.4.0 in /usr/local/lib/python3.11/dist-packages (from pydantic<3->google-cloud-aiplatform->dfcx-scrapi) (0.4.1)\n",
            "Requirement already satisfied: click in /usr/local/lib/python3.11/dist-packages (from nltk->rouge-score->dfcx-scrapi) (8.2.1)\n",
            "Requirement already satisfied: joblib in /usr/local/lib/python3.11/dist-packages (from nltk->rouge-score->dfcx-scrapi) (1.5.1)\n",
            "Requirement already satisfied: regex>=2021.8.3 in /usr/local/lib/python3.11/dist-packages (from nltk->rouge-score->dfcx-scrapi) (2024.11.6)\n",
            "Requirement already satisfied: tqdm in /usr/local/lib/python3.11/dist-packages (from nltk->rouge-score->dfcx-scrapi) (4.67.1)\n",
            "Requirement already satisfied: idna>=2.8 in /usr/local/lib/python3.11/dist-packages (from anyio<5.0.0,>=4.8.0->google-genai<2.0.0,>=1.0.0->google-cloud-aiplatform->dfcx-scrapi) (3.10)\n",
            "Requirement already satisfied: sniffio>=1.1 in /usr/local/lib/python3.11/dist-packages (from anyio<5.0.0,>=4.8.0->google-genai<2.0.0,>=1.0.0->google-cloud-aiplatform->dfcx-scrapi) (1.3.1)\n",
            "Requirement already satisfied: certifi in /usr/local/lib/python3.11/dist-packages (from httpx<1.0.0,>=0.28.1->google-genai<2.0.0,>=1.0.0->google-cloud-aiplatform->dfcx-scrapi) (2025.6.15)\n",
            "Requirement already satisfied: httpcore==1.* in /usr/local/lib/python3.11/dist-packages (from httpx<1.0.0,>=0.28.1->google-genai<2.0.0,>=1.0.0->google-cloud-aiplatform->dfcx-scrapi) (1.0.9)\n",
            "Requirement already satisfied: h11>=0.16 in /usr/local/lib/python3.11/dist-packages (from httpcore==1.*->httpx<1.0.0,>=0.28.1->google-genai<2.0.0,>=1.0.0->google-cloud-aiplatform->dfcx-scrapi) (0.16.0)\n",
            "Requirement already satisfied: pyasn1<0.7.0,>=0.6.1 in /usr/local/lib/python3.11/dist-packages (from pyasn1-modules>=0.2.1->google-auth<3.0.0,>=2.14.1->google-cloud-aiplatform->dfcx-scrapi) (0.6.1)\n",
            "Requirement already satisfied: charset-normalizer<4,>=2 in /usr/local/lib/python3.11/dist-packages (from requests<3.0.0,>=2.18.0->google-api-core!=2.0.*,!=2.1.*,!=2.2.*,!=2.3.*,!=2.4.*,!=2.5.*,!=2.6.*,!=2.7.*,<3.0.0,>=1.34.1->google-api-core[grpc]!=2.0.*,!=2.1.*,!=2.2.*,!=2.3.*,!=2.4.*,!=2.5.*,!=2.6.*,!=2.7.*,<3.0.0,>=1.34.1->google-cloud-aiplatform->dfcx-scrapi) (3.4.2)\n",
            "Requirement already satisfied: urllib3<3,>=1.21.1 in /usr/local/lib/python3.11/dist-packages (from requests<3.0.0,>=2.18.0->google-api-core!=2.0.*,!=2.1.*,!=2.2.*,!=2.3.*,!=2.4.*,!=2.5.*,!=2.6.*,!=2.7.*,<3.0.0,>=1.34.1->google-api-core[grpc]!=2.0.*,!=2.1.*,!=2.2.*,!=2.3.*,!=2.4.*,!=2.5.*,!=2.6.*,!=2.7.*,<3.0.0,>=1.34.1->google-cloud-aiplatform->dfcx-scrapi) (2.4.0)\n",
            "Downloading dfcx_scrapi-1.13.1-py3-none-any.whl (263 kB)\n",
            "\u001b[2K   \u001b[90m━━━━━━━━━━━━━━━━━━━━━━━━━━━━━━━━━━━━━━━━\u001b[0m \u001b[32m263.1/263.1 kB\u001b[0m \u001b[31m7.1 MB/s\u001b[0m eta \u001b[36m0:00:00\u001b[0m\n",
            "\u001b[?25hDownloading google_cloud_dialogflow_cx-1.42.0-py3-none-any.whl (2.1 MB)\n",
            "\u001b[2K   \u001b[90m━━━━━━━━━━━━━━━━━━━━━━━━━━━━━━━━━━━━━━━━\u001b[0m \u001b[32m2.1/2.1 MB\u001b[0m \u001b[31m41.9 MB/s\u001b[0m eta \u001b[36m0:00:00\u001b[0m\n",
            "\u001b[?25hDownloading google_cloud_discoveryengine-0.13.9-py3-none-any.whl (3.1 MB)\n",
            "\u001b[2K   \u001b[90m━━━━━━━━━━━━━━━━━━━━━━━━━━━━━━━━━━━━━━━━\u001b[0m \u001b[32m3.1/3.1 MB\u001b[0m \u001b[31m64.6 MB/s\u001b[0m eta \u001b[36m0:00:00\u001b[0m\n",
            "\u001b[?25hBuilding wheels for collected packages: rouge-score\n",
            "  Building wheel for rouge-score (setup.py) ... \u001b[?25l\u001b[?25hdone\n",
            "  Created wheel for rouge-score: filename=rouge_score-0.1.2-py3-none-any.whl size=24935 sha256=e095c657fda3e8caf2140de737f38371d91fdfc62f58f181b3762a852f4ac8ba\n",
            "  Stored in directory: /root/.cache/pip/wheels/1e/19/43/8a442dc83660ca25e163e1bd1f89919284ab0d0c1475475148\n",
            "Successfully built rouge-score\n",
            "Installing collected packages: rouge-score, google-cloud-discoveryengine, google-cloud-dialogflow-cx, dfcx-scrapi\n",
            "Successfully installed dfcx-scrapi-1.13.1 google-cloud-dialogflow-cx-1.42.0 google-cloud-discoveryengine-0.13.9 rouge-score-0.1.2\n"
          ]
        },
        {
          "output_type": "display_data",
          "data": {
            "application/vnd.colab-display-data+json": {
              "pip_warning": {
                "packages": [
                  "google"
                ]
              },
              "id": "8ffe4ad0c466442bb623733db3ff60ba"
            }
          },
          "metadata": {}
        }
      ]
    },
    {
      "cell_type": "markdown",
      "source": [
        "Once cell execution is done, click on RESTART SESSION.\n",
        "\n",
        "4. Paste the following code snippet into a new cell to authenticate Colab for calling Client Endpoints."
      ],
      "metadata": {
        "id": "755qfM3ErcLs"
      },
      "id": "755qfM3ErcLs"
    },
    {
      "cell_type": "code",
      "source": [
        "import sys\n",
        "\n",
        "# Colab Auth needed to call Client Endpoints (i.e. vertexai)\n",
        "if \"google.colab\" in sys.modules:\n",
        "    # Authenticate user to Google Cloud\n",
        "    from google.colab import auth as google_auth\n",
        "    google_auth.authenticate_user()"
      ],
      "metadata": {
        "colab": {
          "base_uri": "https://localhost:8080/"
        },
        "id": "bp2FaoduqrzZ",
        "outputId": "48c647b4-0998-413d-c198-e7803b008441"
      },
      "id": "bp2FaoduqrzZ",
      "execution_count": 1,
      "outputs": [
        {
          "output_type": "stream",
          "name": "stdout",
          "text": [
            "WARNING: google.colab.auth.authenticate_user() is not supported in Colab Enterprise.\n"
          ]
        }
      ]
    },
    {
      "cell_type": "markdown",
      "source": [
        "## Task 2. Build a New Agent Application\n",
        "In this section, you will create a blank Agent Application, which serves as the fundamental building block for chaining together Agents, Tools, and adding few-shot examples.\n",
        "\n",
        "1. Run the following code snippet to set the PROJECT_ID variable value."
      ],
      "metadata": {
        "id": "QEoP74dLrLe4"
      },
      "id": "QEoP74dLrLe4"
    },
    {
      "cell_type": "code",
      "source": [
        "PROJECT_ID = \"qwiklabs-gcp-00-3304b06953f9\""
      ],
      "metadata": {
        "id": "Bs-qbqkhrC4Y"
      },
      "id": "Bs-qbqkhrC4Y",
      "execution_count": 2,
      "outputs": []
    },
    {
      "cell_type": "markdown",
      "source": [
        "2. Run the following code snippet to create the agent named Cymbal Agents and note down the value of AGENT NAME."
      ],
      "metadata": {
        "id": "MGDialAnr0c_"
      },
      "id": "MGDialAnr0c_"
    },
    {
      "cell_type": "code",
      "source": [
        "from dfcx_scrapi.core.agents import Agents\n",
        "\n",
        "a = Agents()\n",
        "agent = a.create_agent(\n",
        "    project_id=PROJECT_ID,\n",
        "    display_name=\"Cymbal Agents\",\n",
        "    gcp_region=\"us-east1\",\n",
        "    playbook_agent=True\n",
        ")\n",
        "\n",
        "panel = \"(playbooks/00000000-0000-0000-0000-000000000000/basics//right-panel:simulator)\"\n",
        "print(f\"AGENT LINK: https://vertexaiconversation.cloud.google.com/{agent.name}/{panel}\")\n",
        "print(f\"AGENT NAME: {agent.name}\")"
      ],
      "metadata": {
        "colab": {
          "base_uri": "https://localhost:8080/"
        },
        "id": "lPNgIH4TrxL_",
        "outputId": "73396e82-7149-472f-edbc-5a63931afd0a"
      },
      "id": "lPNgIH4TrxL_",
      "execution_count": 3,
      "outputs": [
        {
          "output_type": "stream",
          "name": "stdout",
          "text": [
            "AGENT LINK: https://vertexaiconversation.cloud.google.com/projects/qwiklabs-gcp-00-3304b06953f9/locations/us-east1/agents/3748b70e-c055-4f99-bf63-7b09ca60d06a/(playbooks/00000000-0000-0000-0000-000000000000/basics//right-panel:simulator)\n",
            "AGENT NAME: projects/qwiklabs-gcp-00-3304b06953f9/locations/us-east1/agents/3748b70e-c055-4f99-bf63-7b09ca60d06a\n"
          ]
        }
      ]
    },
    {
      "cell_type": "markdown",
      "source": [
        "3. Run the following code snippet to update the generative settings for the Conversational agent.\n",
        "\n",
        "*Note:* Replace the placeholder YOUR_AGENT_NAME in the following code snippet with the actual Agent Name generated in the previous output."
      ],
      "metadata": {
        "id": "dNZMKMJyr7Em"
      },
      "id": "dNZMKMJyr7Em"
    },
    {
      "cell_type": "code",
      "source": [
        "import requests\n",
        "from google.oauth2 import id_token\n",
        "from google.auth.transport.requests import Request\n",
        "import google.auth\n",
        "import json\n",
        "\n",
        "project_id = \"qwiklabs-gcp-00-3304b06953f9\"\n",
        "location_id = \"us-east1\"\n",
        "\n",
        "#Replace your Agent Name\n",
        "agent_name = \"projects/qwiklabs-gcp-00-3304b06953f9/locations/us-east1/agents/3748b70e-c055-4f99-bf63-7b09ca60d06a\"\n",
        "endpoint_base = \"https://us-east1-dialogflow.googleapis.com\"\n",
        "\n",
        "def get_access_token():\n",
        "    \"\"\"Gets an access token using google-auth library.\"\"\"\n",
        "    creds, project = google.auth.default()\n",
        "    auth_req = Request()\n",
        "    creds.refresh(auth_req)\n",
        "    return creds.token\n",
        "\n",
        "def update_generative_settings(new_model=None, new_language_code=None):\n",
        "    \"\"\"Updates the generative settings for the Conversational agent.\"\"\"\n",
        "    access_token = get_access_token()\n",
        "    headers = {\n",
        "        \"Authorization\": f\"Bearer {access_token}\",\n",
        "        \"Content-Type\": \"application/json\",\n",
        "    }\n",
        "    generative_settings_name = f\"{agent_name}/generativeSettings\"\n",
        "    url = f\"{endpoint_base}/v3/{generative_settings_name}\"\n",
        "    payload = {}\n",
        "    update_mask_fields = []\n",
        "\n",
        "    if new_model is not None:\n",
        "        payload[\"llmModelSettings\"] = {\"model\": new_model}\n",
        "        update_mask_fields.append(\"llmModelSettings.model\")\n",
        "\n",
        "    if new_language_code is not None:\n",
        "        payload[\"languageCode\"] = new_language_code\n",
        "        update_mask_fields.append(\"languageCode\")\n",
        "\n",
        "    if not payload:\n",
        "        print(\"No settings to update.\")\n",
        "        return\n",
        "\n",
        "    params = {\"updateMask\": \",\".join(update_mask_fields)}\n",
        "\n",
        "    try:\n",
        "        response = requests.patch(url, headers=headers, params=params, json=payload)\n",
        "        response.raise_for_status()  # Raise an exception for bad status codes\n",
        "        updated_settings = response.json()\n",
        "        print(\"Generative settings updated successfully:\")\n",
        "        print(json.dumps(updated_settings, indent=2))\n",
        "        return updated_settings\n",
        "    except requests.exceptions.RequestException as e:\n",
        "        print(f\"Error updating generative settings: {e}\")\n",
        "        if response is not None:\n",
        "            print(f\"Response status code: {response.status_code}\")\n",
        "            print(f\"Response body: {response.text}\")\n",
        "        return None\n",
        "\n",
        "# Example usage:\n",
        "update_generative_settings(new_model=\"gemini-2.0-flash-001\", new_language_code=\"en\")"
      ],
      "metadata": {
        "colab": {
          "base_uri": "https://localhost:8080/"
        },
        "id": "k7sL_sKIr2rk",
        "outputId": "0d89c85b-efba-4312-ccfc-8fb91e4719ea"
      },
      "id": "k7sL_sKIr2rk",
      "execution_count": 6,
      "outputs": [
        {
          "output_type": "stream",
          "name": "stdout",
          "text": [
            "Generative settings updated successfully:\n",
            "{\n",
            "  \"languageCode\": \"en\",\n",
            "  \"name\": \"projects/qwiklabs-gcp-00-3304b06953f9/locations/us-east1/agents/3748b70e-c055-4f99-bf63-7b09ca60d06a/generativeSettings\",\n",
            "  \"llmModelSettings\": {\n",
            "    \"model\": \"gemini-2.0-flash-001\"\n",
            "  }\n",
            "}\n"
          ]
        },
        {
          "output_type": "execute_result",
          "data": {
            "text/plain": [
              "{'languageCode': 'en',\n",
              " 'name': 'projects/qwiklabs-gcp-00-3304b06953f9/locations/us-east1/agents/3748b70e-c055-4f99-bf63-7b09ca60d06a/generativeSettings',\n",
              " 'llmModelSettings': {'model': 'gemini-2.0-flash-001'}}"
            ]
          },
          "metadata": {},
          "execution_count": 6
        }
      ]
    },
    {
      "cell_type": "markdown",
      "source": [
        "### Test Your Agent\n",
        "When your Agent application is first created, there is a Default Generative Playbook created, which has no goal or instructions. However, you can still interact with it like a generic LLM model.\n",
        "\n",
        "One of the great aspects of AI Applications is that it automatically handles session management for you. All Agent Applications are immediately production-scalable and ready, because they are backed by production-grade, scalable Google infrastructure.\n",
        "\n",
        "Want to open your app to 100,000 users immediately? We've got you covered! And no extra work on your end.\n",
        "\n",
        "4. Run the following code snippet to generate a session id for your agent."
      ],
      "metadata": {
        "id": "11RMjwo4sTmT"
      },
      "id": "11RMjwo4sTmT"
    },
    {
      "cell_type": "code",
      "source": [
        "from dfcx_scrapi.core.sessions import Sessions\n",
        "s = Sessions()\n",
        "session_id = s.build_session_id(agent.name)\n",
        "session_id"
      ],
      "metadata": {
        "colab": {
          "base_uri": "https://localhost:8080/",
          "height": 35
        },
        "id": "os1RAxPvsEkH",
        "outputId": "f2efc4d6-0153-4423-f0af-e31d4f0abd52"
      },
      "id": "os1RAxPvsEkH",
      "execution_count": 7,
      "outputs": [
        {
          "output_type": "execute_result",
          "data": {
            "text/plain": [
              "'projects/qwiklabs-gcp-00-3304b06953f9/locations/us-east1/agents/3748b70e-c055-4f99-bf63-7b09ca60d06a/sessions/cad197b2-e380-4713-88f5-07192d366d8e'"
            ],
            "application/vnd.google.colaboratory.intrinsic+json": {
              "type": "string"
            }
          },
          "metadata": {},
          "execution_count": 7
        }
      ]
    },
    {
      "cell_type": "markdown",
      "source": [
        "5. Now, use the session id, along with the agent's name and a user prompt, to detect the intent."
      ],
      "metadata": {
        "id": "ryDfHbZMsbvk"
      },
      "id": "ryDfHbZMsbvk"
    },
    {
      "cell_type": "code",
      "source": [
        "res = s.detect_intent(agent.name, session_id, \"hey, how are you?\")\n",
        "s.parse_result(res)"
      ],
      "metadata": {
        "colab": {
          "base_uri": "https://localhost:8080/",
          "height": 70
        },
        "id": "xzY6bvJOsYoB",
        "outputId": "6e5164db-b6aa-4316-adb9-5aba8ac7c840"
      },
      "id": "xzY6bvJOsYoB",
      "execution_count": 9,
      "outputs": [
        {
          "output_type": "display_data",
          "data": {
            "text/plain": [
              "<IPython.core.display.Markdown object>"
            ],
            "text/markdown": "<font color='green'><b> USER QUERY:</font></b> hey, how are you?"
          },
          "metadata": {}
        },
        {
          "output_type": "display_data",
          "data": {
            "text/plain": [
              "<IPython.core.display.Markdown object>"
            ],
            "text/markdown": "<font color='green'><b>AGENT RESPONSE:</font></b> I am doing well, thank you for asking. How can I help you today?\n"
          },
          "metadata": {}
        }
      ]
    },
    {
      "cell_type": "markdown",
      "source": [
        "6. Use a different user query to test the agent response."
      ],
      "metadata": {
        "id": "VbDusfPwssn8"
      },
      "id": "VbDusfPwssn8"
    },
    {
      "cell_type": "code",
      "source": [
        " res = s.detect_intent(agent.name, session_id, \"what kind of models do you have?\")\n",
        " s.parse_result(res)"
      ],
      "metadata": {
        "colab": {
          "base_uri": "https://localhost:8080/",
          "height": 87
        },
        "id": "GEcN2-FmsfJs",
        "outputId": "d39bc158-7837-4d6c-a9b1-00a4bc50a0ad"
      },
      "id": "GEcN2-FmsfJs",
      "execution_count": 10,
      "outputs": [
        {
          "output_type": "display_data",
          "data": {
            "text/plain": [
              "<IPython.core.display.Markdown object>"
            ],
            "text/markdown": "<font color='green'><b> USER QUERY:</font></b> what kind of models do you have?"
          },
          "metadata": {}
        },
        {
          "output_type": "display_data",
          "data": {
            "text/plain": [
              "<IPython.core.display.Markdown object>"
            ],
            "text/markdown": "<font color='green'><b>AGENT RESPONSE:</font></b> I do not have access to information about the specific models I use. I am a large language model, and I can assist you with various tasks. How can I help you today?\n"
          },
          "metadata": {}
        }
      ]
    },
    {
      "cell_type": "code",
      "source": [],
      "metadata": {
        "id": "TiAR58D3s0-T"
      },
      "id": "TiAR58D3s0-T",
      "execution_count": null,
      "outputs": []
    },
    {
      "cell_type": "markdown",
      "source": [
        "## Task 3. Update the Default Playbook\n",
        "Our Agent isn't very useful at this stage, so let's update the goal and instructions to do something more worthwhile. We'll first fetch the handy playbooks_map so we can easily reference IDs that are required by the API endpoints.\n",
        "\n",
        "1. To fetch the playbooks_map run the following code snippet."
      ],
      "metadata": {
        "id": "bFnJxKj7s1Xp"
      },
      "id": "bFnJxKj7s1Xp"
    },
    {
      "cell_type": "code",
      "source": [
        "from dfcx_scrapi.core.playbooks import Playbooks\n",
        "\n",
        "p = Playbooks(agent.name)\n",
        "\n",
        "playbooks_map = p.get_playbooks_map(agent.name, reverse=True)\n",
        "playbooks_map"
      ],
      "metadata": {
        "colab": {
          "base_uri": "https://localhost:8080/"
        },
        "id": "rxRu__gKsvK8",
        "outputId": "cf494703-242b-44a5-c960-96d944516dab"
      },
      "id": "rxRu__gKsvK8",
      "execution_count": 11,
      "outputs": [
        {
          "output_type": "execute_result",
          "data": {
            "text/plain": [
              "{'Default Generative Playbook': 'projects/qwiklabs-gcp-00-3304b06953f9/locations/us-east1/agents/3748b70e-c055-4f99-bf63-7b09ca60d06a/playbooks/00000000-0000-0000-0000-000000000000'}"
            ]
          },
          "metadata": {},
          "execution_count": 11
        }
      ]
    },
    {
      "cell_type": "markdown",
      "source": [
        "2. Running the code snippet below will show that no goals or instruction sets have been defined yet."
      ],
      "metadata": {
        "id": "jVOCYjsns_hI"
      },
      "id": "jVOCYjsns_hI"
    },
    {
      "cell_type": "code",
      "source": [
        "playbook = p.get_playbook(playbooks_map[\"Default Generative Playbook\"])\n",
        "print(f\"GOAL: {playbook.goal}\")\n",
        "print(f\"INSTRUCTIONS: {playbook.instruction}\")"
      ],
      "metadata": {
        "colab": {
          "base_uri": "https://localhost:8080/"
        },
        "id": "J27TmeJjs5tY",
        "outputId": "9175797a-44dd-46c1-e98d-589992fb695e"
      },
      "id": "J27TmeJjs5tY",
      "execution_count": 13,
      "outputs": [
        {
          "output_type": "stream",
          "name": "stdout",
          "text": [
            "GOAL: Default goal\n",
            "INSTRUCTIONS: \n"
          ]
        }
      ]
    },
    {
      "cell_type": "markdown",
      "source": [
        "3. Run the below code snippet to provide a simple goal and instruction set to get started."
      ],
      "metadata": {
        "id": "DmxgFSs-tIqI"
      },
      "id": "DmxgFSs-tIqI"
    },
    {
      "cell_type": "code",
      "source": [
        "playbook = p.update_playbook(\n",
        "    playbooks_map[\"Default Generative Playbook\"],\n",
        "    goal=\"You are a friendly Tesla service center agent.\\nYour job is to help users book appointments and answer any questions they have.\",\n",
        "    instructions=[\"Greet the user.\", \"Answer any questions the have to the best of your ability.\"]\n",
        "    )\n",
        "\n",
        "print(f\"GOAL: {playbook.goal}\")\n",
        "print(f\"INSTRUCTIONS: {playbook.instruction}\")"
      ],
      "metadata": {
        "colab": {
          "base_uri": "https://localhost:8080/"
        },
        "id": "nuInwcs1s7pX",
        "outputId": "ba26458f-3598-4ad2-d954-018ebec147ce"
      },
      "id": "nuInwcs1s7pX",
      "execution_count": 14,
      "outputs": [
        {
          "output_type": "stream",
          "name": "stdout",
          "text": [
            "GOAL: You are a friendly Tesla service center agent.\n",
            "Your job is to help users book appointments and answer any questions they have.\n",
            "INSTRUCTIONS: steps {\n",
            "  text: \"Greet the user.\"\n",
            "}\n",
            "steps {\n",
            "  text: \"Answer any questions the have to the best of your ability.\"\n",
            "}\n",
            "\n"
          ]
        }
      ]
    },
    {
      "cell_type": "markdown",
      "source": [
        "### Test Agent Again\n",
        "\n",
        "4. Now that we've updated the goal and instruction set, let's see how our Agent application reacts."
      ],
      "metadata": {
        "id": "xHpiDSA9tlXQ"
      },
      "id": "xHpiDSA9tlXQ"
    },
    {
      "cell_type": "code",
      "source": [
        "from dfcx_scrapi.core.sessions import Sessions\n",
        "\n",
        "s = Sessions()\n",
        "\n",
        "session_id = s.build_session_id(agent.name)\n",
        "res = s.detect_intent(agent.name, session_id, \"what kind of models do you have?\")\n",
        "s.parse_result(res)"
      ],
      "metadata": {
        "colab": {
          "base_uri": "https://localhost:8080/",
          "height": 70
        },
        "id": "q8aBAR-OtKhg",
        "outputId": "ff8ce30a-d2b9-44ff-fab0-0628cecd87fe"
      },
      "id": "q8aBAR-OtKhg",
      "execution_count": 16,
      "outputs": [
        {
          "output_type": "display_data",
          "data": {
            "text/plain": [
              "<IPython.core.display.Markdown object>"
            ],
            "text/markdown": "<font color='green'><b> USER QUERY:</font></b> what kind of models do you have?"
          },
          "metadata": {}
        },
        {
          "output_type": "display_data",
          "data": {
            "text/plain": [
              "<IPython.core.display.Markdown object>"
            ],
            "text/markdown": "<font color='green'><b>AGENT RESPONSE:</font></b> I am sorry, I do not have the ability to provide information on Tesla models. I can only help with booking appointments.\n"
          },
          "metadata": {}
        }
      ]
    },
    {
      "cell_type": "code",
      "source": [],
      "metadata": {
        "id": "rfDRjQBEuAcU"
      },
      "id": "rfDRjQBEuAcU",
      "execution_count": null,
      "outputs": []
    },
    {
      "cell_type": "markdown",
      "source": [
        "## Task 4. Create Tools\n",
        "Tools allow your Agent to interact with the outside world.\n",
        "\n",
        "There are 3 primary tool types that you can use:\n",
        "\n",
        "- OpenAPI Spec\n",
        "- Functions\n",
        "- Data Stores\n",
        "\n",
        "In this section, we'll create an OpenAPI Spec tool that can do the following:\n",
        "\n",
        "- Find the weather using the National Weather Service Web API.\n",
        "\n",
        "For more information, see Vertex Agents Tools.\n",
        "\n",
        "### Deploy Cloud Run Endpoints\n",
        "Using the following code snippets, deploy a Cloud Run Endpoint to call the National Weather Service API.\n",
        "\n",
        "1. Create the get_weather directory and navigate to it."
      ],
      "metadata": {
        "id": "J2BR90FJuAl4"
      },
      "id": "J2BR90FJuAl4"
    },
    {
      "cell_type": "code",
      "source": [
        "%mkdir get_weather\n",
        "%cd get_weather"
      ],
      "metadata": {
        "colab": {
          "base_uri": "https://localhost:8080/"
        },
        "id": "BdX0yQKmtqAN",
        "outputId": "dc022971-8d2d-4bdc-9331-7964b120e934"
      },
      "id": "BdX0yQKmtqAN",
      "execution_count": 17,
      "outputs": [
        {
          "output_type": "stream",
          "name": "stdout",
          "text": [
            "/content/get_weather\n"
          ]
        }
      ]
    },
    {
      "cell_type": "markdown",
      "source": [
        "2. Create the file named requirements.txt and define required dependencies in to it"
      ],
      "metadata": {
        "id": "ciRuZS9BuRG9"
      },
      "id": "ciRuZS9BuRG9"
    },
    {
      "cell_type": "code",
      "source": [
        "%%writefile requirements.txt\n",
        "functions-framework==3.*\n",
        "firebase-admin==6.2.*\n",
        "firebase-functions\n",
        "requests==2.*"
      ],
      "metadata": {
        "colab": {
          "base_uri": "https://localhost:8080/"
        },
        "id": "2Fk5dJP7uMNX",
        "outputId": "206ba22a-d6ed-4d56-fa66-a62ca7f51b4d"
      },
      "id": "2Fk5dJP7uMNX",
      "execution_count": 18,
      "outputs": [
        {
          "output_type": "stream",
          "name": "stdout",
          "text": [
            "Writing requirements.txt\n"
          ]
        }
      ]
    },
    {
      "cell_type": "markdown",
      "source": [
        "3. Run the following code snippet to create the main.py file to call the National Weather Service API and use the get_weather directory configurations to create the Cloud Run named get_weather_fun."
      ],
      "metadata": {
        "id": "DQfW9bJ1uU9k"
      },
      "id": "DQfW9bJ1uU9k"
    },
    {
      "cell_type": "code",
      "source": [
        "!wget https://raw.githubusercontent.com/GoogleCloudPlatform/dfcx-scrapi/main/data/get_weather_tool.py\n",
        "!mv get_weather_tool.py main.py\n",
        "!gcloud config set project $PROJECT_ID\n",
        "!gcloud functions deploy get_weather_fun --region \"us-east1\" --runtime python311 --trigger-http --entry-point main --no-allow-unauthenticated --gen2"
      ],
      "metadata": {
        "colab": {
          "base_uri": "https://localhost:8080/"
        },
        "id": "tYwJPY7VuS7g",
        "outputId": "64f944f4-ea35-4fc5-8ad3-96629ea2131b"
      },
      "id": "tYwJPY7VuS7g",
      "execution_count": 20,
      "outputs": [
        {
          "output_type": "stream",
          "name": "stdout",
          "text": [
            "--2025-07-12 22:20:58--  https://raw.githubusercontent.com/GoogleCloudPlatform/dfcx-scrapi/main/data/get_weather_tool.py\n",
            "Resolving raw.githubusercontent.com (raw.githubusercontent.com)... 185.199.108.133, 185.199.109.133, 185.199.110.133, ...\n",
            "Connecting to raw.githubusercontent.com (raw.githubusercontent.com)|185.199.108.133|:443... connected.\n",
            "HTTP request sent, awaiting response... 200 OK\n",
            "Length: 1863 (1.8K) [text/plain]\n",
            "Saving to: ‘get_weather_tool.py’\n",
            "\n",
            "\rget_weather_tool.py   0%[                    ]       0  --.-KB/s               \rget_weather_tool.py 100%[===================>]   1.82K  --.-KB/s    in 0s      \n",
            "\n",
            "2025-07-12 22:20:58 (25.8 MB/s) - ‘get_weather_tool.py’ saved [1863/1863]\n",
            "\n",
            "Updated property [core/project].\n",
            "You can view your function in the Cloud Console here: https://console.cloud.google.com/functions/details/us-east1/get_weather_fun?project=qwiklabs-gcp-00-3304b06953f9\n",
            "\n",
            "buildConfig:\n",
            "  automaticUpdatePolicy: {}\n",
            "  build: projects/477457719226/locations/us-east1/builds/42e63455-c7d7-43c5-b0a1-7523910a5226\n",
            "  dockerRegistry: ARTIFACT_REGISTRY\n",
            "  dockerRepository: projects/qwiklabs-gcp-00-3304b06953f9/locations/us-east1/repositories/gcf-artifacts\n",
            "  entryPoint: main\n",
            "  runtime: python311\n",
            "  serviceAccount: projects/qwiklabs-gcp-00-3304b06953f9/serviceAccounts/477457719226-compute@developer.gserviceaccount.com\n",
            "  source:\n",
            "    storageSource:\n",
            "      bucket: gcf-v2-sources-477457719226-us-east1\n",
            "      generation: '1752358865418025'\n",
            "      object: get_weather_fun/function-source.zip\n",
            "  sourceProvenance:\n",
            "    resolvedStorageSource:\n",
            "      bucket: gcf-v2-sources-477457719226-us-east1\n",
            "      generation: '1752358865418025'\n",
            "      object: get_weather_fun/function-source.zip\n",
            "createTime: '2025-07-12T22:21:05.999523045Z'\n",
            "environment: GEN_2\n",
            "labels:\n",
            "  deployment-tool: cli-gcloud\n",
            "name: projects/qwiklabs-gcp-00-3304b06953f9/locations/us-east1/functions/get_weather_fun\n",
            "satisfiesPzi: true\n",
            "serviceConfig:\n",
            "  allTrafficOnLatestRevision: true\n",
            "  availableCpu: '0.1666'\n",
            "  availableMemory: 256M\n",
            "  environmentVariables:\n",
            "    LOG_EXECUTION_ID: 'true'\n",
            "  ingressSettings: ALLOW_ALL\n",
            "  maxInstanceCount: 5\n",
            "  maxInstanceRequestConcurrency: 1\n",
            "  revision: get-weather-fun-00001-hof\n",
            "  service: projects/qwiklabs-gcp-00-3304b06953f9/locations/us-east1/services/get-weather-fun\n",
            "  serviceAccountEmail: 477457719226-compute@developer.gserviceaccount.com\n",
            "  timeoutSeconds: 60\n",
            "  uri: https://get-weather-fun-tmddkae5ja-ue.a.run.app\n",
            "state: ACTIVE\n",
            "updateTime: '2025-07-12T22:22:57.385134271Z'\n",
            "url: https://us-east1-qwiklabs-gcp-00-3304b06953f9.cloudfunctions.net/get_weather_fun\n"
          ]
        }
      ]
    },
    {
      "cell_type": "markdown",
      "source": [
        "Note down the URI for your deployed Cloud Run, highlighted in the output image above. You can also view the URI in the Cloud Run console.\n",
        "\n",
        "### Define OpenAPI Specs\n",
        "4. Run the following code snippet to define the OpenAPI specification with the Cloud Run Endpoint. Before proceeding, make sure you replace the URL in the get_weather_spec with the CLOUD RUN ENDPOINT that you just deployed!\n",
        "\n",
        "**Note:** Be sure to replace YOUR_CLOUD_RUN_ENDPOINT with the URI for your Cloud Run service, as mentioned in the last step."
      ],
      "metadata": {
        "id": "rvlrlEy5u3PX"
      },
      "id": "rvlrlEy5u3PX"
    },
    {
      "cell_type": "code",
      "source": [
        "get_weather_spec = \"\"\"\n",
        "openapi: 3.0.0\n",
        "info:\n",
        "  title: get_weather\n",
        "  version: 1.0.0\n",
        "\n",
        "servers:\n",
        "  - url: https://get-weather-fun-tmddkae5ja-ue.a.run.app\n",
        "\n",
        "paths:\n",
        "  /get_weather_grid:\n",
        "    get:\n",
        "      summary: Returns the current grid information for a city and state\n",
        "      operationId: get_weather_grid\n",
        "      parameters:\n",
        "        - name: latitude\n",
        "          in: query\n",
        "          required: true\n",
        "          schema:\n",
        "            type: string\n",
        "        - name: longitude\n",
        "          in: query\n",
        "          required: true\n",
        "          schema:\n",
        "            type: string\n",
        "      responses:\n",
        "        '200':\n",
        "          description: OK\n",
        "          content:\n",
        "            application/json:\n",
        "              schema:\n",
        "                type: object\n",
        "                properties:\n",
        "                  data:\n",
        "                    type: string\n",
        "\"\"\""
      ],
      "metadata": {
        "id": "luDMT7l6uXd-"
      },
      "id": "luDMT7l6uXd-",
      "execution_count": 21,
      "outputs": []
    },
    {
      "cell_type": "markdown",
      "source": [
        "### Call Create Tools\n",
        "For creating the OpenAPI Spec tool, we'll use the build_open_api_tool helper method to create the proper Tool object, then pass it to the create_tool method and capture the result.\n",
        "\n",
        "5. Run the following code snippet to create the tool."
      ],
      "metadata": {
        "id": "xVnfLk0avStw"
      },
      "id": "xVnfLk0avStw"
    },
    {
      "cell_type": "code",
      "source": [
        "from dfcx_scrapi.core.tools import Tools\n",
        "\n",
        "t = Tools()\n",
        "\n",
        "# Tool 1 - get_weather\n",
        "weather_tool = t.build_open_api_tool(\n",
        "    \"get_weather_fun\",\n",
        "    spec=get_weather_spec,\n",
        "    description=\"Get the current weather for the provided city.\"\n",
        "    )\n",
        "tool1 = t.create_tool(agent.name, weather_tool)\n",
        "print(str(tool1).lower())\n"
      ],
      "metadata": {
        "colab": {
          "base_uri": "https://localhost:8080/"
        },
        "id": "JZBhW7F8vOHs",
        "outputId": "4cf8454f-2981-44c4-e32e-f48bc9453498"
      },
      "id": "JZBhW7F8vOHs",
      "execution_count": 22,
      "outputs": [
        {
          "output_type": "stream",
          "name": "stdout",
          "text": [
            "name: \"projects/qwiklabs-gcp-00-3304b06953f9/locations/us-east1/agents/3748b70e-c055-4f99-bf63-7b09ca60d06a/tools/57c16e34-f020-4730-a592-5cf2c7105cfd\"\n",
            "display_name: \"get_weather_fun\"\n",
            "description: \"get the current weather for the provided city.\"\n",
            "open_api_spec {\n",
            "  text_schema: \"\\nopenapi: 3.0.0\\ninfo:\\n  title: get_weather\\n  version: 1.0.0\\n\\nservers:\\n  - url: https://get-weather-fun-tmddkae5ja-ue.a.run.app\\n\\npaths:\\n  /get_weather_grid:\\n    get:\\n      summary: returns the current grid information for a city and state\\n      operationid: get_weather_grid\\n      parameters:\\n        - name: latitude\\n          in: query\\n          required: true\\n          schema:\\n            type: string\\n        - name: longitude\\n          in: query\\n          required: true\\n          schema:\\n            type: string\\n      responses:\\n        \\'200\\':\\n          description: ok\\n          content:\\n            application/json:\\n              schema:\\n                type: object\\n                properties:\\n                  data:\\n                    type: string\\n\"\n",
            "}\n",
            "tool_type: customized_tool\n",
            "\n"
          ]
        }
      ]
    },
    {
      "cell_type": "code",
      "source": [],
      "metadata": {
        "id": "4wV3hH00vgCy"
      },
      "id": "4wV3hH00vgCy",
      "execution_count": null,
      "outputs": []
    },
    {
      "cell_type": "markdown",
      "source": [
        "## Task 5. Create Weather Agent\n",
        "Now that we have one new tool named get_weather_fun to work with, let's apply them to a new Agent in our application."
      ],
      "metadata": {
        "id": "JTwwRBClvgMO"
      },
      "id": "JTwwRBClvgMO"
    },
    {
      "cell_type": "code",
      "source": [
        " from dfcx_scrapi.core.playbooks import Playbooks\n",
        "\n",
        " p = Playbooks(agent_id=agent.name)\n",
        "\n",
        " instructions = [\n",
        "     \"Use the ${TOOL:get_weather_fun} to get the current city/state weather grid information.\",\n",
        "     \"- If the user only provides the city you can assume the state unless otherwise specified.\"]\n",
        "\n",
        " # New Playbook\n",
        " weather_agent = p.create_playbook(\n",
        "     agent.name,\n",
        "     display_name=\"Weather Agent\",\n",
        "     referenced_tools=[tool1.name],\n",
        "     goal=\"You are a senior weather advisor at a network broadcast station. Your job is to predict the weather!\",\n",
        "     instructions=instructions\n",
        " )\n",
        "\n",
        " playbooks_map = p.get_playbooks_map(agent.name, reverse=True)\n",
        " playbooks_map"
      ],
      "metadata": {
        "colab": {
          "base_uri": "https://localhost:8080/"
        },
        "id": "iIryzC5JvWHC",
        "outputId": "6e525db7-bcce-4c40-99b8-05bd6afa9cd5"
      },
      "id": "iIryzC5JvWHC",
      "execution_count": 23,
      "outputs": [
        {
          "output_type": "execute_result",
          "data": {
            "text/plain": [
              "{'Default Generative Playbook': 'projects/qwiklabs-gcp-00-3304b06953f9/locations/us-east1/agents/3748b70e-c055-4f99-bf63-7b09ca60d06a/playbooks/00000000-0000-0000-0000-000000000000',\n",
              " 'Weather Agent': 'projects/qwiklabs-gcp-00-3304b06953f9/locations/us-east1/agents/3748b70e-c055-4f99-bf63-7b09ca60d06a/playbooks/87ca0af5-060c-42ed-b1af-8d5702b19756'}"
            ]
          },
          "metadata": {},
          "execution_count": 23
        }
      ]
    },
    {
      "cell_type": "code",
      "source": [],
      "metadata": {
        "id": "h3BX5j-nv9kU"
      },
      "id": "h3BX5j-nv9kU",
      "execution_count": null,
      "outputs": []
    },
    {
      "cell_type": "markdown",
      "source": [
        "## Task 6. Chain Agents and Multi Turn Session\n",
        "In order for our Agents to work together properly, we need to chain them together and update the instruction set.\n",
        "\n",
        "Remember, our current architecture looks like this:\n",
        "\n",
        "- Default Generative Agent\n",
        "- Weather Agent\n",
        "\n",
        "These are mutually exclusive Agents that cannot interact yet.\n",
        "\n",
        "We want our architecture to look like this instead:\n",
        "\n",
        "- Default Generative Playbook -> Weather Agent\n",
        "\n",
        "1. In order to do this, let's update the instruction set on our Default Generative Playbook."
      ],
      "metadata": {
        "id": "dTSBv8wIv9sq"
      },
      "id": "dTSBv8wIv9sq"
    },
    {
      "cell_type": "code",
      "source": [
        "p.update_playbook(\n",
        "    playbooks_map[\"Default Generative Playbook\"],\n",
        "    instructions=[\"If the user needs help with the weather, call ${PLAYBOOK: Weather Agent}\"]\n",
        ")"
      ],
      "metadata": {
        "colab": {
          "base_uri": "https://localhost:8080/"
        },
        "id": "94qSq7oNviop",
        "outputId": "9a023cf4-2ecb-43a0-8f26-4e4d9f75225e"
      },
      "id": "94qSq7oNviop",
      "execution_count": 24,
      "outputs": [
        {
          "output_type": "execute_result",
          "data": {
            "text/plain": [
              "name: \"projects/qwiklabs-gcp-00-3304b06953f9/locations/us-east1/agents/3748b70e-c055-4f99-bf63-7b09ca60d06a/playbooks/00000000-0000-0000-0000-000000000000\"\n",
              "display_name: \"Default Generative Playbook\"\n",
              "goal: \"You are a friendly Tesla service center agent.\\nYour job is to help users book appointments and answer any questions they have.\"\n",
              "token_count: 93\n",
              "referenced_playbooks: \"projects/qwiklabs-gcp-00-3304b06953f9/locations/us-east1/agents/3748b70e-c055-4f99-bf63-7b09ca60d06a/playbooks/87ca0af5-060c-42ed-b1af-8d5702b19756\"\n",
              "instruction {\n",
              "  steps {\n",
              "    text: \"Greet the user.\"\n",
              "  }\n",
              "  steps {\n",
              "    text: \"Answer any questions the have to the best of your ability.\"\n",
              "  }\n",
              "  steps {\n",
              "    text: \"If the user needs help with the weather, call ${PLAYBOOK:Weather Agent}\"\n",
              "  }\n",
              "}"
            ]
          },
          "metadata": {},
          "execution_count": 24
        }
      ]
    },
    {
      "cell_type": "markdown",
      "source": [
        "### Test Agent Again\n",
        "2. With our Agents chained together, let's test with a new query about weather in a specific city!"
      ],
      "metadata": {
        "id": "b2BczOX1wQE1"
      },
      "id": "b2BczOX1wQE1"
    },
    {
      "cell_type": "code",
      "source": [
        "from dfcx_scrapi.core.sessions import Sessions\n",
        "\n",
        "s = Sessions()\n",
        "\n",
        "session_id = s.build_session_id(agent.name)\n",
        "res = s.detect_intent(agent.name, session_id, \"what is the weather like in Austin, Texas?\")\n",
        "s.parse_result(res)\n"
      ],
      "metadata": {
        "colab": {
          "base_uri": "https://localhost:8080/",
          "height": 70
        },
        "id": "F9N0ye6cwJdr",
        "outputId": "a9ebd442-a5fe-49a2-8c64-755cf64fe02e"
      },
      "id": "F9N0ye6cwJdr",
      "execution_count": 25,
      "outputs": [
        {
          "output_type": "display_data",
          "data": {
            "text/plain": [
              "<IPython.core.display.Markdown object>"
            ],
            "text/markdown": "<font color='green'><b> USER QUERY:</font></b> what is the weather like in Austin, Texas?"
          },
          "metadata": {}
        },
        {
          "output_type": "display_data",
          "data": {
            "text/plain": [
              "<IPython.core.display.Markdown object>"
            ],
            "text/markdown": "<font color='green'><b>AGENT RESPONSE:</font></b> Okay, I'm ready to provide a weather forecast for Austin, Texas. I will use the available tools to get the current weather grid information.\n"
          },
          "metadata": {}
        }
      ]
    },
    {
      "cell_type": "markdown",
      "source": [
        "### Multi Turn Session\n",
        "3. Example of a Multi Turn Session with some cleaner readability for colab testing."
      ],
      "metadata": {
        "id": "YQSmf_AAwZHz"
      },
      "id": "YQSmf_AAwZHz"
    },
    {
      "cell_type": "code",
      "source": [
        "session_id = s.build_session_id(agent.name)\n",
        "\n",
        "conversation = [\n",
        "    \"What colors does the model 3 come in?\",\n",
        "    \"What's the weather like in Boston right now? I'm thinking about walking to the Tesla dealership.\"\n",
        "    ]\n",
        "\n",
        "i = 1\n",
        "for utterance in conversation:\n",
        "  print(f\"\\n--- TURN {i} --- \\n\")\n",
        "  res = s.detect_intent(agent.name, session_id, utterance)\n",
        "  s.parse_result(res)\n",
        "  i+=1"
      ],
      "metadata": {
        "colab": {
          "base_uri": "https://localhost:8080/",
          "height": 244
        },
        "id": "9-4CZ5BuwTj4",
        "outputId": "d7d30c72-1fea-496d-d700-5a45b29a4269"
      },
      "id": "9-4CZ5BuwTj4",
      "execution_count": 26,
      "outputs": [
        {
          "output_type": "stream",
          "name": "stdout",
          "text": [
            "\n",
            "--- TURN 1 --- \n",
            "\n"
          ]
        },
        {
          "output_type": "display_data",
          "data": {
            "text/plain": [
              "<IPython.core.display.Markdown object>"
            ],
            "text/markdown": "<font color='green'><b> USER QUERY:</font></b> What colors does the model 3 come in?"
          },
          "metadata": {}
        },
        {
          "output_type": "display_data",
          "data": {
            "text/plain": [
              "<IPython.core.display.Markdown object>"
            ],
            "text/markdown": "<font color='green'><b>AGENT RESPONSE:</font></b> I do not have access to the Model 3 color options. I am here to help with booking appointments or answering questions about your existing Tesla services. Is there anything else I can help you with?\n"
          },
          "metadata": {}
        },
        {
          "output_type": "stream",
          "name": "stdout",
          "text": [
            "\n",
            "--- TURN 2 --- \n",
            "\n"
          ]
        },
        {
          "output_type": "display_data",
          "data": {
            "text/plain": [
              "<IPython.core.display.Markdown object>"
            ],
            "text/markdown": "<font color='green'><b> USER QUERY:</font></b> What's the weather like in Boston right now? I'm thinking about walking to the Tesla dealership."
          },
          "metadata": {}
        },
        {
          "output_type": "display_data",
          "data": {
            "text/plain": [
              "<IPython.core.display.Markdown object>"
            ],
            "text/markdown": "<font color='green'><b>AGENT RESPONSE:</font></b> I can help with that! I will need a latitude and longitude for Boston. Would you like me to look that up?\n"
          },
          "metadata": {}
        }
      ]
    },
    {
      "cell_type": "code",
      "source": [],
      "metadata": {
        "id": "iZe_ZLdxwb6Q"
      },
      "id": "iZe_ZLdxwb6Q",
      "execution_count": null,
      "outputs": []
    }
  ],
  "metadata": {
    "kernelspec": {
      "display_name": "Python 3",
      "language": "python",
      "name": "python3"
    },
    "language_info": {
      "codemirror_mode": {
        "name": "ipython",
        "version": 3
      },
      "file_extension": ".py",
      "mimetype": "text/x-python",
      "name": "python",
      "nbconvert_exporter": "python",
      "pygments_lexer": "ipython3",
      "version": "3.10.10"
    },
    "colab": {
      "provenance": [],
      "name": "student-01-1e1157f103f8 (Jul 12, 2025, 3:03:56 PM)"
    }
  },
  "nbformat": 4,
  "nbformat_minor": 5
}