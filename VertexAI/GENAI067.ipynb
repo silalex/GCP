{
 "cells": [
  {
   "cell_type": "markdown",
   "id": "1789f9f0",
   "metadata": {},
   "source": [
    "# Enhance Gemini with access to external services with function calling: Challenge Lab\n",
    "\n",
    "[Lab link](https://partner.cloudskillsboost.google/paths/2294/course_templates/1299/labs/532460)\n",
    "\n",
    "### Objective\n",
    "\n",
    "This lab tests your ability to implement the ReAct pattern by extending LLMs to access external information, such as databases, third party services and a coding environment. This lab uses the following technologies and Google Cloud services:\n",
    " - Vertex AI\n",
    " - Vertex AI Workbench\n",
    " - Gemini\n",
    " - Function Calling\n",
    "\n",
    "\n",
    "### Task 1. Open a Jupyter notebook in Vertex AI Workbench"
   ]
  },
  {
   "cell_type": "code",
   "execution_count": null,
   "id": "da53348d",
   "metadata": {},
   "outputs": [],
   "source": [
    "# install the required libraries:\n",
    "! pip3 install --upgrade --quiet --user google-cloud-aiplatform==1.88.0"
   ]
  },
  {
   "cell_type": "code",
   "execution_count": null,
   "id": "250c5b85",
   "metadata": {},
   "outputs": [],
   "source": [
    "# Restart kernel after installs so that your environment can access the new packages\n",
    "import IPython\n",
    "\n",
    "app = IPython.Application.instance()\n",
    "app.kernel.do_shutdown(True)\n"
   ]
  },
  {
   "cell_type": "code",
   "execution_count": null,
   "id": "fa3f9a1f",
   "metadata": {},
   "outputs": [],
   "source": [
    "# define project variables and initialize the Vertex AI SDK:\n",
    "import vertexai\n",
    "\n",
    "PROJECT_ID = ! gcloud config get-value project\n",
    "PROJECT_ID = PROJECT_ID[0]\n",
    "LOCATION = \"us-central1\"\n",
    "\n",
    "print(PROJECT_ID)\n",
    "\n",
    "vertexai.init(project=PROJECT_ID, location=LOCATION)"
   ]
  },
  {
   "cell_type": "code",
   "execution_count": null,
   "id": "fa9b1319",
   "metadata": {},
   "outputs": [],
   "source": [
    "# import the required libraries:\n",
    "import requests\n",
    "from vertexai.generative_models import (\n",
    "    Content,\n",
    "    FunctionDeclaration,\n",
    "    GenerationConfig,\n",
    "    GenerativeModel,\n",
    "    Part,\n",
    "    Tool,\n",
    ")"
   ]
  }
 ],
 "metadata": {
  "language_info": {
   "name": "python"
  }
 },
 "nbformat": 4,
 "nbformat_minor": 5
}
