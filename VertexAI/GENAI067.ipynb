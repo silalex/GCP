{
 "cells": [
  {
   "cell_type": "markdown",
   "id": "1789f9f0",
   "metadata": {},
   "source": [
    "# Enhance Gemini with access to external services with function calling: Challenge Lab\n",
    "\n",
    "[Lab link](https://partner.cloudskillsboost.google/paths/2294/course_templates/1299/labs/532460)\n",
    "\n",
    "### Objective\n",
    "\n",
    "This lab tests your ability to implement the ReAct pattern by extending LLMs to access external information, such as databases, third party services and a coding environment. This lab uses the following technologies and Google Cloud services:\n",
    " - Vertex AI\n",
    " - Vertex AI Workbench\n",
    " - Gemini\n",
    " - Function Calling\n",
    "\n",
    "\n",
    "### Task 1. Open a Jupyter notebook in Vertex AI Workbench"
   ]
  },
  {
   "cell_type": "code",
   "execution_count": null,
   "id": "da53348d",
   "metadata": {},
   "outputs": [],
   "source": [
    "# install the required libraries:\n",
    "! pip3 install --upgrade --quiet --user google-cloud-aiplatform==1.88.0"
   ]
  },
  {
   "cell_type": "code",
   "execution_count": null,
   "id": "250c5b85",
   "metadata": {},
   "outputs": [],
   "source": [
    "# Restart kernel after installs so that your environment can access the new packages\n",
    "import IPython\n",
    "\n",
    "app = IPython.Application.instance()\n",
    "app.kernel.do_shutdown(True)\n"
   ]
  },
  {
   "cell_type": "code",
   "execution_count": null,
   "id": "fa3f9a1f",
   "metadata": {},
   "outputs": [],
   "source": [
    "# define project variables and initialize the Vertex AI SDK:\n",
    "import vertexai\n",
    "\n",
    "PROJECT_ID = ! gcloud config get-value project\n",
    "PROJECT_ID = PROJECT_ID[0]\n",
    "LOCATION = \"us-central1\"\n",
    "\n",
    "print(PROJECT_ID)\n",
    "\n",
    "vertexai.init(project=PROJECT_ID, location=LOCATION)"
   ]
  },
  {
   "cell_type": "code",
   "execution_count": null,
   "id": "fa9b1319",
   "metadata": {},
   "outputs": [],
   "source": [
    "# import the required libraries:\n",
    "import requests\n",
    "from vertexai.generative_models import (\n",
    "    Content,\n",
    "    FunctionDeclaration,\n",
    "    GenerationConfig,\n",
    "    GenerativeModel,\n",
    "    Part,\n",
    "    Tool,\n",
    ")"
   ]
  },
  {
   "cell_type": "markdown",
   "id": "0f7f8c2e",
   "metadata": {},
   "source": [
    "### Task 2. Define functions in Python"
   ]
  },
  {
   "cell_type": "code",
   "execution_count": null,
   "id": "4ef2d522",
   "metadata": {},
   "outputs": [
    {
     "name": "stdout",
     "output_type": "stream",
     "text": [
      "Calling reverse function\n",
      "Original: 'hello', Reversed: 'olleh'\n",
      "Calling reverse function\n",
      "Original: 'Python', Reversed: 'nohtyP'\n",
      "Calling reverse function\n",
      "Original: 'level', Reversed: 'level'\n"
     ]
    }
   ],
   "source": [
    "# TODO: Define a function to reverse the order\n",
    "# of a string and return the result.\n",
    "# Keep the print statement within the function.\n",
    "def reverse(s: str) -> str:\n",
    "    \"\"\"\n",
    "    Reverses the order of a string using slicing.\n",
    "\n",
    "    Args:\n",
    "        s: The input string.\n",
    "\n",
    "    Returns:\n",
    "        The reversed string.\n",
    "    \"\"\"\n",
    "\n",
    "    print(\"Calling reverse function\")\n",
    "\n",
    "    return s[::-1]\n",
    "\n",
    "# Example Usage:\n",
    "print(f\"Original: 'hello', Reversed: '{reverse('hello')}'\")\n",
    "print(f\"Original: 'Python', Reversed: '{reverse('Python')}'\")\n",
    "print(f\"Original: 'level', Reversed: '{reverse('level')}'\")"
   ]
  },
  {
   "cell_type": "code",
   "execution_count": 2,
   "id": "df1ff99f",
   "metadata": {},
   "outputs": [
    {
     "name": "stdout",
     "output_type": "stream",
     "text": [
      "\n",
      "--- Example 1 ---\n",
      "Calling remove_white_spaces function\n",
      "Original: '  Hello   World!  ', Without Whitespace: 'HelloWorld!'\n",
      "\n",
      "--- Example 2 ---\n",
      "Calling remove_white_spaces function\n",
      "Original: '  This\tis a\n",
      "multi-line  string with   various\twhitespace.  ', Without Whitespace: 'Thisisamulti-linestringwithvariouswhitespace.'\n",
      "\n",
      "--- Example 3 ---\n",
      "Calling remove_white_spaces function\n",
      "Original: 'NoWhitespaceHere', Without Whitespace: 'NoWhitespaceHere'\n"
     ]
    }
   ],
   "source": [
    "# TODO: Define a function to remove white space\n",
    "# characters from a string and return the result.\n",
    "# Keep the print statement within the function.\n",
    "def remove_white_spaces(s: str) -> str:\n",
    "    \"\"\"\n",
    "    Removes all whitespace characters from a string.\n",
    "\n",
    "    Args:\n",
    "        s: The input string.\n",
    "\n",
    "    Returns:\n",
    "        The string with all whitespace characters removed.\n",
    "    \"\"\"\n",
    "    # Using split() without arguments splits by any whitespace and\n",
    "    # discards empty strings, then join() puts the non-whitespace parts back together.\n",
    "    cleaned_string = \"\".join(s.split())\n",
    "\n",
    "    print(\"Calling remove_white_spaces function\")\n",
    "\n",
    "    return cleaned_string\n",
    "\n",
    "# Example Usage:\n",
    "print(\"\\n--- Example 1 ---\")\n",
    "str1 = \"  Hello   World!  \"\n",
    "print(f\"Original: '{str1}', Without Whitespace: '{remove_white_spaces(str1)}'\")\n",
    "\n",
    "print(\"\\n--- Example 2 ---\")\n",
    "str2 = \"  This\\tis a\\nmulti-line  string with   various\\twhitespace.  \"\n",
    "print(f\"Original: '{str2}', Without Whitespace: '{remove_white_spaces(str2)}'\")\n",
    "\n",
    "print(\"\\n--- Example 3 ---\")\n",
    "str3 = \"NoWhitespaceHere\"\n",
    "print(f\"Original: '{str3}', Without Whitespace: '{remove_white_spaces(str3)}'\")"
   ]
  },
  {
   "cell_type": "code",
   "execution_count": null,
   "id": "ec75c26f",
   "metadata": {},
   "outputs": [],
   "source": [
    "# Create FunctionDeclarations for my functions:\n",
    "function_declarations_fd = FunctionDeclaration(\n",
    "    name=\"function_declarations\",\n",
    "    description=\"Reverses the order of characters in a given string and returns the reversed string.\",\n",
    "    parameters={\n",
    "        \"type\": \"object\",\n",
    "        \"properties\": {\n",
    "            \"reverse\": {\n",
    "                \"type\": \"string\",\n",
    "                \"description\": \"The input string to be reversed\"\n",
    "            },\n",
    "            \"remove_white_spaces\": {\n",
    "                \"type\": \"string\",\n",
    "                \"description\": \"Removes all whitespace characters (spaces, tabs, newlines, etc.) from a string and returns the cleaned string.\"\n",
    "            }\n",
    "        },\n",
    "        \"required\": [\n",
    "            \"reverse\",\n",
    "            \"remove_white_spaces\"\n",
    "        ]\n",
    "    },\n",
    ")"
   ]
  },
  {
   "cell_type": "code",
   "execution_count": null,
   "id": "1dee87bf",
   "metadata": {},
   "outputs": [],
   "source": [
    "# Define a tool with the reverse and remove_white_spaces functions\n",
    "my_tool = Tool(function_declarations=[function_declarations_fd])"
   ]
  },
  {
   "cell_type": "code",
   "execution_count": null,
   "id": "5ab60d38",
   "metadata": {},
   "outputs": [],
   "source": [
    "# Define the system instructions for the model:\n",
    "system_instruction = \"\"\"\n",
    "    - Fulfill the user's instructions, including telling jokes and random facts.\n",
    "    - If asked to reverse a string or remove whitespace, call the provided functions.\n",
    "    - You may call one function after the other if needed.\n",
    "    - Repeat the result to the user.\n",
    "    \"\"\""
   ]
  },
  {
   "cell_type": "code",
   "execution_count": null,
   "id": "c4f1a0e8",
   "metadata": {},
   "outputs": [],
   "source": [
    "# Define and initialize a model with gemini-2.0-flash-001, the tools, a temperature of 0, and system instructions:\n",
    "model = GenerativeModel(\n",
    "    model_name=\"gemini-2.0-flash-001\",\n",
    "    generation_config=GenerationConfig(temperature=0),\n",
    "    system_instruction=system_instruction,\n",
    "    tools=[my_tool]\n",
    ")"
   ]
  },
  {
   "cell_type": "code",
   "execution_count": null,
   "id": "eee2e71e",
   "metadata": {},
   "outputs": [],
   "source": [
    "# Start a chat session with the model.\n",
    "chat = model.start_chat()"
   ]
  },
  {
   "cell_type": "code",
   "execution_count": null,
   "id": "260b0da0",
   "metadata": {},
   "outputs": [],
   "source": [
    "# Define a function to handle the response from the model.\n",
    "\n",
    "def handle_response(response):\n",
    "\n",
    "    # If there is a function call then invoke it\n",
    "    # Otherwise print the response.\n",
    "    if response.candidates[0].function_calls:\n",
    "        function_call = response.candidates[0].function_calls[0]\n",
    "    else:\n",
    "        print(response.text)\n",
    "        return\n",
    "    \n",
    "    # IF the function_call requests your reverse function\n",
    "    # Extract the arguments to use in your function\n",
    "    # Call your function\n",
    "    # Send the result back to the chat session with the model\n",
    "    # Recursive call\n",
    "    if function_call.name == \"reverse\":\n",
    "        reverse(function_call.args[\"my-parameter\"])\n",
    "    \n",
    "    # the function_call requests your remove_white_spaces function\n",
    "    # Extract the arguments to use in your function\n",
    "    # Call your function\n",
    "    # Send the result back to the chat session with the model\n",
    "    # Make a recursive call of this handler function\n",
    "    elif function_call.name == \"remove_white_spaces\":\n",
    "        remove_white_spaces(function_call.args[\"my-parameter\"])\n",
    "    \n",
    "    else:\n",
    "        # You shouldn't end up here\n",
    "        print(function_call)"
   ]
  }
 ],
 "metadata": {
  "kernelspec": {
   "display_name": "Python 3",
   "language": "python",
   "name": "python3"
  },
  "language_info": {
   "codemirror_mode": {
    "name": "ipython",
    "version": 3
   },
   "file_extension": ".py",
   "mimetype": "text/x-python",
   "name": "python",
   "nbconvert_exporter": "python",
   "pygments_lexer": "ipython3",
   "version": "3.10.11"
  }
 },
 "nbformat": 4,
 "nbformat_minor": 5
}
