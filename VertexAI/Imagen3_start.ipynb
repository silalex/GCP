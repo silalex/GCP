{
 "cells": [
  {
   "cell_type": "markdown",
   "id": "f19470c5",
   "metadata": {},
   "source": [
    "### Install Google Gen AI SDK for Python\n",
    "\n",
    "Original Notebook: https://github.com/GoogleCloudPlatform/generative-ai/blob/main/vision/getting-started/imagen3_image_generation.ipynb"
   ]
  },
  {
   "cell_type": "code",
   "execution_count": 2,
   "id": "dff2581c",
   "metadata": {},
   "outputs": [
    {
     "name": "stdout",
     "output_type": "stream",
     "text": [
      "Note: you may need to restart the kernel to use updated packages.\n"
     ]
    }
   ],
   "source": [
    "%pip install --upgrade --quiet google-genai"
   ]
  },
  {
   "cell_type": "markdown",
   "id": "5b47744e",
   "metadata": {},
   "source": [
    "### Import libraries"
   ]
  },
  {
   "cell_type": "code",
   "execution_count": null,
   "id": "638130c3",
   "metadata": {},
   "outputs": [],
   "source": [
    "from google import genai\n",
    "from google.genai import types"
   ]
  },
  {
   "cell_type": "markdown",
   "id": "34e82ddf",
   "metadata": {},
   "source": [
    "### Set Google Cloud project information and create client"
   ]
  },
  {
   "cell_type": "code",
   "execution_count": null,
   "id": "2bd517d7",
   "metadata": {},
   "outputs": [],
   "source": [
    "import os\n",
    "\n",
    "PROJECT_ID = \"qwiklabs-gcp-01-0d6b2722f8ad\"  # @param {type: \"string\", placeholder: \"[your-project-id]\", isTemplate: true}\n",
    "if not PROJECT_ID or PROJECT_ID == \"[your-project-id]\":\n",
    "    PROJECT_ID = str(os.environ.get(\"GOOGLE_CLOUD_PROJECT\"))\n",
    "\n",
    "LOCATION = os.environ.get(\"GOOGLE_CLOUD_REGION\", \"us-central1\")\n",
    "\n",
    "client = genai.Client(vertexai=True, project=PROJECT_ID, location=LOCATION)"
   ]
  },
  {
   "cell_type": "markdown",
   "id": "4281c131",
   "metadata": {},
   "source": [
    "### Define a helper function"
   ]
  },
  {
   "cell_type": "code",
   "execution_count": null,
   "id": "353fe533",
   "metadata": {},
   "outputs": [],
   "source": [
    "import typing\n",
    "\n",
    "import IPython.display\n",
    "from PIL import Image as PIL_Image\n",
    "from PIL import ImageOps as PIL_ImageOps\n",
    "\n",
    "\n",
    "def display_image(\n",
    "    image,\n",
    "    max_width: int = 600,\n",
    "    max_height: int = 350,\n",
    ") -> None:\n",
    "    pil_image = typing.cast(PIL_Image.Image, image._pil_image)\n",
    "    if pil_image.mode != \"RGB\":\n",
    "        # RGB is supported by all Jupyter environments (e.g. RGBA is not yet)\n",
    "        pil_image = pil_image.convert(\"RGB\")\n",
    "    image_width, image_height = pil_image.size\n",
    "    if max_width < image_width or max_height < image_height:\n",
    "        # Resize to display a smaller notebook image\n",
    "        pil_image = PIL_ImageOps.contain(pil_image, (max_width, max_height))\n",
    "    IPython.display.display(pil_image)"
   ]
  },
  {
   "cell_type": "markdown",
   "id": "06a73320",
   "metadata": {},
   "source": [
    "### Load the image generation models"
   ]
  },
  {
   "cell_type": "code",
   "execution_count": null,
   "id": "54dfc7f3",
   "metadata": {},
   "outputs": [],
   "source": [
    "generation_model = \"imagen-3.0-generate-002\"\n",
    "generation_model_fast = \"imagen-3.0-fast-generate-001\""
   ]
  },
  {
   "cell_type": "markdown",
   "id": "ad8296b4",
   "metadata": {},
   "source": [
    "### Imagen 3 & Imagen 3 Fast\n",
    "\n",
    "With Imagen 3, you also have the option to use Imagen 3 Fast. These two model options give you the choice to optimize for quality and latency, depending on your use case.\n",
    "\n",
    "Imagen 3: Generates high quality images with natural lighting and increased photorealism.\n",
    "\n",
    "Imagen 3 Fast: Suitable for creating brighter images with a higher contrast. Overall, you can see a 40% decrease in latency in Imagen 3 Fast compared to Imagen 2.\n",
    "\n",
    "With Imagen 3 and Imagen 3 Fast, you can also configure the aspect ratio to any of the following:\n",
    " - 1:1\n",
    " - 9:16\n",
    " - 16:9\n",
    " - 3:4\n",
    " - 4:3"
   ]
  },
  {
   "cell_type": "code",
   "execution_count": null,
   "id": "f998deaa",
   "metadata": {},
   "outputs": [],
   "source": [
    "import matplotlib.pyplot as plt\n",
    "\n",
    "prompt = \"\"\"\n",
    "a photorealistic image of the inside of an amethyst crystal on display in a museum\n",
    "\"\"\"\n",
    "\n",
    "# Imagen 3 image generation\n",
    "image = client.models.generate_images(\n",
    "    model=generation_model,\n",
    "    prompt=prompt,\n",
    "    config=types.GenerateImagesConfig(\n",
    "        number_of_images=1,\n",
    "        aspect_ratio=\"3:4\",\n",
    "        safety_filter_level=\"BLOCK_MEDIUM_AND_ABOVE\",\n",
    "        person_generation=\"DONT_ALLOW\",\n",
    "    ),\n",
    ")\n",
    "\n",
    "# Imagen 3 Fast image generation\n",
    "fast_image = client.models.generate_images(\n",
    "    model=generation_model_fast,\n",
    "    prompt=prompt,\n",
    "    config=types.GenerateImagesConfig(\n",
    "        number_of_images=1,\n",
    "        aspect_ratio=\"3:4\",\n",
    "        safety_filter_level=\"BLOCK_MEDIUM_AND_ABOVE\",\n",
    "        person_generation=\"DONT_ALLOW\",\n",
    "    ),\n",
    ")\n",
    "\n",
    "# Display generated images\n",
    "fig, axis = plt.subplots(1, 2, figsize=(12, 6))\n",
    "axis[0].imshow(image.generated_images[0].image._pil_image)\n",
    "axis[0].set_title(\"Imagen 3\")\n",
    "axis[1].imshow(fast_image.generated_images[0].image._pil_image)\n",
    "axis[1].set_title(\"Imagen 3 Fast\")\n",
    "for ax in axis:\n",
    "    ax.axis(\"off\")\n",
    "plt.show()"
   ]
  },
  {
   "cell_type": "markdown",
   "id": "f8add1c8",
   "metadata": {},
   "source": [
    "### Prompt rewriter\n",
    "\n",
    "The imagen-3.0-generate-002 model offers the option to enhance your provided prompt. To utilize this feature, set enhance_prompt to True. A new, detailed prompt will be created from your original one to help generate higher quality images."
   ]
  },
  {
   "cell_type": "code",
   "execution_count": null,
   "id": "dddcbb6c",
   "metadata": {},
   "outputs": [],
   "source": [
    "prompt = \"\"\"\n",
    "an art museum\n",
    "\"\"\"\n",
    "\n",
    "image = client.models.generate_images(\n",
    "    model=generation_model,\n",
    "    prompt=prompt,\n",
    "    config=types.GenerateImagesConfig(\n",
    "        number_of_images=1,\n",
    "        aspect_ratio=\"1:1\",\n",
    "        enhance_prompt=True,\n",
    "        safety_filter_level=\"BLOCK_MEDIUM_AND_ABOVE\",\n",
    "        person_generation=\"DONT_ALLOW\",\n",
    "    ),\n",
    ")\n",
    "\n",
    "# Print the enhanced prompt\n",
    "print(image.generated_images[0].enhanced_prompt)\n",
    "display_image(image.generated_images[0].image)"
   ]
  },
  {
   "cell_type": "markdown",
   "id": "83b8560a",
   "metadata": {},
   "source": [
    "--> OUTPUT:"
   ]
  },
  {
   "cell_type": "code",
   "execution_count": null,
   "id": "21fa769e",
   "metadata": {},
   "outputs": [],
   "source": [
    "'''\n",
    "ERR:\n",
    "---------------------------------------------------------------------------\n",
    "TypeError                                 Traceback (most recent call last)\n",
    "Cell In[8], line 18\n",
    "      5 image = client.models.generate_images(\n",
    "      6     model=generation_model,\n",
    "      7     prompt=prompt,\n",
    "   (...)\n",
    "     14     ),\n",
    "     15 )\n",
    "     17 # Print the enhanced prompt\n",
    "---> 18 print(image.generated_images[0].enhanced_prompt)\n",
    "     19 display_image(image.generated_images[0].image)\n",
    "\n",
    "TypeError: 'NoneType' object is not subscriptable\n",
    "'''"
   ]
  },
  {
   "cell_type": "markdown",
   "id": "7d5ce0f8",
   "metadata": {},
   "source": [
    "### Add image watermark"
   ]
  },
  {
   "cell_type": "code",
   "execution_count": null,
   "id": "0c9436d1",
   "metadata": {},
   "outputs": [],
   "source": [
    "prompt = \"\"\"\n",
    "a whimsical candy store\n",
    "\"\"\"\n",
    "\n",
    "image = client.models.generate_images(\n",
    "    model=generation_model,\n",
    "    prompt=prompt,\n",
    "    config=types.GenerateImagesConfig(\n",
    "        number_of_images=1,\n",
    "        aspect_ratio=\"1:1\",\n",
    "        enhance_prompt=True,\n",
    "        safety_filter_level=\"BLOCK_MEDIUM_AND_ABOVE\",\n",
    "        person_generation=\"DONT_ALLOW\",\n",
    "        add_watermark=True,\n",
    "    ),\n",
    ")\n",
    "\n",
    "# Print the enhanced prompt\n",
    "print(image.generated_images[0].enhanced_prompt)\n",
    "display_image(image.generated_images[0].image)"
   ]
  },
  {
   "cell_type": "code",
   "execution_count": null,
   "id": "bb77f072",
   "metadata": {},
   "outputs": [],
   "source": []
  }
 ],
 "metadata": {
  "kernelspec": {
   "display_name": "Python 3",
   "language": "python",
   "name": "python3"
  },
  "language_info": {
   "codemirror_mode": {
    "name": "ipython",
    "version": 3
   },
   "file_extension": ".py",
   "mimetype": "text/x-python",
   "name": "python",
   "nbconvert_exporter": "python",
   "pygments_lexer": "ipython3",
   "version": "3.10.11"
  }
 },
 "nbformat": 4,
 "nbformat_minor": 5
}
