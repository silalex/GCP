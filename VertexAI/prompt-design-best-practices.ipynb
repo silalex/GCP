{
 "cells": [
  {
   "cell_type": "markdown",
   "id": "3e7211a9",
   "metadata": {},
   "source": [
    "### Objective\n",
    "\n",
    "At a high level, these strategies all involve providing the model clear and specific instructions for what output it should produce. In this lab, you will:\n",
    "\n",
    "- Define the output format & specify constraints\n",
    "- Assign a persona or role\n",
    "- Include examples\n",
    "- Experiment with parameter values\n",
    "- Utilize fallback responses\n",
    "- Add contextual information\n",
    "- Structure prompts with prefixes or tags\n",
    "- Use system instructions\n",
    "- Break down complex tasks\n",
    "- Demonstrate the chain-of-thought\n",
    "- Implement prompt iteration strategies to improve your prompts version by version\n",
    "\n",
    "### Upgrade the Vertex AI SDK & Restart the Kernel"
   ]
  },
  {
   "cell_type": "code",
   "execution_count": null,
   "id": "050e73b9",
   "metadata": {},
   "outputs": [],
   "source": [
    "%pip install --upgrade --quiet google-cloud-aiplatform\n",
    "\n",
    "# note: Select Runtime > Restart Session > select Yes to restart the runtime."
   ]
  },
  {
   "cell_type": "code",
   "execution_count": null,
   "id": "0a19a7c6",
   "metadata": {},
   "outputs": [],
   "source": [
    "from inspect import cleandoc\n",
    "from IPython.display import display, Markdown\n",
    "\n",
    "import vertexai\n",
    "from vertexai.generative_models import GenerativeModel, GenerationConfig"
   ]
  },
  {
   "cell_type": "markdown",
   "id": "6720d1b2",
   "metadata": {},
   "source": [
    "### Import packages"
   ]
  },
  {
   "cell_type": "code",
   "execution_count": null,
   "id": "dc2e2f84",
   "metadata": {},
   "outputs": [],
   "source": [
    "PROJECT_ID = \"qwiklabs-gcp-03-f2605c9303f1\"  \n",
    "LOCATION = \"us-central1\"\n",
    "import vertexai\n",
    "vertexai.init(project=PROJECT_ID, location=LOCATION)"
   ]
  },
  {
   "cell_type": "code",
   "execution_count": null,
   "id": "2c2ef308",
   "metadata": {},
   "outputs": [],
   "source": []
  }
 ],
 "metadata": {
  "language_info": {
   "name": "python"
  }
 },
 "nbformat": 4,
 "nbformat_minor": 5
}
