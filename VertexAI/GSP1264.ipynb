{
 "cells": [
  {
   "cell_type": "markdown",
   "id": "75a2d348",
   "metadata": {},
   "source": [
    "# Getting Started with Google Search as a Tool with Gemini in Vertex AI\n",
    "\n",
    "https://github.com/GoogleCloudPlatform/generative-ai/blob/main/gemini/grounding/intro-grounding-gemini.ipynb\n",
    "\n",
    "### Set up the notebook"
   ]
  },
  {
   "cell_type": "markdown",
   "id": "997effd0",
   "metadata": {},
   "source": []
  },
  {
   "cell_type": "code",
   "execution_count": null,
   "id": "51d6acba",
   "metadata": {},
   "outputs": [],
   "source": [
    "# 1. Install Google Gen AI SDK for Python\n",
    "# Install the following packages required to execute this notebook.\n",
    "\n",
    "%pip install --upgrade --quiet google-genai\n",
    "\n",
    "# Restart runtime\n",
    "# To use the newly installed packages in this Jupyter runtime, you must restart the runtime. You can do this by running the cell below, which will restart the current kernel.\n",
    "\n",
    "import IPython\n",
    "​\n",
    "app = IPython.Application.instance()\n",
    "app.kernel.do_shutdown(True)\n",
    "\n",
    "# -->⚠️ The kernel is going to restart. Please wait until it is finished before continuing to the next step. ⚠️\n",
    "\n",
    "\n",
    "# 2. Authenticate your Google Cloud account\n",
    "# If you are running this notebook on Google Colab, you will need to authenticate your environment. To do this, run the new cell below. This step is not required if you are using Vertex AI Workbench.\n",
    "\n",
    "import sys\n",
    "​\n",
    "if \"google.colab\" in sys.modules:\n",
    "    # Authenticate user to Google Cloud\n",
    "    from google.colab import auth\n",
    "​\n",
    "    auth.authenticate_user()"
   ]
  },
  {
   "cell_type": "code",
   "execution_count": null,
   "id": "5d1f94bf",
   "metadata": {},
   "outputs": [],
   "source": []
  }
 ],
 "metadata": {
  "language_info": {
   "name": "python"
  }
 },
 "nbformat": 4,
 "nbformat_minor": 5
}
