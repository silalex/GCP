{
 "cells": [
  {
   "cell_type": "markdown",
   "id": "75a2d348",
   "metadata": {},
   "source": [
    "# Getting Started with Google Search as a Tool with Gemini in Vertex AI\n",
    "\n",
    "https://github.com/GoogleCloudPlatform/generative-ai/blob/main/gemini/grounding/intro-grounding-gemini.ipynb\n",
    "\n",
    "### Set up the notebook"
   ]
  },
  {
   "cell_type": "markdown",
   "id": "997effd0",
   "metadata": {},
   "source": []
  },
  {
   "cell_type": "code",
   "execution_count": null,
   "id": "51d6acba",
   "metadata": {},
   "outputs": [],
   "source": [
    "# 1. Install Google Gen AI SDK for Python\n",
    "# Install the following packages required to execute this notebook.\n",
    "\n",
    "%pip install --upgrade --quiet google-genai\n",
    "\n",
    "# Restart runtime\n",
    "# To use the newly installed packages in this Jupyter runtime, you must restart the runtime. You can do this by running the cell below, which will restart the current kernel.\n",
    "\n",
    "import IPython\n",
    "​\n",
    "app = IPython.Application.instance()\n",
    "app.kernel.do_shutdown(True)\n",
    "\n",
    "# -->⚠️ The kernel is going to restart. Please wait until it is finished before continuing to the next step. ⚠️\n",
    "\n",
    "\n",
    "# 2. Authenticate your Google Cloud account\n",
    "# If you are running this notebook on Google Colab, you will need to authenticate your environment. To do this, run the new cell below. This step is not required if you are using Vertex AI Workbench.\n",
    "\n",
    "import sys\n",
    "​\n",
    "if \"google.colab\" in sys.modules:\n",
    "    # Authenticate user to Google Cloud\n",
    "    from google.colab import auth\n",
    "​\n",
    "    auth.authenticate_user()"
   ]
  },
  {
   "cell_type": "markdown",
   "id": "cc1bcff1",
   "metadata": {},
   "source": [
    "### Set Google Cloud project information and create client"
   ]
  },
  {
   "cell_type": "code",
   "execution_count": null,
   "id": "5d1f94bf",
   "metadata": {},
   "outputs": [],
   "source": [
    "# Define project information\n",
    "PROJECT_ID = \"qwiklabs-gcp-00-3e05f4fe2c5f\"  # @param {type:\"string\"}\n",
    "LOCATION = \"us-west1\"  # @param {type:\"string\"}\n",
    "\n",
    "# Create the API client\n",
    "from google import genai\n",
    "client = genai.Client(vertexai=True, project=PROJECT_ID, location=LOCATION)"
   ]
  },
  {
   "cell_type": "markdown",
   "id": "05da25eb",
   "metadata": {},
   "source": [
    "### Import libraries"
   ]
  },
  {
   "cell_type": "code",
   "execution_count": null,
   "id": "fb79add9",
   "metadata": {},
   "outputs": [],
   "source": [
    "from IPython.display import Markdown, display\n",
    "from google.genai.types import (\n",
    "    ApiKeyConfig,\n",
    "    AuthConfig,\n",
    "    EnterpriseWebSearch,\n",
    "    GenerateContentConfig,\n",
    "    GenerateContentResponse,\n",
    "    GoogleMaps,\n",
    "    GoogleSearch,\n",
    "    LatLng,\n",
    "    Part,\n",
    "    Retrieval,\n",
    "    RetrievalConfig,\n",
    "    Tool,\n",
    "    ToolConfig,\n",
    "    VertexAISearch,\n",
    ")"
   ]
  }
 ],
 "metadata": {
  "language_info": {
   "name": "python"
  }
 },
 "nbformat": 4,
 "nbformat_minor": 5
}
