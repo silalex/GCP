{
 "cells": [
  {
   "cell_type": "markdown",
   "id": "168f1503",
   "metadata": {},
   "source": [
    "# Task 2. Set up the notebook\n",
    "#### Install Google Gen AI SDK"
   ]
  },
  {
   "cell_type": "markdown",
   "id": "acf574c9",
   "metadata": {},
   "source": [
    "To start using Vertex AI, you must have a Google Cloud project and enable the Vertex AI API.\n",
    "\n",
    "link: https://console.cloud.google.com/apis/enableflow;apiid=aiplatform.googleapis.com?inv=1&invt=AbzzhA&project=qwiklabs-gcp-03-d6e66ef40128"
   ]
  },
  {
   "cell_type": "code",
   "execution_count": 1,
   "id": "43c7cccf",
   "metadata": {},
   "outputs": [
    {
     "name": "stdout",
     "output_type": "stream",
     "text": [
      "Note: you may need to restart the kernel to use updated packages.\n"
     ]
    }
   ],
   "source": [
    "%pip install --upgrade --quiet google-genai pandas==2.2.2\n",
    "\n",
    "# note: you may need to restart the kernel to use updated packages."
   ]
  },
  {
   "cell_type": "markdown",
   "id": "f44551f1",
   "metadata": {},
   "source": [
    "#### Use Google Gen AI SDK"
   ]
  },
  {
   "cell_type": "code",
   "execution_count": null,
   "id": "7b96751d",
   "metadata": {},
   "outputs": [],
   "source": [
    "import datetime\n",
    "\n",
    "from google import genai\n",
    "from google.genai.types import (\n",
    "    CreateBatchJobConfig,\n",
    "    CreateCachedContentConfig,\n",
    "    EmbedContentConfig,\n",
    "    FunctionDeclaration,\n",
    "    GenerateContentConfig,\n",
    "    Part,\n",
    "    SafetySetting,\n",
    "    Tool,\n",
    ")"
   ]
  },
  {
   "cell_type": "markdown",
   "id": "80184d7e",
   "metadata": {},
   "source": []
  },
  {
   "cell_type": "code",
   "execution_count": null,
   "id": "4bb79a3e",
   "metadata": {},
   "outputs": [],
   "source": []
  },
  {
   "cell_type": "code",
   "execution_count": null,
   "id": "97443a33",
   "metadata": {},
   "outputs": [],
   "source": []
  },
  {
   "cell_type": "code",
   "execution_count": null,
   "id": "0f777ed0",
   "metadata": {},
   "outputs": [],
   "source": []
  },
  {
   "cell_type": "code",
   "execution_count": null,
   "id": "65af3db3",
   "metadata": {},
   "outputs": [],
   "source": []
  },
  {
   "cell_type": "code",
   "execution_count": null,
   "id": "eaeec50f",
   "metadata": {},
   "outputs": [],
   "source": []
  }
 ],
 "metadata": {
  "kernelspec": {
   "display_name": "Python 3",
   "language": "python",
   "name": "python3"
  },
  "language_info": {
   "codemirror_mode": {
    "name": "ipython",
    "version": 3
   },
   "file_extension": ".py",
   "mimetype": "text/x-python",
   "name": "python",
   "nbconvert_exporter": "python",
   "pygments_lexer": "ipython3",
   "version": "3.10.11"
  }
 },
 "nbformat": 4,
 "nbformat_minor": 5
}
