{
 "cells": [
  {
   "cell_type": "code",
   "execution_count": null,
   "id": "e321cff7",
   "metadata": {},
   "outputs": [],
   "source": []
  },
  {
   "cell_type": "markdown",
   "id": "4d9c956c",
   "metadata": {},
   "source": [
    "### Deploy the Falcon Instruct Model"
   ]
  },
  {
   "cell_type": "code",
   "execution_count": null,
   "id": "6410bd8e",
   "metadata": {},
   "outputs": [],
   "source": [
    "import vertexai\n",
    "from vertexai import model_garden\n",
    "\n",
    "vertexai.init(project=\"qwiklabs-asl-04-1e4c51b2847c\", location=\"us-central1\")\n",
    "\n",
    "model = model_garden.OpenModel(\"tiiuae/falcon-instruct-7b-peft@falcon-7b-instruct\")\n",
    "endpoint = model.deploy(\n",
    "  accept_eula=True,\n",
    "  machine_type=\"g2-standard-12\",\n",
    "  accelerator_type=\"NVIDIA_L4\",\n",
    "  accelerator_count=1,\n",
    "  serving_container_image_uri=\"us-docker.pkg.dev/vertex-ai/vertex-vision-model-garden-dockers/pytorch-vllm-serve:20240620_1616_RC00\",\n",
    "  endpoint_display_name=\"falcon-instruct-7b-peft-deploy-challenge-lab\",\n",
    "  model_display_name=\"falcon-instruct-7b-peft-001-1750287659003\",\n",
    ")"
   ]
  }
 ],
 "metadata": {
  "language_info": {
   "name": "python"
  }
 },
 "nbformat": 4,
 "nbformat_minor": 5
}
