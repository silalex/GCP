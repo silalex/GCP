{
 "cells": [
  {
   "cell_type": "markdown",
   "id": "211cb6a7-6c46-4005-a9e1-b9514ca56a85",
   "metadata": {},
   "source": [
    "# Lab: Document Question Answering with AI Applications Search and LangChain\n",
    "\n",
    "## Overview\n",
    "\n",
    "This lab guides how to ask and answer questions about your data by combining a AI Applications Search engine with LLMs. In particular, we focus on querying 'unstructured' data such as PDFs and HTML files.\n",
    "\n",
    "These patterns are useful if you have a AI Applications Search Engine pointed at a store of documents, such as a Google Cloud Storage bucket containing PDFs.\n",
    "\n",
    "## Objectives\n",
    "\n",
    "This lab focuses on utilize Gemini for Developers in the following ways:\n",
    " 1. A question about uploaded documents, receive answers with citations.\n",
    " 2. Engage in follow-up questions for deeper understanding.\n",
    " 3. Have the flexibility to customize prompts for tailored responses.\n",
    " \n",
    "## Task 1. Open Python Notebook and Install Packages\n",
    "\n",
    "In your Google Cloud project, navigate to Vertex AI Workbench. In the top search bar of the Google Cloud console, enter Vertex AI Workbench, and click on the first result."
   ]
  },
  {
   "cell_type": "code",
   "execution_count": 1,
   "id": "8cb4f1c9-8dd5-4510-b557-eea45de31e1e",
   "metadata": {
    "tags": []
   },
   "outputs": [
    {
     "name": "stdout",
     "output_type": "stream",
     "text": [
      "\u001b[31mERROR: pip's dependency resolver does not currently take into account all the packages that are installed. This behaviour is the source of the following dependency conflicts.\n",
      "kfp 2.5.0 requires requests-toolbelt<1,>=0.8.0, but you have requests-toolbelt 1.0.0 which is incompatible.\u001b[0m\u001b[31m\n",
      "\u001b[0m"
     ]
    }
   ],
   "source": [
    "# Install the required packages by running the following command\n",
    "! pip install -q --user google-cloud-aiplatform google-cloud-discoveryengine langchain-google-vertexai langchain-google-community"
   ]
  },
  {
   "cell_type": "code",
   "execution_count": 2,
   "id": "5095a9dd-718d-41fb-992a-e3f296f887a0",
   "metadata": {
    "tags": []
   },
   "outputs": [
    {
     "name": "stdout",
     "output_type": "stream",
     "text": [
      "Requirement already satisfied: google-cloud-aiplatform in ./.local/lib/python3.10/site-packages (1.98.0)\n",
      "Requirement already satisfied: google-cloud-discoveryengine in ./.local/lib/python3.10/site-packages (0.13.9)\n",
      "Requirement already satisfied: langchain-google-vertexai in ./.local/lib/python3.10/site-packages (2.0.26)\n",
      "Requirement already satisfied: langchain-google-community in ./.local/lib/python3.10/site-packages (2.0.7)\n",
      "Requirement already satisfied: google-api-core!=2.0.*,!=2.1.*,!=2.2.*,!=2.3.*,!=2.4.*,!=2.5.*,!=2.6.*,!=2.7.*,<3.0.0,>=1.34.1 in /opt/conda/lib/python3.10/site-packages (from google-api-core[grpc]!=2.0.*,!=2.1.*,!=2.2.*,!=2.3.*,!=2.4.*,!=2.5.*,!=2.6.*,!=2.7.*,<3.0.0,>=1.34.1->google-cloud-aiplatform) (2.25.0)\n",
      "Requirement already satisfied: google-auth<3.0.0,>=2.14.1 in /opt/conda/lib/python3.10/site-packages (from google-cloud-aiplatform) (2.40.3)\n",
      "Requirement already satisfied: proto-plus<2.0.0,>=1.22.3 in /opt/conda/lib/python3.10/site-packages (from google-cloud-aiplatform) (1.26.1)\n",
      "Requirement already satisfied: protobuf!=4.21.0,!=4.21.1,!=4.21.2,!=4.21.3,!=4.21.4,!=4.21.5,<7.0.0,>=3.20.2 in /opt/conda/lib/python3.10/site-packages (from google-cloud-aiplatform) (3.20.3)\n",
      "Requirement already satisfied: packaging>=14.3 in ./.local/lib/python3.10/site-packages (from google-cloud-aiplatform) (24.2)\n",
      "Requirement already satisfied: google-cloud-storage<3.0.0,>=1.32.0 in /opt/conda/lib/python3.10/site-packages (from google-cloud-aiplatform) (2.19.0)\n",
      "Requirement already satisfied: google-cloud-bigquery!=3.20.0,<4.0.0,>=1.15.0 in /opt/conda/lib/python3.10/site-packages (from google-cloud-aiplatform) (3.34.0)\n",
      "Requirement already satisfied: google-cloud-resource-manager<3.0.0,>=1.3.3 in /opt/conda/lib/python3.10/site-packages (from google-cloud-aiplatform) (1.14.2)\n",
      "Requirement already satisfied: shapely<3.0.0 in /opt/conda/lib/python3.10/site-packages (from google-cloud-aiplatform) (2.1.1)\n",
      "Requirement already satisfied: google-genai<2.0.0,>=1.0.0 in /opt/conda/lib/python3.10/site-packages (from google-cloud-aiplatform) (1.19.0)\n",
      "Requirement already satisfied: pydantic<3 in /opt/conda/lib/python3.10/site-packages (from google-cloud-aiplatform) (2.11.5)\n",
      "Requirement already satisfied: typing_extensions in /opt/conda/lib/python3.10/site-packages (from google-cloud-aiplatform) (4.14.0)\n",
      "Requirement already satisfied: docstring_parser<1 in /opt/conda/lib/python3.10/site-packages (from google-cloud-aiplatform) (0.16)\n",
      "Requirement already satisfied: googleapis-common-protos<2.0.0,>=1.56.2 in /opt/conda/lib/python3.10/site-packages (from google-api-core!=2.0.*,!=2.1.*,!=2.2.*,!=2.3.*,!=2.4.*,!=2.5.*,!=2.6.*,!=2.7.*,<3.0.0,>=1.34.1->google-api-core[grpc]!=2.0.*,!=2.1.*,!=2.2.*,!=2.3.*,!=2.4.*,!=2.5.*,!=2.6.*,!=2.7.*,<3.0.0,>=1.34.1->google-cloud-aiplatform) (1.70.0)\n",
      "Requirement already satisfied: requests<3.0.0,>=2.18.0 in /opt/conda/lib/python3.10/site-packages (from google-api-core!=2.0.*,!=2.1.*,!=2.2.*,!=2.3.*,!=2.4.*,!=2.5.*,!=2.6.*,!=2.7.*,<3.0.0,>=1.34.1->google-api-core[grpc]!=2.0.*,!=2.1.*,!=2.2.*,!=2.3.*,!=2.4.*,!=2.5.*,!=2.6.*,!=2.7.*,<3.0.0,>=1.34.1->google-cloud-aiplatform) (2.32.4)\n",
      "Requirement already satisfied: grpcio<2.0.0,>=1.33.2 in /opt/conda/lib/python3.10/site-packages (from google-api-core[grpc]!=2.0.*,!=2.1.*,!=2.2.*,!=2.3.*,!=2.4.*,!=2.5.*,!=2.6.*,!=2.7.*,<3.0.0,>=1.34.1->google-cloud-aiplatform) (1.73.0)\n",
      "Requirement already satisfied: grpcio-status<2.0.0,>=1.33.2 in /opt/conda/lib/python3.10/site-packages (from google-api-core[grpc]!=2.0.*,!=2.1.*,!=2.2.*,!=2.3.*,!=2.4.*,!=2.5.*,!=2.6.*,!=2.7.*,<3.0.0,>=1.34.1->google-cloud-aiplatform) (1.48.2)\n",
      "Requirement already satisfied: cachetools<6.0,>=2.0.0 in /opt/conda/lib/python3.10/site-packages (from google-auth<3.0.0,>=2.14.1->google-cloud-aiplatform) (5.5.2)\n",
      "Requirement already satisfied: pyasn1-modules>=0.2.1 in /opt/conda/lib/python3.10/site-packages (from google-auth<3.0.0,>=2.14.1->google-cloud-aiplatform) (0.4.2)\n",
      "Requirement already satisfied: rsa<5,>=3.1.4 in /opt/conda/lib/python3.10/site-packages (from google-auth<3.0.0,>=2.14.1->google-cloud-aiplatform) (4.9.1)\n",
      "Requirement already satisfied: google-cloud-core<3.0.0,>=2.4.1 in /opt/conda/lib/python3.10/site-packages (from google-cloud-bigquery!=3.20.0,<4.0.0,>=1.15.0->google-cloud-aiplatform) (2.4.3)\n",
      "Requirement already satisfied: google-resumable-media<3.0.0,>=2.0.0 in /opt/conda/lib/python3.10/site-packages (from google-cloud-bigquery!=3.20.0,<4.0.0,>=1.15.0->google-cloud-aiplatform) (2.7.2)\n",
      "Requirement already satisfied: python-dateutil<3.0.0,>=2.8.2 in /opt/conda/lib/python3.10/site-packages (from google-cloud-bigquery!=3.20.0,<4.0.0,>=1.15.0->google-cloud-aiplatform) (2.9.0.post0)\n",
      "Requirement already satisfied: grpc-google-iam-v1<1.0.0,>=0.14.0 in /opt/conda/lib/python3.10/site-packages (from google-cloud-resource-manager<3.0.0,>=1.3.3->google-cloud-aiplatform) (0.14.2)\n",
      "Requirement already satisfied: google-crc32c<2.0dev,>=1.0 in /opt/conda/lib/python3.10/site-packages (from google-cloud-storage<3.0.0,>=1.32.0->google-cloud-aiplatform) (1.7.1)\n",
      "Requirement already satisfied: anyio<5.0.0,>=4.8.0 in /opt/conda/lib/python3.10/site-packages (from google-genai<2.0.0,>=1.0.0->google-cloud-aiplatform) (4.9.0)\n",
      "Requirement already satisfied: httpx<1.0.0,>=0.28.1 in /opt/conda/lib/python3.10/site-packages (from google-genai<2.0.0,>=1.0.0->google-cloud-aiplatform) (0.28.1)\n",
      "Requirement already satisfied: websockets<15.1.0,>=13.0.0 in /opt/conda/lib/python3.10/site-packages (from google-genai<2.0.0,>=1.0.0->google-cloud-aiplatform) (15.0.1)\n",
      "Requirement already satisfied: exceptiongroup>=1.0.2 in /opt/conda/lib/python3.10/site-packages (from anyio<5.0.0,>=4.8.0->google-genai<2.0.0,>=1.0.0->google-cloud-aiplatform) (1.3.0)\n",
      "Requirement already satisfied: idna>=2.8 in /opt/conda/lib/python3.10/site-packages (from anyio<5.0.0,>=4.8.0->google-genai<2.0.0,>=1.0.0->google-cloud-aiplatform) (3.10)\n",
      "Requirement already satisfied: sniffio>=1.1 in /opt/conda/lib/python3.10/site-packages (from anyio<5.0.0,>=4.8.0->google-genai<2.0.0,>=1.0.0->google-cloud-aiplatform) (1.3.1)\n",
      "Requirement already satisfied: certifi in /opt/conda/lib/python3.10/site-packages (from httpx<1.0.0,>=0.28.1->google-genai<2.0.0,>=1.0.0->google-cloud-aiplatform) (2025.4.26)\n",
      "Requirement already satisfied: httpcore==1.* in /opt/conda/lib/python3.10/site-packages (from httpx<1.0.0,>=0.28.1->google-genai<2.0.0,>=1.0.0->google-cloud-aiplatform) (1.0.9)\n",
      "Requirement already satisfied: h11>=0.16 in /opt/conda/lib/python3.10/site-packages (from httpcore==1.*->httpx<1.0.0,>=0.28.1->google-genai<2.0.0,>=1.0.0->google-cloud-aiplatform) (0.16.0)\n",
      "Requirement already satisfied: annotated-types>=0.6.0 in /opt/conda/lib/python3.10/site-packages (from pydantic<3->google-cloud-aiplatform) (0.7.0)\n",
      "Requirement already satisfied: pydantic-core==2.33.2 in /opt/conda/lib/python3.10/site-packages (from pydantic<3->google-cloud-aiplatform) (2.33.2)\n",
      "Requirement already satisfied: typing-inspection>=0.4.0 in /opt/conda/lib/python3.10/site-packages (from pydantic<3->google-cloud-aiplatform) (0.4.1)\n",
      "Requirement already satisfied: six>=1.5 in /opt/conda/lib/python3.10/site-packages (from python-dateutil<3.0.0,>=2.8.2->google-cloud-bigquery!=3.20.0,<4.0.0,>=1.15.0->google-cloud-aiplatform) (1.17.0)\n",
      "Requirement already satisfied: charset_normalizer<4,>=2 in /opt/conda/lib/python3.10/site-packages (from requests<3.0.0,>=2.18.0->google-api-core!=2.0.*,!=2.1.*,!=2.2.*,!=2.3.*,!=2.4.*,!=2.5.*,!=2.6.*,!=2.7.*,<3.0.0,>=1.34.1->google-api-core[grpc]!=2.0.*,!=2.1.*,!=2.2.*,!=2.3.*,!=2.4.*,!=2.5.*,!=2.6.*,!=2.7.*,<3.0.0,>=1.34.1->google-cloud-aiplatform) (3.4.2)\n",
      "Requirement already satisfied: urllib3<3,>=1.21.1 in /opt/conda/lib/python3.10/site-packages (from requests<3.0.0,>=2.18.0->google-api-core!=2.0.*,!=2.1.*,!=2.2.*,!=2.3.*,!=2.4.*,!=2.5.*,!=2.6.*,!=2.7.*,<3.0.0,>=1.34.1->google-api-core[grpc]!=2.0.*,!=2.1.*,!=2.2.*,!=2.3.*,!=2.4.*,!=2.5.*,!=2.6.*,!=2.7.*,<3.0.0,>=1.34.1->google-cloud-aiplatform) (1.26.20)\n",
      "Requirement already satisfied: pyasn1>=0.1.3 in /opt/conda/lib/python3.10/site-packages (from rsa<5,>=3.1.4->google-auth<3.0.0,>=2.14.1->google-cloud-aiplatform) (0.6.1)\n",
      "Requirement already satisfied: numpy>=1.21 in /opt/conda/lib/python3.10/site-packages (from shapely<3.0.0->google-cloud-aiplatform) (2.1.3)\n",
      "Requirement already satisfied: bottleneck<2.0.0,>=1.4.2 in ./.local/lib/python3.10/site-packages (from langchain-google-vertexai) (1.5.0)\n",
      "Requirement already satisfied: httpx-sse<0.5.0,>=0.4.0 in ./.local/lib/python3.10/site-packages (from langchain-google-vertexai) (0.4.0)\n",
      "Requirement already satisfied: langchain-core<0.4,>=0.3.65 in ./.local/lib/python3.10/site-packages (from langchain-google-vertexai) (0.3.65)\n",
      "Requirement already satisfied: numexpr<3.0.0,>=2.8.6 in ./.local/lib/python3.10/site-packages (from langchain-google-vertexai) (2.11.0)\n",
      "Requirement already satisfied: pyarrow<20.0.0,>=19.0.1 in ./.local/lib/python3.10/site-packages (from langchain-google-vertexai) (19.0.1)\n",
      "Requirement already satisfied: validators<1,>=0.22.0 in ./.local/lib/python3.10/site-packages (from langchain-google-vertexai) (0.35.0)\n",
      "Requirement already satisfied: langsmith<0.4,>=0.3.45 in ./.local/lib/python3.10/site-packages (from langchain-core<0.4,>=0.3.65->langchain-google-vertexai) (0.3.45)\n",
      "Requirement already satisfied: tenacity!=8.4.0,<10.0.0,>=8.1.0 in /opt/conda/lib/python3.10/site-packages (from langchain-core<0.4,>=0.3.65->langchain-google-vertexai) (9.1.2)\n",
      "Requirement already satisfied: jsonpatch<2.0,>=1.33 in /opt/conda/lib/python3.10/site-packages (from langchain-core<0.4,>=0.3.65->langchain-google-vertexai) (1.33)\n",
      "Requirement already satisfied: PyYAML>=5.3 in /opt/conda/lib/python3.10/site-packages (from langchain-core<0.4,>=0.3.65->langchain-google-vertexai) (6.0.2)\n",
      "Requirement already satisfied: jsonpointer>=1.9 in /opt/conda/lib/python3.10/site-packages (from jsonpatch<2.0,>=1.33->langchain-core<0.4,>=0.3.65->langchain-google-vertexai) (3.0.0)\n",
      "Requirement already satisfied: orjson<4.0.0,>=3.9.14 in ./.local/lib/python3.10/site-packages (from langsmith<0.4,>=0.3.45->langchain-core<0.4,>=0.3.65->langchain-google-vertexai) (3.10.18)\n",
      "Requirement already satisfied: requests-toolbelt<2.0.0,>=1.0.0 in ./.local/lib/python3.10/site-packages (from langsmith<0.4,>=0.3.45->langchain-core<0.4,>=0.3.65->langchain-google-vertexai) (1.0.0)\n",
      "Requirement already satisfied: zstandard<0.24.0,>=0.23.0 in /opt/conda/lib/python3.10/site-packages (from langsmith<0.4,>=0.3.45->langchain-core<0.4,>=0.3.65->langchain-google-vertexai) (0.23.0)\n",
      "Requirement already satisfied: google-api-python-client<3.0.0,>=2.161.0 in /opt/conda/lib/python3.10/site-packages (from langchain-google-community) (2.172.0)\n",
      "Requirement already satisfied: langchain-community<0.4.0,>=0.3.0 in ./.local/lib/python3.10/site-packages (from langchain-google-community) (0.3.25)\n",
      "Requirement already satisfied: httplib2<1.0.0,>=0.19.0 in /opt/conda/lib/python3.10/site-packages (from google-api-python-client<3.0.0,>=2.161.0->langchain-google-community) (0.22.0)\n",
      "Requirement already satisfied: google-auth-httplib2<1.0.0,>=0.2.0 in /opt/conda/lib/python3.10/site-packages (from google-api-python-client<3.0.0,>=2.161.0->langchain-google-community) (0.2.0)\n",
      "Requirement already satisfied: uritemplate<5,>=3.0.1 in /opt/conda/lib/python3.10/site-packages (from google-api-python-client<3.0.0,>=2.161.0->langchain-google-community) (4.2.0)\n",
      "Requirement already satisfied: pyparsing!=3.0.0,!=3.0.1,!=3.0.2,!=3.0.3,<4,>=2.4.2 in /opt/conda/lib/python3.10/site-packages (from httplib2<1.0.0,>=0.19.0->google-api-python-client<3.0.0,>=2.161.0->langchain-google-community) (3.2.3)\n",
      "Requirement already satisfied: langchain<1.0.0,>=0.3.25 in ./.local/lib/python3.10/site-packages (from langchain-community<0.4.0,>=0.3.0->langchain-google-community) (0.3.25)\n",
      "Requirement already satisfied: SQLAlchemy<3,>=1.4 in /opt/conda/lib/python3.10/site-packages (from langchain-community<0.4.0,>=0.3.0->langchain-google-community) (2.0.41)\n",
      "Requirement already satisfied: aiohttp<4.0.0,>=3.8.3 in /opt/conda/lib/python3.10/site-packages (from langchain-community<0.4.0,>=0.3.0->langchain-google-community) (3.12.12)\n",
      "Requirement already satisfied: dataclasses-json<0.7,>=0.5.7 in ./.local/lib/python3.10/site-packages (from langchain-community<0.4.0,>=0.3.0->langchain-google-community) (0.6.7)\n",
      "Requirement already satisfied: pydantic-settings<3.0.0,>=2.4.0 in ./.local/lib/python3.10/site-packages (from langchain-community<0.4.0,>=0.3.0->langchain-google-community) (2.9.1)\n",
      "Requirement already satisfied: aiohappyeyeballs>=2.5.0 in /opt/conda/lib/python3.10/site-packages (from aiohttp<4.0.0,>=3.8.3->langchain-community<0.4.0,>=0.3.0->langchain-google-community) (2.6.1)\n",
      "Requirement already satisfied: aiosignal>=1.1.2 in /opt/conda/lib/python3.10/site-packages (from aiohttp<4.0.0,>=3.8.3->langchain-community<0.4.0,>=0.3.0->langchain-google-community) (1.3.2)\n",
      "Requirement already satisfied: async-timeout<6.0,>=4.0 in ./.local/lib/python3.10/site-packages (from aiohttp<4.0.0,>=3.8.3->langchain-community<0.4.0,>=0.3.0->langchain-google-community) (4.0.3)\n",
      "Requirement already satisfied: attrs>=17.3.0 in /opt/conda/lib/python3.10/site-packages (from aiohttp<4.0.0,>=3.8.3->langchain-community<0.4.0,>=0.3.0->langchain-google-community) (25.3.0)\n",
      "Requirement already satisfied: frozenlist>=1.1.1 in /opt/conda/lib/python3.10/site-packages (from aiohttp<4.0.0,>=3.8.3->langchain-community<0.4.0,>=0.3.0->langchain-google-community) (1.7.0)\n",
      "Requirement already satisfied: multidict<7.0,>=4.5 in /opt/conda/lib/python3.10/site-packages (from aiohttp<4.0.0,>=3.8.3->langchain-community<0.4.0,>=0.3.0->langchain-google-community) (6.4.4)\n",
      "Requirement already satisfied: propcache>=0.2.0 in /opt/conda/lib/python3.10/site-packages (from aiohttp<4.0.0,>=3.8.3->langchain-community<0.4.0,>=0.3.0->langchain-google-community) (0.3.2)\n",
      "Requirement already satisfied: yarl<2.0,>=1.17.0 in /opt/conda/lib/python3.10/site-packages (from aiohttp<4.0.0,>=3.8.3->langchain-community<0.4.0,>=0.3.0->langchain-google-community) (1.20.1)\n",
      "Requirement already satisfied: marshmallow<4.0.0,>=3.18.0 in ./.local/lib/python3.10/site-packages (from dataclasses-json<0.7,>=0.5.7->langchain-community<0.4.0,>=0.3.0->langchain-google-community) (3.26.1)\n",
      "Requirement already satisfied: typing-inspect<1,>=0.4.0 in ./.local/lib/python3.10/site-packages (from dataclasses-json<0.7,>=0.5.7->langchain-community<0.4.0,>=0.3.0->langchain-google-community) (0.9.0)\n",
      "Requirement already satisfied: langchain-text-splitters<1.0.0,>=0.3.8 in ./.local/lib/python3.10/site-packages (from langchain<1.0.0,>=0.3.25->langchain-community<0.4.0,>=0.3.0->langchain-google-community) (0.3.8)\n",
      "Requirement already satisfied: python-dotenv>=0.21.0 in /opt/conda/lib/python3.10/site-packages (from pydantic-settings<3.0.0,>=2.4.0->langchain-community<0.4.0,>=0.3.0->langchain-google-community) (1.1.0)\n",
      "Requirement already satisfied: greenlet>=1 in /opt/conda/lib/python3.10/site-packages (from SQLAlchemy<3,>=1.4->langchain-community<0.4.0,>=0.3.0->langchain-google-community) (3.2.3)\n",
      "Requirement already satisfied: mypy-extensions>=0.3.0 in ./.local/lib/python3.10/site-packages (from typing-inspect<1,>=0.4.0->dataclasses-json<0.7,>=0.5.7->langchain-community<0.4.0,>=0.3.0->langchain-google-community) (1.1.0)\n"
     ]
    }
   ],
   "source": [
    "! pip install --user google-cloud-aiplatform google-cloud-discoveryengine langchain-google-vertexai langchain-google-community"
   ]
  },
  {
   "cell_type": "code",
   "execution_count": 3,
   "id": "15f3fde8-bd64-4681-8de8-7082875eb0e2",
   "metadata": {
    "tags": []
   },
   "outputs": [
    {
     "data": {
      "text/plain": [
       "{'status': 'ok', 'restart': True}"
      ]
     },
     "execution_count": 3,
     "metadata": {},
     "output_type": "execute_result"
    }
   ],
   "source": [
    "# Restart kernel after packages are installed so that your environment can access the new packages\n",
    "import IPython\n",
    "import time\n",
    "\n",
    "app = IPython.Application.instance()\n",
    "app.kernel.do_shutdown(True)"
   ]
  },
  {
   "cell_type": "markdown",
   "id": "3c8bbc81-e419-4961-89d7-55684c502862",
   "metadata": {},
   "source": [
    "## Task 2. Setup project information and populate the dataset into a data store\n",
    "\n",
    "In this section, we will setup project environments and import the data in a pre-created data store."
   ]
  },
  {
   "cell_type": "code",
   "execution_count": 1,
   "id": "083d1c19-94c1-47b5-88d3-402eb5859230",
   "metadata": {
    "tags": []
   },
   "outputs": [],
   "source": [
    "# Setup project info and initializing the vertex ai\n",
    "PROJECT_ID = \"qwiklabs-gcp-02-984e5c922496\"\n",
    "LOCATION = \"us-east4\"\n",
    "\n",
    "import vertexai\n",
    "\n",
    "vertexai.init(project=PROJECT_ID, location=LOCATION)"
   ]
  },
  {
   "cell_type": "markdown",
   "id": "d4f9cf2f-af0f-47c7-8d83-2edc3b65ddcb",
   "metadata": {},
   "source": [
    "2. Navigate to AI Applications by searching for it at the top of the Cloud Console.\n",
    "\n",
    "3. Go to Data Stores and select the pre-created datastore qna-unstructured-datastore, choose the Cloud Storage as data source.\n",
    "\n",
    "4. Enter the pdf location (FOLDER !) as cloud-samples-data/gen-app-builder/search/alphabet-investor-pdfs, select the Unstructured Documents and click on Import.\n",
    "\n",
    "Note: This step takes around 5 to 10 minutes to complete.\n",
    "\n",
    "## Task 3. Import Datastore, Model information and Libraries."
   ]
  },
  {
   "cell_type": "code",
   "execution_count": 2,
   "id": "efb0f33b-6a68-41dd-bdaa-60123603711e",
   "metadata": {
    "tags": []
   },
   "outputs": [],
   "source": [
    "# Run the below code snippet to set the Datastore ID and location.\n",
    "DATA_STORE_ID = \"qna-datastore-id\"  # @param {type:\"string\"}\n",
    "DATA_STORE_LOCATION = \"global\"  # @param {type:\"string\"}\n",
    "\n",
    "MODEL = \"gemini-2.0-flash\"  # @param {type:\"string\"}\n",
    "\n",
    "if PROJECT_ID == \"YOUR_PROJECT_ID\" or DATA_STORE_ID == \"YOUR_DATA_STORE_ID\":\n",
    "    raise ValueError(\n",
    "        \"Please set the PROJECT_ID, DATA_STORE_ID constants to reflect your environment.\"\n",
    "    )"
   ]
  },
  {
   "cell_type": "code",
   "execution_count": 3,
   "id": "76cddede-8d24-4cc8-ba67-a958dd59f7f7",
   "metadata": {
    "tags": []
   },
   "outputs": [],
   "source": [
    "# Import the libraries by the below commands.\n",
    "from langchain.chains import RetrievalQA\n",
    "from langchain.chains import RetrievalQAWithSourcesChain\n",
    "from langchain.chains import ConversationalRetrievalChain\n",
    "from langchain.memory import ConversationBufferMemory\n",
    "from langchain.prompts import PromptTemplate\n",
    "\n",
    "from langchain_google_vertexai import ChatVertexAI\n",
    "from langchain_google_community import VertexAISearchRetriever\n",
    "from langchain_google_community import VertexAIMultiTurnSearchRetriever"
   ]
  },
  {
   "cell_type": "markdown",
   "id": "248d6858-7a22-4e27-9f48-a922cc756330",
   "metadata": {},
   "source": [
    "## Task 4. LangChain retrieval Q&A chains\n",
    "\n",
    "Here, we'll be having three LangChain retrieval Q&A chains:\n",
    " - RetrivalQA\n",
    " - RetrievalQAWithSourceChain\n",
    " - ConversationalRetrivealChain"
   ]
  },
  {
   "cell_type": "code",
   "execution_count": 6,
   "id": "5b343429-78c4-4885-a117-f802f15d1497",
   "metadata": {
    "tags": []
   },
   "outputs": [
    {
     "name": "stderr",
     "output_type": "stream",
     "text": [
      "/home/jupyter/.local/lib/python3.10/site-packages/langchain_google_community/vertex_ai_search.py:364: UserWarning: Beta features are configured but beta=False. The following beta features will be ignored:['custom_embedding_ratio']\n",
      "  warnings.warn(\n"
     ]
    }
   ],
   "source": [
    "# 1. We begin by initializing a Vertex AI LLM and a LangChain 'retriever' to fetch documents from our AI Applications Search engine.\n",
    "llm = ChatVertexAI(model_name=MODEL)\n",
    "\n",
    "retriever = VertexAISearchRetriever(\n",
    "    project_id=PROJECT_ID,\n",
    "    location_id=DATA_STORE_LOCATION,\n",
    "    data_store_id=DATA_STORE_ID,\n",
    "    get_extractive_answers=True,\n",
    "    max_documents=10,\n",
    "    max_extractive_segment_count=1,\n",
    "    max_extractive_answer_count=5,\n",
    ")"
   ]
  },
  {
   "cell_type": "markdown",
   "id": "e3b2f21d-de45-4e08-9f44-db7f542d20b8",
   "metadata": {
    "tags": []
   },
   "source": [
    "2. RetrievalQA simplest document Q&A chain offered by LangChain.\n",
    " - Here, we use the stuff type, which simply inserts all of the document chunks into the prompt.\n",
    " - This has the advantage of only making a single LLM call, which is faster and more cost efficient\n",
    " - However, if we have a large number of search results we run the risk of exceeding the token limit in our prompt, or truncating useful information.\n",
    " - Other chain types such as map_reduce and refine use an iterative process that makes multiple LLM calls, taking individual document chunks at a time and refining the answer iteratively."
   ]
  },
  {
   "cell_type": "code",
   "execution_count": 7,
   "id": "792083a3-a131-4f9d-b9c3-be2c8afe26ed",
   "metadata": {
    "tags": []
   },
   "outputs": [
    {
     "data": {
      "text/plain": [
       "{'query': \"What was Alphabet's Revenue in Q2 2021?\",\n",
       " 'result': \"Alphabet's revenue in Q2 2021 was $61.9 billion.\\n\"}"
      ]
     },
     "execution_count": 7,
     "metadata": {},
     "output_type": "execute_result"
    }
   ],
   "source": [
    "search_query = \"What was Alphabet's Revenue in Q2 2021?\"  # @param {type:\"string\"}\n",
    "\n",
    "retrieval_qa = RetrievalQA.from_chain_type(\n",
    "    llm=llm, chain_type=\"stuff\", retriever=retriever\n",
    ")\n",
    "retrieval_qa.invoke(search_query)"
   ]
  },
  {
   "cell_type": "markdown",
   "id": "5d546a45-88c5-40ba-9971-7bdeab643ae5",
   "metadata": {},
   "source": [
    "3. Now, we'll be inspecting the document, If we add return_source_documents=True we can inspect the document chunks that were returned by the retriever.\n",
    "\n",
    "This is helpful for debugging, as these chunks may not always be relevant to the answer, or their relevance might not be obvious."
   ]
  },
  {
   "cell_type": "code",
   "execution_count": 9,
   "id": "20ecf6c2-7841-4374-b71d-dd802a152943",
   "metadata": {
    "tags": []
   },
   "outputs": [
    {
     "name": "stdout",
     "output_type": "stream",
     "text": [
      "*******************************************************************************\n",
      "Alphabet's revenue in Q2 2021 was $61.9 billion.\n",
      "\n",
      "*******************************************************************************\n",
      "---------------------------------\n",
      "Our long-term investments in AI and Google Cloud are helping us drive significant improvements in everyone&#39;s digital experience.” “Our strong second quarter revenues of <b>$61.9 billion</b> reflect elevated consumer online activity and broad-based strength in advertiser spend.\n",
      "---------------------------------\n",
      "Alphabet Inc. CONSOLIDATED STATEMENTS OF INCOME (In millions, except share amounts which are reflected in thousands and per share amounts) Quarter Ended June 30, Year To Date June 30, 2020 2021 2020 2021 (unaudited) (unaudited) Revenues $ 38297 $ 61880 $ 79456 $ 117194 Costs and expenses: Cost of revenues 18553 26227 37535 50330 Research and development 6875 7675 13695 15160 Sales and marketing 3901 5276 8401 9792 General and administrative 2585 3341 5465 6114 Total costs and expenses 31914 42519 65096 81396 Income from operations 6383 19361 14360 35798 Other income (expense), net 1894 2624 1674 7470 Income before income taxes 8277 21985 16034 43268 Provision for income taxes 1318 3460 2239 6813 Net income $ 6959 $ 18525 $ 13795 $ 36455 Basic earnings per share of Class A and B common stock and Class C capital stock $ 10.21 $ 27.69 $ 20.16 $ 54.32 Diluted earnings per share of Class A and B common stock and Class C capital stock $ 10.13 $ 27.26 $ 20.00 $ 53.54 Number of shares used in basic earnings per share calculation 681768 668958 684117 671089 Number of shares used in diluted earnings per share calculation 687024 679612 689646 680842 5.\n",
      "---------------------------------\n",
      "Q2 2021 supplemental information (in millions, except for number of employees; unaudited) Revenues, Traffic Acquisition Costs (TAC) and number of employees Quarter Ended June 30, 2020 2021 Google Search &amp; other $ 21319 $ 35845 YouTube ads 3812 7002 Google Network 4736 7597 Google advertising 29867 50444 Google other 5124 6623 Google Services total 34991 57067 Google Cloud 3007 4628 Other Bets 148 192 Hedging gains (losses) 151 (7) Total revenues $ 38297 $ 61880 Total TAC $ 6694 $ 10929 Number of employees 127498 144056 Segment Operating Results Quarter Ended June 30, 2020 2021 Operating income (loss): Google Services $ 9539 $ 22343 Google Cloud (1426) (591) Other Bets (1116) (1398) Corporate costs, unallocated (614) (993) Total income from operations $ 6383 $ 19361 Change in the useful lives of our server and network equipment (unaudited) In January 2021, we completed an assessment of the useful lives of our servers and network equipment and adjusted the estimated useful life of our servers from three years to four years and the estimated useful life of certain network equipment from three years to five years.\n",
      "---------------------------------\n",
      "As we sharpen our focus, we&#39;ll continue to invest responsibly in deep computer science for the long-term.” Ruth Porat, CFO of Alphabet and Google, said: “Our consistent investments to support long-term growth are reflected in our solid performance in the second quarter, with revenues of <b>$69.7 billion</b> in the quarter, up 13% versus last year or 16% on a constant currency basis.\n",
      "---------------------------------\n",
      "Alphabet Inc. CONSOLIDATED STATEMENTS OF INCOME (In millions, except per share amounts, unaudited) Quarter Ended June 30, Year To Date June 30, 2021 2022 2021 2022 Revenues $ 61880 $ 69685 $ 117194 $ 137696 Costs and expenses: Cost of revenues 26227 30104 50330 59703 Research and development 7675 9841 15160 18960 Sales and marketing 5276 6630 9792 12455 General and administrative 3341 3657 6114 7031 Total costs and expenses 42519 50232 81396 98149 Income from operations 19361 19453 35798 39547 Other income (expense), net 2624 (439) 7470 (1599) Income before income taxes 21985 19014 43268 37948 Provision for income taxes 3460 3012 6813 5510 Net income $ 18525 $ 16002 $ 36455 $ 32438 Basic earnings per share of Class A, Class B, and Class C stock $ 1.38 $ 1.22 $ 2.72 $ 2.46 Diluted earnings per share of Class A, Class B, and Class C stock $ 1.36 $ 1.21 $ 2.68 $ 2.44 Number of shares used in basic earnings per share calculation 13379 13133 13422 13168 Number of shares used in diluted earnings per share calculation 13592 13239 13617 13295 5.\n",
      "---------------------------------\n",
      "Alphabet Inc. CONSOLIDATED STATEMENTS OF CASH FLOWS (In millions, unaudited) Quarter Ended June 30, Year To Date June 30, 2021 2022 2021 2022 Operating activities Net income $ 18525 $ 16002 $ 36455 $ 32438 Adjustments: Depreciation and impairment of property and equipment 2730 3698 5255 7289 Amortization and impairment of intangible assets 215 201 443 392 Stock-based compensation expense 3803 4782 7548 9286 Deferred income taxes 379 (2147) 1479 (4237) (Gain) loss on debt and equity securities, net (2883) 1041 (7634) 2478 Other (8) 62 (263) 202 Changes in assets and liabilities, net of effects of acquisitions: Accounts receivable (3661) (1969) (867) 2395 Income taxes, net (1082) (4073) (297) (253) Other assets (199) (845) (192) (1621) Accounts payable (130) 1201 (1112) (1172) Accrued expenses and other liabilities 3731 1497 201 (1719) Accrued revenue share 473 (114) 29 (942) Deferred revenue (3) 86 134 (8) Net cash provided by operating activities 21890 19422 41179 44528 Investing activities Purchases of property and equipment (5496) (6828) (11438) (16614) Purchases of marketable securities (24183) (21737) (60609) (50199) Maturities and sales of marketable securities 21419 25595 60667 55374 Purchases of non-marketable securities (766) (488) (1412) (1264) Maturities and sales of non-marketable securities 237 113 256 125 Acquisitions, net of cash acquired, and purchases of intangible assets (308) (1063) (1974) (1236) Other investing activities 23 221 53 576 Net cash used in investing activities (9074) (4187) (14457) (13238) Financing activities Net payments related to stock-based award activities (2453) (2264) (4637) (5180) Repurchases of stock (12796) (15197) (24191) (28497) Proceeds from issuance of debt, net of costs 6699 12806 7599 29228 Repayments of debt (7741) (13162) (8678) (29582) Proceeds from sale of interest in consolidated entities, net 300 0 310 0 Net cash used in financing activities (15991) (17817) (29597) (34031) Effect of exchange rate changes on cash and cash equivalents 183 (368) 40 (268) Net decrease in cash and cash equivalents (2992) (2950) (2835) (3009) Cash and cash equivalents at beginning of period 26622 20886 26465 20945 Cash and cash equivalents at end of period $ 23630 $ 17936 $ 23630 $ 17936 6.\n",
      "---------------------------------\n",
      "Quarter Ended March 31, 2020 2021 Revenues $ 41159 $ 55314 Increase in revenues year over year 13 % 34 % Increase in constant currency revenues year over year(1) 15 % 32 % Operating income $ 7977 $ 16437 Operating margin 19 % 30 % Other income (expense), net $ (220) $ 4846 Net income $ 6836 $ 17930 Diluted EPS $ 9.87 $ 26.29 (1) Non-GAAP measure.\n",
      "---------------------------------\n",
      "Alphabet Inc. CONSOLIDATED STATEMENTS OF INCOME (In millions, except share amounts which are reflected in thousands and per share amounts) Quarter Ended March 31, 2020 2021 (unaudited) Revenues $ 41159 $ 55314 Costs and expenses: Cost of revenues 18982 24103 Research and development 6820 7485 Sales and marketing 4500 4516 General and administrative 2880 2773 Total costs and expenses 33182 38877 Income from operations 7977 16437 Other income (expense), net (220) 4846 Income before income taxes 7757 21283 Provision for income taxes 921 3353 Net income $ 6836 $ 17930 Basic earnings per share of Class A and B common stock and Class C capital stock $ 9.96 $ 26.63 Diluted earnings per share of Class A and B common stock and Class C capital stock $ 9.87 $ 26.29 Number of shares used in basic earnings per share calculation 686465 673220 Number of shares used in diluted earnings per share calculation 692267 682071 5.\n",
      "---------------------------------\n",
      "This change in accounting estimate was effective beginning in fiscal year 2021 and the effect for the three months ended March 31, 2021, was a reduction in depreciation expense of $835 million and an increase in net income of $650 million, or $0.97 per basic and $0.95 per diluted share.\n",
      "---------------------------------\n",
      "&quot;With revenues of $26 billion, up 21% versus the second quarter of 2016 and 23% on a constant currency basis, we&#39;re delivering strong growth with great underlying momentum, while continuing to make focused investments in new revenue streams,&quot; said Ruth Porat, CFO of Alphabet.\n",
      "---------------------------------\n",
      "Alphabet Inc. CONSOLIDATED STATEMENTS OF INCOME (In millions, except per share amounts; unaudited) Three Months Ended Six Months Ended June 30, June 30, 2016 2017 2016 2017 Revenues $ 21500 $ 26010 $ 41757 $ 50760 Costs and expenses: Cost of revenues 8130 10373 15778 20168 Research and development 3363 4172 6730 8114 Sales and marketing 2415 2897 4802 5541 General and administrative 1624 1700 3137 3501 European Commission fine 0 2736 0 2736 Total costs and expenses 15532 21878 30447 40060 Income from operations 5968 4132 11310 10700 Other income (expense), net 151 245 (62) 496 Income before income taxes 6119 4377 11248 11196 Provision for income taxes 1242 853 2164 2246 Net income $ 4877 $ 3524 $ 9084 $ 8950 Basic net income per share of Class A and B common stock and Class C capital stock $ 7.11 $ 5.09 $ 13.23 $ 12.94 Diluted net income per share of Class A and B common stock and Class C capital stock $ 7.00 $ 5.01 $ 13.01 $ 12.74.\n",
      "---------------------------------\n",
      "Non-GAAP operating income: From time to time, we may provide operating income excluding one-time charges.\n",
      "---------------------------------\n",
      "&quot;We delivered robust growth led by mobile search, YouTube, and Cloud with Alphabet revenues of $36.3 billion, up 17% versus last year, or 19% on a constant currency basis,&quot; said Ruth Porat, Chief Financial Officer of Alphabet and Google.\n",
      "---------------------------------\n",
      "Alphabet Inc. CONSOLIDATED STATEMENTS OF INCOME (In millions, except per share amounts; unaudited) Three Months Ended March 31, 2018 2019 Revenues $ 31146 $ 36339 Costs and expenses: Cost of revenues 13467 16012 Research and development 5039 6029 Sales and marketing 3604 3905 General and administrative 1403 2088 European Commission fine 0 1697 Total costs and expenses 23513 29731 Income from operations 7633 6608 Other income (expense), net 2910 1538 Income before income taxes 10543 8146 Provision for income taxes 1142 1489 Net income $ 9401 $ 6657 Basic earnings per share of Class A and B common stock and Class C capital stock $ 13.53 $ 9.58 Diluted earnings per share of Class A and B common stock and Class C capital stock $ 13.33 $ 9.50.\n",
      "---------------------------------\n",
      "Non-GAAP operating income: we define non-GAAP operating income as operating income excluding certain charges. Non-GAAP operating margin: we define non-GAAP operating margin as non-GAAP operating income divided by revenues.\n",
      "---------------------------------\n",
      "“We&#39;re working to help people, businesses and communities in these uncertain times,” said Sundar Pichai, Chief Executive Officer of Google and Alphabet. “As people increasingly turn to online services, our platforms — from Cloud to Google Play to YouTube — are helping our partners provide important services and support their businesses.” “In the second quarter our total revenues were $38.3B, driven by gradual improvement in our ads business and strong growth in Google Cloud and Other Revenues,” said Ruth Porat, Chief Financial Officer of Alphabet and Google. “We continue to navigate through a difficult global economic environment.” Q2 2020 financial highlights The following table summarizes our consolidated financial results for the quarters ended June 30, 2019 and 2020 (in millions, except for per share information and percentages; unaudited).\n",
      "---------------------------------\n",
      "Alphabet Inc. CONSOLIDATED STATEMENTS OF INCOME (In millions, except share amounts which are reflected in thousands and per share amounts; unaudited) Quarter Ended June 30, Year to Date June 30, 2019 2020 2019 2020 Revenues $ 38944 $ 38297 $ 75283 $ 79456 Costs and expenses: Cost of revenues 17296 18553 33308 37535 Research and development 6213 6875 12242 13695 Sales and marketing 4212 3901 8117 8401 General and administrative 2043 2585 4131 5465 European Commission fines 0 0 1697 0 Total costs and expenses 29764 31914 59495 65096 Income from operations 9180 6383 15788 14360 Other income (expense), net 2967 1894 4505 1674 Income before income taxes 12147 8277 20293 16034 Provision for income taxes 2200 1318 3689 2239 Net income $ 9947 $ 6959 $ 16604 $ 13795 Basic earnings per share of Class A and B common stock and Class C capital stock $ 14.33 $ 10.21 $ 23.91 $ 20.16 Diluted earnings per share of Class A and B common stock and Class C capital stock $ 14.21 $ 10.13 $ 23.71 $ 20.00 Number of shares used in basic earnings per share calculation 693969 681768 694419 684117 Number of shares used in diluted earnings per share calculation 699954 687024 700417 689646 5.\n",
      "---------------------------------\n",
      "We also share Google news and product updates on Google&#39;s Keyword blog at https://www.blog.google/, which may be of interest or material to our investors.\n",
      "---------------------------------\n",
      "And as the digital transformation and shift to hybrid work continue, our Cloud services are helping organizations collaborate and stay secure.” Ruth Porat, CFO of Alphabet and Google, said: “Our consistent investments to support long-term growth are reflected in strong financial performance, with revenues of $65.1 billion in the quarter.\n",
      "---------------------------------\n",
      "Total revenues and hedging gains (losses) for the quarter ended June 30, 2021 were $61880 million and $(7) million, respectively.\n",
      "---------------------------------\n",
      "Alphabet Inc. CONSOLIDATED STATEMENTS OF INCOME (In millions, except share amounts which are reflected in thousands and per share amounts) Quarter Ended September 30, Year To Date September 30, 2020 2021 2020 2021 (unaudited) (unaudited) Revenues $ 46173 $ 65118 $ 125629 $ 182312 Costs and expenses: Cost of revenues 21117 27621 58652 77951 Research and development 6856 7694 20551 22854 Sales and marketing 4231 5516 12632 15308 General and administrative 2756 3256 8221 9370 Total costs and expenses 34960 44087 100056 125483 Income from operations 11213 21031 25573 56829 Other income (expense), net 2146 2033 3820 9503 Income before income taxes 13359 23064 29393 66332 Provision for income taxes 2112 4128 4351 10941 Net income $ 11247 $ 18936 $ 25042 $ 55391 Basic earnings per share of Class A and B common stock and Class C capital stock $ 16.55 $ 28.44 $ 36.69 $ 82.76 Diluted earnings per share of Class A and B common stock and Class C capital stock $ 16.40 $ 27.99 $ 36.38 $ 81.53 Number of shares used in basic earnings per share calculation 679449 665758 682561 669312 Number of shares used in diluted earnings per share calculation 685851 676519 688381 679401 5.\n",
      "---------------------------------\n",
      "&quot;We delivered another quarter of very strong performance, with revenues of $32.7 billion, up 26% versus the second quarter of 2017 and 23% on a constant currency basis.\n",
      "---------------------------------\n",
      "Alphabet Inc. CONSOLIDATED STATEMENTS OF INCOME (In millions, except per share amounts; unaudited) Three Months Ended Six Months Ended June 30, June 30, 2017 2018 2017 2018 Revenues $ 26010 $ 32657 $ 50760 $ 63803 Costs and expenses: Cost of revenues 10373 13883 20168 27350 Research and development 4172 5114 8114 10153 Sales and marketing 2897 3780 5541 7384 General and administrative 1700 2002 3501 4037 European Commission fines 2736 5071 2736 5071 Total costs and expenses 21878 29850 40060 53995 Income from operations 4132 2807 10700 9808 Other income (expense), net 245 1408 496 4950 Income before income taxes 4377 4215 11196 14758 Provision for income taxes 853 1020 2246 2162 Net income $ 3524 $ 3195 $ 8950 $ 12596 Basic earnings per share of Class A and B common stock and Class C capital stock $ 5.09 $ 4.60 $ 12.94 $ 18.13 Diluted earnings per share of Class A and B common stock and Class C capital stock $ 5.01 $ 4.54 $ 12.74 $ 17.89.\n",
      "---------------------------------\n",
      "Alphabet Inc. CONSOLIDATED STATEMENTS OF CASH FLOWS (In millions; unaudited) Three Months Ended Six Months Ended June 30, June 30, 2017 2018 2017 2018 Operating activities Net income $ 3524 $ 3195 $ 8950 $ 12596 Adjustments: Depreciation and impairment of property and equipment 1424 1862 2711 3653 Amortization and impairment of intangible assets 201 252 417 447 Stock-based compensation expense 2003 2413 4012 4870 Deferred income taxes (75) (139) 538 (157) (Gain) loss on debt and equity securities, net 3 (1068) 22 (4060) Other 39 137 96 (120) Changes in assets and liabilities, net of effects of acquisitions: Accounts receivable (836) (312) 431 1388 Income taxes, net (2289) (1438) (1779) (656) Other assets (326) (515) (454) (756) Accounts payable 16 (145) 119 (23) Accrued expenses and other liabilities 3555 5742 1687 4600 Accrued revenue share 80 (17) 6 (303) Deferred revenue 84 165 195 295 Net cash provided by operating activities 7403 10132 16951 21774 Investing activities Purchases of property and equipment (2831) (5477) (5339) (12776) Proceeds from disposals of property and equipment 13 19 54 49 Purchases of marketable securities (19557) (14192) (39676) (23041) Maturities and sales of marketable securities 14876 16172 34238 25523 Purchases of non-marketable investments (340) (405) (694) (732) Maturities and sales of non-marketable investments 40 693 118 1191 Acquisitions, net of cash acquired, and purchases of intangible assets (42) (184) (143) (1434) Proceeds from collection of notes receivable 669 0 1419 0 Net cash used in investing activities (7172) (3374) (10023) (11220) Financing activities Net payments related to stock-based award activities (1084) (1541) (2093) (2699) Repurchases of capital stock (1618) (2052) (2745) (4225) Proceeds from issuance of debt, net of costs 0 1545 0 6236 Repayments of debt (38) (2889) (56) (6267) Proceeds from sale of subsidiary shares 0 0 480 0 Net cash used in financing activities (2740) (4937) (4414) (6955) Effect of exchange rate changes on cash and cash equivalents 88 (331) 279 (166) Net increase (decrease) in cash and cash equivalents (2421) 1490 2793 3433 Cash and cash equivalents at beginning of period 18132 12658 12918 10715 Cash and cash equivalents at end of period $ 15711 $ 14148 $ 15711 $ 14148.\n",
      "---------------------------------\n",
      "Our longstanding infrastructure leadership and in-house research teams position us well as technology evolves and as we pursue the many opportunities ahead.” Ruth Porat, President and Chief Investment Officer; CFO said: “We delivered revenues of $85 billion, up 14% year on-year driven by Search as well as Cloud, which for the first time exceeded $10 billion in quarterly revenues and $1 billion in operating profit.\n",
      "---------------------------------\n",
      "Alphabet Inc. CONSOLIDATED STATEMENTS OF INCOME (In millions, except per share amounts, unaudited) Quarter Ended June 30, Year to Date June 30, 2023 2024 2023 2024 Revenues $ 74604 $ 84742 $ 144391 $ 165281 Costs and expenses: Cost of revenues 31916 35507 62528 69219 Research and development 10588 11860 22056 23763 Sales and marketing 6781 6792 13314 13218 General and administrative 3481 3158 7240 6184 Total costs and expenses 52766 57317 105138 112384 Income from operations 21838 27425 39253 52897 Other income (expense), net 65 126 855 2969 Income before income taxes 21903 27551 40108 55866 Provision for income taxes 3535 3932 6689 8585 Net income $ 18368 $ 23619 $ 33419 $ 47281 Basic earnings per share $ 1.45 $ 1.91 $ 2.63 $ 3.82 Diluted earnings per share $ 1.44 $ 1.89 $ 2.61 $ 3.78 Number of shares used in basic earnings per share calculation 12668 12343 12725 12379 Number of shares used in diluted earnings per share calculation 12764 12495 12794 12511 5.\n",
      "---------------------------------\n",
      "On July 23, 2024, Alphabet announced a cash dividend of $0.20 per share that will be paid on September 16, 2024, to stockholders of record as of September 9, 2024, on each of the company&#39;s Class A, Class B, and Class C shares. 2.\n",
      "---------------------------------\n",
      "Financial Highlights Revenues - Revenues in the second quarter totaled a record <b>$1.384 billion</b>, representing a 10% increase over the first quarter of 2005 and a 98% year-over-year increase.\n",
      "---------------------------------\n",
      "• Income from operations included a $47 million non-cash, stock-based compensation charge compared to a $75 million non-cash, stock-based compensation charge in the prior year&#39;s second quarter.\n",
      "---------------------------------\n",
      "Capital expenditures were approximately $158 million in the three months ended June 30, 2005 as compared to $96 million in the three months ended June 30, 2004.\n"
     ]
    }
   ],
   "source": [
    "retrieval_qa = RetrievalQA.from_chain_type(\n",
    "    llm=llm, chain_type=\"stuff\", retriever=retriever, return_source_documents=True\n",
    ")\n",
    "\n",
    "results = retrieval_qa.invoke(search_query)\n",
    "\n",
    "print(\"*\" * 79)\n",
    "print(results[\"result\"])\n",
    "print(\"*\" * 79)\n",
    "for doc in results[\"source_documents\"]:\n",
    "    print(\"-\" * 33)\n",
    "    print(doc.page_content)"
   ]
  },
  {
   "cell_type": "markdown",
   "id": "79e97daa-05c3-49cf-80ad-1c95729e31d8",
   "metadata": {},
   "source": [
    "4. **RetrievalQAWithSourceChain** variant returns an answer to the question alongside the source documents that were used to generate the answer."
   ]
  },
  {
   "cell_type": "code",
   "execution_count": 10,
   "id": "c65427c1-1ede-4bb8-bc40-32c7cc6d39f9",
   "metadata": {
    "tags": []
   },
   "outputs": [
    {
     "data": {
      "text/plain": [
       "{'answer': \"Alphabet's revenue in Q2 2021 was $61.9 billion.\\n\",\n",
       " 'sources': 'gs://cloud-samples-data/gen-app-builder/search/alphabet-investor-pdfs/2021Q2_alphabet_earnings_release.pdf1, gs://cloud-samples-data/gen-app-builder/search/alphabet-investor-pdfs/2021Q2_alphabet_earnings_release.pdf2'}"
      ]
     },
     "execution_count": 10,
     "metadata": {},
     "output_type": "execute_result"
    }
   ],
   "source": [
    "retrieval_qa_with_sources = RetrievalQAWithSourcesChain.from_chain_type(\n",
    "    llm=llm, chain_type=\"stuff\", retriever=retriever\n",
    ")\n",
    "\n",
    "retrieval_qa_with_sources.invoke(search_query, return_only_outputs=True)"
   ]
  },
  {
   "cell_type": "markdown",
   "id": "96bccad3-d70b-4bf6-9f43-502354640d4e",
   "metadata": {},
   "source": [
    "5. **ConversationalRetrievalChain** remembers and uses previous questions so you can have a chat-like discovery process.\n",
    "\n",
    "To use this chain we must provide a memory class to store and pass the previous messages to the LLM as context. Here we use the **ConversationBufferMemory** class that comes with LangChain.\n",
    "\n",
    "**VertexAIMultiTurnSearchRetriever** uses multi-turn search (also called conversational search or search with followups) to preserve context between requests.\n",
    "\n",
    "Now will work with both retrievers, and the multi-turn retriever can be substituted in any of the previous examples."
   ]
  },
  {
   "cell_type": "code",
   "execution_count": 17,
   "id": "9bf06930-6063-4bbe-ace3-9d9dff41e9ad",
   "metadata": {
    "tags": []
   },
   "outputs": [
    {
     "name": "stdout",
     "output_type": "stream",
     "text": [
      "Alphabet revenues in 2022 were $282,836 million.\n"
     ]
    }
   ],
   "source": [
    "multi_turn_retriever = VertexAIMultiTurnSearchRetriever(\n",
    "    project_id=PROJECT_ID, location_id=DATA_STORE_LOCATION, data_store_id=DATA_STORE_ID\n",
    ")\n",
    "\n",
    "memory = ConversationBufferMemory(memory_key=\"chat_history\", return_messages=True)\n",
    "\n",
    "conversational_retrieval = ConversationalRetrievalChain.from_llm(\n",
    "    llm=llm, retriever=multi_turn_retriever, memory=memory\n",
    ")\n",
    "\n",
    "search_query = \"What were alphabet revenues in 2022?\"\n",
    "\n",
    "result = conversational_retrieval.invoke(search_query)\n",
    "print(result[\"answer\"])"
   ]
  },
  {
   "cell_type": "code",
   "execution_count": 18,
   "id": "72d88150-82c5-4796-b1ee-b91f20796443",
   "metadata": {
    "tags": []
   },
   "outputs": [
    {
     "name": "stdout",
     "output_type": "stream",
     "text": [
      "Alphabet's costs and expenses in 2022 were $207,994 million.\n"
     ]
    }
   ],
   "source": [
    "new_query = \"What about costs and expenses?\"\n",
    "result = conversational_retrieval.invoke(new_query)\n",
    "print(result[\"answer\"])"
   ]
  },
  {
   "cell_type": "code",
   "execution_count": 19,
   "id": "e1400bf4-cb21-4a9e-acce-b3ad3dfef503",
   "metadata": {
    "tags": []
   },
   "outputs": [
    {
     "name": "stdout",
     "output_type": "stream",
     "text": [
      "Yes, Alphabet's total costs and expenses in 2022 were more than in 2021. In 2021, total costs and expenses were $178,923 million, while in 2022, they were $207,994 million.\n",
      "\n"
     ]
    }
   ],
   "source": [
    "new_query = \"Is this more than in 2021?\"\n",
    "\n",
    "result = conversational_retrieval.invoke(new_query)\n",
    "print(result[\"answer\"])"
   ]
  },
  {
   "cell_type": "code",
   "execution_count": 20,
   "id": "5ad3553f-bb09-44f3-af39-9fd183c9f310",
   "metadata": {
    "tags": []
   },
   "outputs": [
    {
     "name": "stdout",
     "output_type": "stream",
     "text": [
      "In 2022, Alphabet's revenue was $282.836 billion, and its total costs and expenses were $207.994 billion.\n",
      "\n"
     ]
    }
   ],
   "source": [
    "new_query = \"How does revenue relate to costs and expenses?\"\n",
    "result = conversational_retrieval.invoke(new_query)\n",
    "print(result[\"answer\"])"
   ]
  },
  {
   "cell_type": "markdown",
   "id": "40b15602-7e14-44b4-8f38-cfcd81aa0d14",
   "metadata": {},
   "source": [
    "## Task 5. Advanced: Modifying the default LangChain prompt\n",
    "In all of the previous steps, we used the default prompt that comes with langchain.\n",
    "\n",
    "We can inspect our chain object to discover the wording of the prompt template being used.\n",
    "\n",
    "We may find that this is not suitable for our purposes, and we may wish to customize the prompt, for example to present our results in a different format, or to specify additional constraints."
   ]
  },
  {
   "cell_type": "code",
   "execution_count": 21,
   "id": "e3b37ade-8ef7-4afd-9335-77231a4d5621",
   "metadata": {
    "tags": []
   },
   "outputs": [
    {
     "name": "stdout",
     "output_type": "stream",
     "text": [
      "Use the following pieces of context to answer the user's question. \n",
      "If you don't know the answer, just say that you don't know, don't try to make up an answer.\n",
      "----------------\n",
      "{context}\n"
     ]
    }
   ],
   "source": [
    "# 1. Execute the below code snippet to get the result in the form of a template.\n",
    "qa = RetrievalQA.from_chain_type(\n",
    "    llm=llm, chain_type=\"stuff\", retriever=retriever, return_source_documents=True\n",
    ")\n",
    "\n",
    "print(qa.combine_documents_chain.llm_chain.prompt.messages[0].prompt.template)"
   ]
  },
  {
   "cell_type": "code",
   "execution_count": 22,
   "id": "c4095ddd-dcca-4551-abf9-9417c025d6fd",
   "metadata": {
    "tags": []
   },
   "outputs": [],
   "source": [
    "# 2. Let's modify the prompt to return an answer in a single word (useful for yes/no questions).\n",
    "#    We will constrain the LLM to say 'I don't know' if it cannot answer.\n",
    "\n",
    "# We will create a new prompt_template and pass this in using the template argument.\n",
    "\n",
    "prompt_template = \"\"\"Use the context to answer the question at the end.\n",
    "You must always use the context and context only to answer the question. Never try to make up an answer. If the context is empty or you do not know the answer, just say \"I don't know\".\n",
    "The answer should consist of only 1 word and not a sentence.\n",
    "\n",
    "Context: {context}\n",
    "\n",
    "Question: {question}\n",
    "Helpful Answer:\n",
    "\"\"\"\n",
    "prompt = PromptTemplate(\n",
    "    template=prompt_template, input_variables=[\"context\", \"question\"]\n",
    ")\n",
    "qa_chain = RetrievalQA.from_llm(\n",
    "    llm=llm, prompt=prompt, retriever=retriever, return_source_documents=True\n",
    ")"
   ]
  },
  {
   "cell_type": "code",
   "execution_count": 23,
   "id": "be41f984-edf3-421d-9a74-ef37f01d8129",
   "metadata": {
    "tags": []
   },
   "outputs": [
    {
     "name": "stdout",
     "output_type": "stream",
     "text": [
      "Use the context to answer the question at the end.\n",
      "You must always use the context and context only to answer the question. Never try to make up an answer. If the context is empty or you do not know the answer, just say \"I don't know\".\n",
      "The answer should consist of only 1 word and not a sentence.\n",
      "\n",
      "Context: {context}\n",
      "\n",
      "Question: {question}\n",
      "Helpful Answer:\n",
      "\n"
     ]
    }
   ],
   "source": [
    "print(qa_chain.combine_documents_chain.llm_chain.prompt.template)"
   ]
  },
  {
   "cell_type": "code",
   "execution_count": 24,
   "id": "b04b7e84-b5e5-4189-beb5-05b56a914fc6",
   "metadata": {
    "tags": []
   },
   "outputs": [
    {
     "name": "stdout",
     "output_type": "stream",
     "text": [
      "*******************************************************************************\n",
      "Yes\n",
      "\n",
      "*******************************************************************************\n",
      "-------------------------------------------------------------------------------\n",
      "Year Ended December 31, % Change from 2020 2021 Prior Year EMEA revenues $ $ 43% EMEA constant currency revenues 38 % APAC revenues 32550 42% APAC constant currency revenues 40% Other Americas revenues 14404 53% Other Americas constant currency revenues 52% United States revenues 85014 39% Hedging gains (losses) 149 Total revenues $ $ 41% Revenues, excluding hedging effect $ 182351 $ Exchange rate effect (3330) Total constant currency revenues $ 254158 39% EMEA revenue growth from 2020 to 2021 was favorably affected by foreign currency exchange rates, primarily due to the US dollar weakening relative to the Euro and British pound.\n",
      "-------------------------------------------------------------------------------\n",
      "Google Cloud&#39;s infrastructure and platform services were the largest drivers of growth in GCP. Revenues by Geography The following table presents revenues by geography as a percentage of revenues, determined based on the addresses of our Year Ended December 31, 2020 2021 United States % % EMEA 30 % 31 % APAC 18 % 18 % Other Americas 5 % 5 %\n",
      "-------------------------------------------------------------------------------\n",
      "This was followed by increased spending by our advertisers, which continued throughout the.\n",
      "-------------------------------------------------------------------------------\n",
      "Comparison to the Quarter Ended December 31, 2020 Quarter Ended December 31, 2020 December 31, 2021 % Change from Prior Year EMEA revenues $ 17238 $ 23153 34 % EMEA constant currency revenues 23211 35 % APAC revenues 9909 12732 28 % APAC constant currency revenues 12996 31 % Other Americas revenues 3050 4447 46 % Other Americas constant currency revenues 4398 44 % United States revenues 26703 34790 30 % Hedging gains (losses) (2) 203 Total revenues $ 56898 $ 75325 32 % Revenues, excluding hedging effect $ 56900 $ 75122 Exchange rate effect 273 Total constant currency revenues $ 75395 33 % 7.\n",
      "-------------------------------------------------------------------------------\n",
      "Comparison to the Quarter Ended September 30, 2021 Quarter Ended September 30, 2021 December 31, 2021 % Change from Prior Quarter EMEA revenues $ 19839 $ 23153 17 % EMEA constant currency revenues 23662 19 % APAC revenues 11705 12732 9 % APAC constant currency revenues 12872 10 % Other Americas revenues 3688 4447 21 % Other Americas constant currency revenues 4560 24 % United States revenues 29824 34790 17 % Hedging gains (losses) 62 203 Total revenues $ 65118 $ 75325 16 % Revenues, excluding hedging effect $ 65056 $ 75122 Exchange rate effect 762 Total constant currency revenues $ 75884 17 % Comparison to the Year Ended December 31, 2020 Year Ended December 31, 2020 December 31, 2021 % Change from Prior Year EMEA revenues $ 55370 $ 79107 43 % EMEA constant currency revenues 76321 38 % APAC revenues 32550 46123 42 % APAC constant currency revenues 45666 40 % Other Americas revenues 9417 14404 53 % Other Americas constant currency revenues 14317 52 % United States revenues 85014 117854 39 % Hedging gains (losses) 176 149 Total revenues $ 182527 $ 257637 41 % Revenues, excluding hedging effect $ 182351 $ 257488 Exchange rate effect (3330) Total constant currency revenues $ 254158 39 % Non-GAAP constant currency revenues and percentage change: We define non-GAAP constant currency revenues as total revenues excluding the effect of foreign exchange rate movements and hedging activities, and we use it to determine the constant currency revenue percentage change on year-on-year and quarter-on-quarter basis.\n",
      "-------------------------------------------------------------------------------\n",
      "Contact Investor relations Media investor-relations@abc.xyz press@abc.xyz 3.\n",
      "-------------------------------------------------------------------------------\n",
      "The increase was due to increases in other cost of revenues and TAC of $10147 million and $2689 million, respectively.\n",
      "-------------------------------------------------------------------------------\n",
      "EMEA revenue percentage change from 2019 to 2020 was not significantly affected by foreign currency exchange rates, primarily due to the US dollar weakening relative to the Euro offset by the US dollar strengthening relative to the Turkish lira and Russian ruble.\n",
      "-------------------------------------------------------------------------------\n",
      "This has led to a trend of increased revenues from international markets over time, as regions with emerging markets, such as APAC, have demonstrated higher revenue growth rates.\n",
      "-------------------------------------------------------------------------------\n",
      "Total revenues and hedging gains for the quarter ended March 31, 2020 were $41159 million and $49 million, respectively.\n",
      "-------------------------------------------------------------------------------\n",
      "We also share Google news and product updates on Google&#39;s Keyword blog at https://www.blog.google/, which may be of interest or material to our investors.\n",
      "-------------------------------------------------------------------------------\n",
      "Contact Investor relations Media investor-relations@abc.xyz press@abc.xyz 3.\n",
      "-------------------------------------------------------------------------------\n",
      "Comparison from the Quarter Ended June 30, 2020 to the Quarter Ended June 30, 2021 Quarter Ended June 30, 2020 June 30, 2021 % Change from Prior Year EMEA revenues $ 11363 $ 19084 68 % EMEA constant currency revenues 17659 55 % APAC revenues 6945 11231 62 % APAC constant currency revenues 10881 57 % Other Americas revenues 1839 3364 83 % Other Americas constant currency revenues 3252 77 % United States revenues 17999 28208 57 % Hedging gains (losses) 151 (7) Total revenues $ 38297 $ 61880 62 % Revenues, excluding hedging effect $ 38146 $ 61887 Exchange rate effect (1887) Total constant currency revenues $ 60000 57 % 7.\n",
      "-------------------------------------------------------------------------------\n",
      "Comparison from the Quarter Ended June 30, 2021 to the Quarter Ended June 30, 2022 Quarter Ended June 30, 2021 June 30, 2022 % Change from Prior Year EMEA revenues $ 19084 $ 20533 8 % EMEA constant currency revenues 22489 18 % APAC revenues 11231 11710 4 % APAC constant currency revenues 12466 11 % Other Americas revenues 3364 4340 29 % Other Americas constant currency revenues 4310 28 % United States revenues 28208 32727 16 % Hedging gains (losses) (7) 375 Total revenues $ 61880 $ 69685 13 % Revenues, excluding hedging effect $ 61887 $ 69310 Exchange rate effect 2682 Total constant currency revenues $ 71992 16 % Comparison from the Quarter Ended March 31, 2022 to the Quarter Ended June 30, 2022 Quarter Ended March 31, 2022 June 30, 2022 % Change from Prior Quarter EMEA revenues $ 20317 $ 20533 1 % EMEA constant currency revenues 21164 4 % APAC revenues 11841 11710 (1) % APAC constant currency revenues 12044 2 % Other Americas revenues 3842 4340 13 % Other Americas constant currency revenues 4231 10 % United States revenues 31733 32727 3 % Hedging gains (losses) 278 375 Total revenues $ 68011 $ 69685 2 % Revenues, excluding hedging effect $ 67733 $ 69310 Exchange rate effect 856 Total constant currency revenues $ 70166 4 % Non-GAAP constant currency revenues and percentage change: We define non-GAAP constant currency revenues as total revenues excluding the effect of foreign exchange rate movements and hedging activities, and we use it to determine the constant currency revenue percentage change on year-on-year and quarter-on-quarter basis. Non-GAAP constant currency revenues are calculated by translating current quarter revenues using prior period exchange rates and excluding any hedging effect recognized in the current quarter.\n",
      "-------------------------------------------------------------------------------\n",
      "Other income (expense), net The following table presents our other income (expense), net (in millions; unaudited): Quarter Ended June 30, 2021 2022 Interest income $ 389 $ 486 Interest expense (76) (83) Foreign currency exchange gain (loss), net (51) (260) Gain (loss) on debt securities, net 111 (790) Gain (loss) on equity securities, net(1) 2772 (251) Performance fees (523) 318 Income (loss) and impairment from equity method investments, net 92 (118) Other (90) 259 Other income (expense), net $ 2624 $ (439) (1) Includes all gains and losses, unrealized and realized, on equity investments.\n",
      "-------------------------------------------------------------------------------\n",
      "Quarter Ended March 31, 2020 YoY (using Q1&#39;19&#39;s FX rates) QoQ (using Q4&#39;19&#39;s FX rates) EMEA revenues (GAAP) $ 12845 $ 12845 Exclude foreign exchange effect on Q1&#39;20 revenues using Q1&#39;19 rates 235 N/A Exclude foreign exchange effect on Q1&#39;20 revenues using Q4&#39;19 rates N/A (63) EMEA constant currency revenues (non-GAAP) $ 13080 $ 12782 Prior period EMEA revenues (GAAP) $ 11668 $ 14099 EMEA revenue growth (GAAP) 10 % (9)% EMEA constant currency revenue growth (non-GAAP) 12 % (9)% APAC revenues (GAAP) $ 7238 $ 7238 Exclude foreign exchange effect on Q1&#39;20 revenues using Q1&#39;19 rates 61 N/A Exclude foreign exchange effect on Q1&#39;20 revenues using Q4&#39;19 rates N/A 37 APAC constant currency revenues (non-GAAP) $ 7299 $ 7275 Prior period APAC revenues (GAAP) $ 6096 $ 7482 APAC revenue growth (GAAP) 19 % (3)% APAC constant currency revenue growth (non-GAAP) 20 % (3)% Other Americas revenues (GAAP) $ 2157 $ 2157 Exclude foreign exchange effect on Q1&#39;20 revenues using Q1&#39;19 rates 96 N/A Exclude foreign exchange effect on Q1&#39;20 revenues using Q4&#39;19 rates N/A 14 Other Americas constant currency revenues (non-GAAP) $ 2253 $ 2171 Prior period Other Americas revenues (GAAP) $ 1906 $ 2666 Other Americas revenue growth (GAAP) 13 % (19)% Other Americas constant currency revenue growth (non-GAAP) 18 % (19)% United States revenues (GAAP) $ 18870 $ 18870 United States revenue growth (GAAP) 14 % (13)% Hedging gains $ 49 $ 49 Revenues (GAAP) $ 41159 $ 41159 Constant currency revenues (non-GAAP) $ 41502 $ 41098 Prior period revenues, excluding hedging effect (non-GAAP)(1) $ 36202 $ 45984 Revenue growth (GAAP) 13 % (11)% Constant currency revenue growth (non-GAAP) 15 % (11)% (1) Total revenues and hedging gains for the quarter ended March 31, 2019 were $36339 million and $137 million, respectively.\n",
      "-------------------------------------------------------------------------------\n",
      "Hedging gains, which were previously included in Google revenues, are presented separately.\n",
      "-------------------------------------------------------------------------------\n",
      "(3) For purposes of segment reporting, SBC represents awards that we expect to settle in Alphabet stock. (4) Reconciling items are primarily related to corporate administrative and other costs that are not allocated to individual segments.\n",
      "-------------------------------------------------------------------------------\n",
      "Comparison from the Quarter Ended March 31, 2020 to the Quarter Ended March 31, 2021 Quarter Ended % Change from Prior March 31, 2020 March 31, 2021 Year EMEA revenues $ 12845 $ 17031 33 % EMEA constant currency revenues 16102 25 % APAC revenues 7238 10455 44 % APAC constant currency revenues 10092 39 % Other Americas revenues 2157 2905 35 % Other Americas constant currency revenues 3096 44 % United States revenues 18870 25032 33 % Hedging gains (losses) 49 (109) Total revenues $ 41159 $ 55314 34 % Revenues, excluding hedging effect $ 41110 $ 55423 Exchange rate effect (1101) Total constant currency revenues $ 54322 32 % 7.\n",
      "-------------------------------------------------------------------------------\n",
      "Comparison from the Quarter Ended March 31, 2021 to the Quarter Ended March 31, 2022 Quarter Ended March 31, 2021 March 31, 2022 % Change from Prior Year EMEA revenues $ 17031 $ 20317 19 % EMEA constant currency revenues 21628 27 % APAC revenues 10455 11841 13 % APAC constant currency revenues 12440 19 % Other Americas revenues 2905 3842 32 % Other Americas constant currency revenues 3923 35 % United States revenues 25032 31733 27 % Hedging gains (losses) (109) 278 Total revenues $ 55314 $ 68011 23 % Revenues, excluding hedging effect $ 55423 $ 67733 Exchange rate effect 1991 Total constant currency revenues $ 69724 26 % Comparison from the Quarter Ended December 31, 2021 to the Quarter Ended March 31, 2022 Quarter Ended December 31, 2021 March 31, 2022 % Change from Prior Quarter EMEA revenues $ 23153 $ 20317 (12) % EMEA constant currency revenues 20836 (10) % APAC revenues 12732 11841 (7) % APAC constant currency revenues 11975 (6) % Other Americas revenues 4447 3842 (14) % Other Americas constant currency revenues 3854 (13) % United States revenues 34790 31733 (9) % Hedging gains (losses) 203 278 Total revenues $ 75325 $ 68011 (10) % Revenues, excluding hedging effect $ 75122 $ 67733 Exchange rate effect 665 Total constant currency revenues $ 68398 (9) % Non-GAAP constant currency revenues and percentage change: We define non-GAAP constant currency revenues as total revenues excluding the effect of foreign exchange rate movements and hedging activities, and we use it to determine the constant currency revenue percentage change on year-on-year and quarter-on-quarter basis. Non-GAAP constant currency revenues are calculated by translating current quarter revenues using prior period exchange rates and excluding any hedging effect recognized in the current quarter.\n",
      "-------------------------------------------------------------------------------\n",
      "See the table captioned “Reconciliation from GAAP revenues to non-GAAP constant currency revenues” for more details. Q1 2022 supplemental information (in millions, except for number of employees; unaudited) Revenues, Traffic Acquisition Costs (TAC) and number of employees Quarter Ended March 31, 2021 2022 Google Search &amp; other $ 31879 $ 39618 YouTube ads 6005 6869 Google Network 6800 8174 Google advertising 44684 54661 Google other 6494 6811 Google Services total 51178 61472 Google Cloud 4047 5821 Other Bets 198 440 Hedging gains (losses) (109) 278 Total revenues $ 55314 $ 68011 Total TAC $ 9712 $ 11990 Number of employees 139995 163906.\n",
      "-------------------------------------------------------------------------------\n",
      "Comparison from the Quarter Ended September 30, 2020 to the Quarter Ended September 30, 2021 Quarter Ended September 30, 2020 September 30, 2021 % Change from Prior Year EMEA revenues $ 13924 $ 19839 42 % EMEA constant currency revenues 19349 39 % APAC revenues 8458 11705 38 % APAC constant currency revenues 11697 38 % Other Americas revenues 2371 3688 56 % Other Americas constant currency revenues 3571 51 % United States revenues 21442 29824 39 % Hedging gains (losses) (22) 62 Total revenues $ 46173 $ 65118 41 % Revenues, excluding hedging effect $ 46195 $ 65056 Exchange rate effect (615) Total constant currency revenues $ 64441 39 % 7.\n",
      "-------------------------------------------------------------------------------\n",
      "Comparison from the Quarter Ended September 30, 2021 to the Quarter Ended September 30, 2022 Quarter Ended September 30, 2021 September 30, 2022 % Change from Prior Year EMEA revenues $ 19839 $ 19450 (2) % EMEA constant currency revenues 22093 11 % APAC revenues 11705 11494 (2) % APAC constant currency revenues 12604 8 % Other Americas revenues 3688 4138 12 % Other Americas constant currency revenues 4303 17 % United States revenues 29824 33372 12 % Hedging gains (losses) 62 638 Total revenues $ 65118 $ 69092 6 % Revenues, excluding hedging effect $ 65056 $ 68454 Exchange rate effect 3918 Total constant currency revenues $ 72372 11 % Comparison from the Quarter Ended June 30, 2022 to the Quarter Ended September 30, 2022 Quarter Ended June 30, 2022 September 30, 2022 % Change from Prior Quarter EMEA revenues $ 20533 $ 19450 (5) % EMEA constant currency revenues 20390 (1) % APAC revenues 11710 11494 (2) % APAC constant currency revenues 11949 2 % Other Americas revenues 4340 4138 (5) % Other Americas constant currency revenues 4290 (1) % United States revenues 32727 33372 2 % Hedging gains (losses) 375 638 Total revenues $ 69685 $ 69092 (1) % Revenues, excluding hedging effect $ 69310 $ 68454 Exchange rate effect 1547 Total constant currency revenues $ 70001 1 % Non-GAAP constant currency revenues and percentage change: We define non-GAAP constant currency revenues as total revenues excluding the effect of foreign exchange rate movements and hedging activities, and we use it to determine the constant currency revenue percentage change on year-on-year and quarter-on-quarter basis. Non-GAAP constant currency revenues are calculated by translating current quarter revenues using prior period exchange rates and excluding any hedging effect recognized in the current quarter.\n",
      "-------------------------------------------------------------------------------\n",
      "Other income (expense), net The following table presents our other income (expense), net (in millions; unaudited): Quarter Ended September 30, 2021 2022 Interest income $ 387 $ 615 Interest expense (77) (101) Foreign currency exchange gain (loss), net (139) (136) Gain (loss) on debt securities, net 37 (731) Gain (loss) on equity securities, net(1) 2121 (647) Performance fees (492) 54 Income (loss) and impairment from equity method investments, net 188 (99) Other 8 143 Other income (expense), net $ 2033 $ (902) (1) Includes all gains and losses, unrealized and realized, on equity investments.\n",
      "-------------------------------------------------------------------------------\n",
      "Quarter Ended December 31, 2020 YoY (using Q4&#39;19&#39;s FX rates) QoQ (using Q3&#39;20&#39;s FX rates) EMEA revenues (GAAP) $ 17238 $ 17238 Exclude foreign exchange effect on Q4&#39;20 revenues using Q4&#39;19 rates (457) N/A Exclude foreign exchange effect on Q4&#39;20 revenues using Q3&#39;20 rates N/A (91) EMEA constant currency revenues (non-GAAP) $ 16781 $ 17147 Prior period EMEA revenues (GAAP) $ 14099 $ 13924 EMEA revenue percentage change (GAAP) 22 % 24 % EMEA constant currency revenue percentage change (non-GAAP) 19 % 23 % APAC revenues (GAAP) $ 9909 $ 9909 Exclude foreign exchange effect on Q4&#39;20 revenues using Q4&#39;19 rates (156) N/A Exclude foreign exchange effect on Q4&#39;20 revenues using Q3&#39;20 rates N/A (109) APAC constant currency revenues (non-GAAP) $ 9753 $ 9800 Prior period APAC revenues (GAAP) $ 7482 $ 8458 APAC revenue percentage change (GAAP) 32 % 17 % APAC constant currency revenue percentage change (non-GAAP) 30 % 16 % Other Americas revenues (GAAP) $ 3050 $ 3050 Exclude foreign exchange effect on Q4&#39;20 revenues using Q4&#39;19 rates 324 N/A Exclude foreign exchange effect on Q4&#39;20 revenues using Q3&#39;20 rates N/A 11 Other Americas constant currency revenues (non-GAAP) $ 3374 $ 3061 Prior period Other Americas revenues (GAAP) $ 2666 $ 2371 Other Americas revenue percentage change (GAAP) 14 % 29 % Other Americas constant currency revenue percentage change (non-GAAP) 27 % 29 % United States revenues (GAAP) $ 26703 $ 26703 United States revenue percentage change (GAAP) 23 % 25 % Hedging gains (losses) $ (2) $ (2) Revenues (GAAP) $ 56898 $ 56898 Constant currency revenues (non-GAAP) $ 56611 $ 56711 Prior period revenues, excluding hedging effect (non-GAAP)(1) $ 45984 $ 46195 Revenue percentage change (GAAP) 23 % 23 % Constant currency revenue percentage change (non-GAAP) 23 % 23 % (1) Total revenues and hedging gains (losses) for the quarter ended December 31, 2019 were $46075 million and $91 million, respectively.\n",
      "-------------------------------------------------------------------------------\n",
      "Quarter Ended December 31, 2019 2020 Revenues $ 46075 $ 56898 Increase in revenues year over year 17 % 23 % Increase in constant currency revenues year over year(1) 19 % 23 % Operating income $ 9266 $ 15651 Operating margin 20 % 28 % Other income (expense), net $ 1438 $ 3038 Net income $ 10671 $ 15227 Diluted EPS $ 15.35 $ 22.30 (1) Non-GAAP measure.\n",
      "-------------------------------------------------------------------------------\n",
      "Contact Investor relations Media investor-relations@abc.xyz press@abc.xyz 3.\n",
      "-------------------------------------------------------------------------------\n",
      "Quarter Ended September 30, 2020 YoY (using Q3&#39;19&#39;s FX rates) QoQ (using Q2&#39;20&#39;s FX rates) EMEA revenues (GAAP) $ 13924 $ 13924 Exclude foreign exchange effect on Q3&#39;20 revenues using Q3&#39;19 rates (250) N/A Exclude foreign exchange effect on Q3&#39;20 revenues using Q2&#39;20 rates N/A (605) EMEA constant currency revenues (non-GAAP) $ 13674 $ 13319 Prior period EMEA revenues (GAAP) $ 12565 $ 11363 EMEA revenue percentage change (GAAP) 11 % 23 % EMEA constant currency revenue percentage change (non-GAAP) 9 % 17 % APAC revenues (GAAP) $ 8458 $ 8458 Exclude foreign exchange effect on Q3&#39;20 revenues using Q3&#39;19 rates 1 N/A Exclude foreign exchange effect on Q3&#39;20 revenues using Q2&#39;20 rates N/A (180) APAC constant currency revenues (non-GAAP) $ 8459 $ 8278 Prior period APAC revenues (GAAP) $ 6814 $ 6945 APAC revenue percentage change (GAAP) 24 % 22 % APAC constant currency revenue percentage change (non-GAAP) 24 % 19 % Other Americas revenues (GAAP) $ 2371 $ 2371 Exclude foreign exchange effect on Q3&#39;20 revenues using Q3&#39;19 rates 304 N/A Exclude foreign exchange effect on Q3&#39;20 revenues using Q2&#39;20 rates N/A (35) Other Americas constant currency revenues (non-GAAP) $ 2675 $ 2336 Prior period Other Americas revenues (GAAP) $ 2290 $ 1839 Other Americas revenue percentage change (GAAP) 4 % 29 % Other Americas constant currency revenue percentage change (non-GAAP) 17 % 27 % United States revenues (GAAP) $ 21442 $ 21442 United States revenue percentage change (GAAP) 15 % 19 % Hedging gains (losses) $ (22) $ (22) Revenues (GAAP) $ 46173 $ 46173 Constant currency revenues (non-GAAP) $ 46250 $ 45375 Prior period revenues, excluding hedging effect (non-GAAP)(1) $ 40380 $ 38146 Revenue percentage change (GAAP) 14 % 21 % Constant currency revenue percentage change (non-GAAP) 15 % 19 % (1) Total revenues and hedging gains (losses) for the quarter ended September 30, 2019 were $40499 million and $119 million, respectively.\n",
      "-------------------------------------------------------------------------------\n",
      "Undue reliance should not be placed on the forward-looking statements in 2.\n",
      "-------------------------------------------------------------------------------\n",
      "Quarter Ended September 30, 2019 2020 Revenues $40499 $46173 Increase in revenues year over year 20 % 14 % Increase in constant currency revenues year over year(1) 22 % 15 % Operating income $9177 $11213 Operating margin 23 % 24 % Other income (expense), net ($549) $2146 Net income $7068 $11247 Diluted EPS $10.12 $16.40 (1) Non-GAAP measure.\n"
     ]
    }
   ],
   "source": [
    "search_query = \"Were 2020 EMEA revenues higher than 2020 APAC revenues?\"\n",
    "\n",
    "results = qa_chain.invoke(search_query)\n",
    "\n",
    "print(\"*\" * 79)\n",
    "print(results[\"result\"])\n",
    "print(\"*\" * 79)\n",
    "for doc in results[\"source_documents\"]:\n",
    "    print(\"-\" * 79)\n",
    "    print(doc.page_content)"
   ]
  },
  {
   "cell_type": "code",
   "execution_count": null,
   "id": "eeec43c5-4925-4484-997c-31c2d9736556",
   "metadata": {},
   "outputs": [],
   "source": []
  }
 ],
 "metadata": {
  "environment": {
   "kernel": "conda-base-py",
   "name": "workbench-notebooks.m130",
   "type": "gcloud",
   "uri": "us-docker.pkg.dev/deeplearning-platform-release/gcr.io/workbench-notebooks:m130"
  },
  "kernelspec": {
   "display_name": "Python 3 (ipykernel) (Local)",
   "language": "python",
   "name": "conda-base-py"
  },
  "language_info": {
   "codemirror_mode": {
    "name": "ipython",
    "version": 3
   },
   "file_extension": ".py",
   "mimetype": "text/x-python",
   "name": "python",
   "nbconvert_exporter": "python",
   "pygments_lexer": "ipython3",
   "version": "3.10.18"
  }
 },
 "nbformat": 4,
 "nbformat_minor": 5
}
