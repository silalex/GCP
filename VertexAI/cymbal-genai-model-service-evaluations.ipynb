{
  "cells": [
    {
      "cell_type": "markdown",
      "source": [
        "# Lab: Evaluate Gen AI Model and Agent Performance: Challenge Lab (GENAI098)\n",
        "\n",
        "Link: https://partner.cloudskillsboost.google/paths/2311/course_templates/1293/labs/531997\n",
        "\n",
        "## Your Challenge\n",
        "Cymbal would like to use the Gen AI evaluation service in the following scenarios:\n",
        " - Evaluate a model's performance in response to prompts\n",
        " - Evaluate and compare two model's performance to each other for model selection\n",
        " - Evaluate the performance of agents\n",
        "\n",
        "Your challenge is to provide the initial examples of how this can be achieved.\n",
        "\n",
        "## Task 1. Initialize Vertex AI in a Colab Enterprise notebook"
      ],
      "metadata": {
        "id": "Zn1s5O3Tk8hr"
      },
      "id": "Zn1s5O3Tk8hr"
    },
    {
      "cell_type": "code",
      "id": "5yEzxSzIykkftxC6Fc6YvJ0i",
      "metadata": {
        "tags": [],
        "id": "5yEzxSzIykkftxC6Fc6YvJ0i",
        "colab": {
          "base_uri": "https://localhost:8080/"
        },
        "outputId": "002935ee-4a6f-4d70-fee9-967197e4105f"
      },
      "source": [
        "!pip install --upgrade google-cloud-aiplatform google-cloud-logging --quiet\n",
        "!pip install \"google-cloud-aiplatform[evaluation]\" --quiet"
      ],
      "execution_count": 1,
      "outputs": [
        {
          "output_type": "stream",
          "name": "stdout",
          "text": [
            "\u001b[?25l   \u001b[90m━━━━━━━━━━━━━━━━━━━━━━━━━━━━━━━━━━━━━━━━\u001b[0m \u001b[32m0.0/7.7 MB\u001b[0m \u001b[31m?\u001b[0m eta \u001b[36m-:--:--\u001b[0m\r\u001b[2K   \u001b[91m━━━━━━━━━━━━━━━━━\u001b[0m\u001b[90m╺\u001b[0m\u001b[90m━━━━━━━━━━━━━━━━━━━━━━\u001b[0m \u001b[32m3.3/7.7 MB\u001b[0m \u001b[31m99.2 MB/s\u001b[0m eta \u001b[36m0:00:01\u001b[0m\r\u001b[2K   \u001b[91m━━━━━━━━━━━━━━━━━━━━━━━━━━━━━━━━━━━━━━━\u001b[0m\u001b[91m╸\u001b[0m \u001b[32m7.7/7.7 MB\u001b[0m \u001b[31m122.6 MB/s\u001b[0m eta \u001b[36m0:00:01\u001b[0m\r\u001b[2K   \u001b[90m━━━━━━━━━━━━━━━━━━━━━━━━━━━━━━━━━━━━━━━━\u001b[0m \u001b[32m7.7/7.7 MB\u001b[0m \u001b[31m80.0 MB/s\u001b[0m eta \u001b[36m0:00:00\u001b[0m\n",
            "\u001b[?25h\u001b[?25l   \u001b[90m━━━━━━━━━━━━━━━━━━━━━━━━━━━━━━━━━━━━━━━━\u001b[0m \u001b[32m0.0/229.5 kB\u001b[0m \u001b[31m?\u001b[0m eta \u001b[36m-:--:--\u001b[0m\r\u001b[2K   \u001b[90m━━━━━━━━━━━━━━━━━━━━━━━━━━━━━━━━━━━━━━━━\u001b[0m \u001b[32m229.5/229.5 kB\u001b[0m \u001b[31m24.3 MB/s\u001b[0m eta \u001b[36m0:00:00\u001b[0m\n",
            "\u001b[2K   \u001b[90m━━━━━━━━━━━━━━━━━━━━━━━━━━━━━━━━━━━━━━━━\u001b[0m \u001b[32m65.8/65.8 kB\u001b[0m \u001b[31m7.1 MB/s\u001b[0m eta \u001b[36m0:00:00\u001b[0m\n",
            "\u001b[2K   \u001b[90m━━━━━━━━━━━━━━━━━━━━━━━━━━━━━━━━━━━━━━━━\u001b[0m \u001b[32m118.6/118.6 kB\u001b[0m \u001b[31m6.2 MB/s\u001b[0m eta \u001b[36m0:00:00\u001b[0m\n",
            "\u001b[2K   \u001b[90m━━━━━━━━━━━━━━━━━━━━━━━━━━━━━━━━━━━━━━━━\u001b[0m \u001b[32m739.1/739.1 kB\u001b[0m \u001b[31m24.3 MB/s\u001b[0m eta \u001b[36m0:00:00\u001b[0m\n",
            "\u001b[?25h"
          ]
        }
      ]
    },
    {
      "cell_type": "code",
      "source": [
        "# 1) Restart the runtime (!)\n",
        "# 2) Import required libs\n",
        "\n",
        "import pandas as pd\n",
        "import logging\n",
        "import google.cloud.logging\n",
        "from IPython.display import display, Markdown\n",
        "\n",
        "import vertexai\n",
        "from vertexai.generative_models import GenerativeModel, GenerationConfig\n",
        "from vertexai.evaluation import (\n",
        "    MetricPromptTemplateExamples,\n",
        "    EvalTask,\n",
        "    PairwiseMetric,\n",
        "    PointwiseMetric,\n",
        ")\n",
        "\n",
        "# Do not remove logging section\n",
        "client = google.cloud.logging.Client()\n",
        "client.setup_logging()\n",
        "\n",
        "pd.set_option(\"display.max_colwidth\", None)"
      ],
      "metadata": {
        "id": "Gm1u3ttglbpc"
      },
      "id": "Gm1u3ttglbpc",
      "execution_count": 1,
      "outputs": []
    },
    {
      "cell_type": "code",
      "source": [
        "# initialize Vertex AI\n",
        "PROJECT_ID = \"qwiklabs-gcp-03-49581a752317\"\n",
        "LOCATION = \"us-west1\"\n",
        "\n",
        "import vertexai\n",
        "\n",
        "# Initialize vertexai\n",
        "vertexai.init()\n",
        "\n",
        "# Do not remove logging section\n",
        "log_message = f\"Vertex AI initialize: {vertexai}\"\n",
        "logging.info(log_message)"
      ],
      "metadata": {
        "colab": {
          "base_uri": "https://localhost:8080/"
        },
        "id": "Ys_MfCADmCjq",
        "outputId": "66bea90a-20ac-42f9-bf78-87a347e89434"
      },
      "id": "Ys_MfCADmCjq",
      "execution_count": 2,
      "outputs": [
        {
          "output_type": "stream",
          "name": "stderr",
          "text": [
            "INFO:root:Vertex AI initialize: <module 'vertexai' from '/usr/local/lib/python3.11/dist-packages/vertexai/__init__.py'>\n"
          ]
        }
      ]
    },
    {
      "cell_type": "markdown",
      "source": [
        "## Task 2. Explore example data and make a simple summarization request to a Gen AI model\n",
        "\n",
        "In this task, you will set up some sample product description data for a large language model to summarize and then use a prompt to send a simple summarization request to the model. This configuration will then be used for evaluating the models performance in providing summarizations.\n",
        "\n",
        "1. The prompt you will use for summarization is shown below. Run the following code in a new cell to set the prompt_template."
      ],
      "metadata": {
        "id": "asNgvCHRmbMc"
      },
      "id": "asNgvCHRmbMc"
    },
    {
      "cell_type": "code",
      "source": [
        "prompt_template=\"# System_prompt\\n{system_prompt} # Question\\n{question} # Description {description}\""
      ],
      "metadata": {
        "id": "EBrVuKwKmLOs"
      },
      "id": "EBrVuKwKmLOs",
      "execution_count": 3,
      "outputs": []
    },
    {
      "cell_type": "markdown",
      "source": [
        "2. Next, define the system prompt and question for the prompt template and some sample product data to be summarised."
      ],
      "metadata": {
        "id": "AlqUvsMAmrbq"
      },
      "id": "AlqUvsMAmrbq"
    },
    {
      "cell_type": "code",
      "source": [
        "system_prompt=[\"You are an retail domestic merchandise expert\"]\n",
        "\n",
        "question=[\"Provide a one sentence summary of the following text\"]\n",
        "\n",
        "description=[\n",
        "  \"Men’s Blue Dress Shorts Elevate your warm-weather wardrobe with these tailored men's blue dress shorts — where polished style meets everyday comfort. Designed with a modern slim fit and cut from a lightweight, breathable cotton-blend fabric, these shorts offer a refined silhouette perfect for smart-casual settings. Featuring a flat front, belt loops, and discreet side and back pockets, they pair effortlessly with a crisp button-down or a relaxed polo. Whether you're headed to a summer wedding, rooftop brunch, or casual Friday at the office, these shorts strike the perfect balance between laid-back and sophisticated\",\n",
        "\n",
        "  \"Summer Floral Dress. Breathe life into your summer wardrobe with this effortlessly elegant floral midi dress. Crafted from lightweight, breathable fabric, this dress is designed to keep you cool and confident from sunny brunches to sunset strolls. The vibrant floral print pops against soft pastels, while the flattering silhouette — complete with a cinched waist and flowing A-line skirt — moves beautifully with every step. Featuring delicate spaghetti straps, a sweetheart neckline, and subtle ruffle detailing, this dress is the perfect balance of feminine charm and relaxed ease. Style it with strappy sandals for a daytime look or elevate it with wedges and a clutch for those golden-hour moments.\",\n",
        "\n",
        "  \"Outdoor Garden Furniture Transform your backyard into a personal oasis with this elegant garden furniture set designed for comfort, durability, and timeless style. Whether you're hosting a summer soirée, enjoying a quiet morning coffee, or stretching out under the stars, this set offers the perfect blend of relaxation and sophistication. Crafted with weather-resistant materials and plush, all-season cushions, it’s built to withstand the elements while keeping you cozy. The modern, neutral design complements any garden, patio, or balcony — making it a seamless fit for both small spaces and open-air retreats.\",\n",
        "\n",
        "  \"OLED 4K Ultra HD Smart TV. Step into the future of home entertainment with breathtaking clarity, vibrant color, and cinematic sound. This OLED 4K Ultra HD Smart TV transforms your living room into a private theater — where every scene comes alive with lifelike detail and stunning contrast. With self-lit pixels that turn on and off individually, OLED delivers perfect blacks and infinite contrast, revealing depth and dimension that LED TVs simply can’t match. Whether you're streaming your favorite show, gaming at high frame rates, or watching the big game in dazzling clarity, every moment is immersive. Powered by a next-gen AI processor, it automatically adjusts picture and sound based on your environment and content, so you always get the optimal viewing experience. And with an ultra-slim bezel and sleek modern design, it’s not just a TV — it’s a centerpiece.\",\n",
        "\n",
        "  \"Smartwash Dishwasher. Let your kitchen work for you. Say goodbye to scrubbing and soaking — the SmartWash Dishwasher delivers a powerful, whisper-quiet clean that saves you time, energy, and water. Whether it’s post-dinner chaos or a pile of party plates, this dishwasher handles it all with precision and polish. With advanced spray technology, high-temperature sanitization, and intuitive smart cycles, every dish comes out sparkling — from delicate wine glasses to stubborn, baked-on pots. The sleek stainless steel finish adds a modern touch to any kitchen, while the adjustable racks and spacious interior let you load more in fewer cycles. Plus, with smart connectivity, you can monitor and control your wash right from your phone — because clean dishes should never slow you down. \"\n",
        "]\n"
      ],
      "metadata": {
        "id": "4SFnEojfmpOU"
      },
      "id": "4SFnEojfmpOU",
      "execution_count": 4,
      "outputs": []
    },
    {
      "cell_type": "markdown",
      "source": [
        "3. Instantiate a flash_model variable with a GenerativeModel that uses Gemini version gemini-2.0-flash.\n",
        "4. Add a generation configuration to the model to set the temperature to 0."
      ],
      "metadata": {
        "id": "wXZRWf6rm0Nq"
      },
      "id": "wXZRWf6rm0Nq"
    },
    {
      "cell_type": "code",
      "source": [
        "flash_model = GenerativeModel(\n",
        "  \"gemini-2.0-flash\",\n",
        "  generation_config={\n",
        "      \"temperature\": 0,\n",
        "  },\n",
        ")"
      ],
      "metadata": {
        "id": "X9JjOUisnGRG"
      },
      "id": "X9JjOUisnGRG",
      "execution_count": 12,
      "outputs": []
    },
    {
      "cell_type": "markdown",
      "source": [
        "5. Using the prompt template and data, generate a response to the second product description (description[1]) from the gemini-2.0-flash model. Use the Markdown() class imported from IPython.display to wrap the response text to render Gemini's responses, which are often formatted as Markdown strings."
      ],
      "metadata": {
        "id": "qkWgm-g8ogwV"
      },
      "id": "qkWgm-g8ogwV"
    },
    {
      "cell_type": "code",
      "source": [
        "# prompt = \"Write a one paragraph apartment listing to promote this apartment. Make it sound amazing: \"\n",
        "# View the response using Markdown to format it nicely for notebook viewing\n",
        "# Markdown(model.generate_content(prompt + str(apartment_records[0])).text)\n",
        "\n",
        "llm_response = flash_model.generate_content(\n",
        "  # Fill in the appropriate configuration\n",
        "  flash_model.generate_content(prompt_template + str(system_prompt[0])).text\n",
        ")\n",
        "\n",
        "Markdown(llm_response.text)\n",
        "\n",
        "# Do not remove logging section\n",
        "log_message = f\"Markdown output: {llm_response.text}\"\n",
        "logging.info(log_message)"
      ],
      "metadata": {
        "colab": {
          "base_uri": "https://localhost:8080/"
        },
        "id": "21dGkpunnGTu",
        "outputId": "5164cc8e-efed-408d-9dcb-8baf82c449e1"
      },
      "id": "21dGkpunnGTu",
      "execution_count": 14,
      "outputs": [
        {
          "output_type": "stream",
          "name": "stderr",
          "text": [
            "INFO:root:Markdown output: Okay, great! Let's start with something practical.\n",
            "\n",
            "I'm a small boutique owner looking to refresh my home decor section for the upcoming fall season. I want to move beyond the typical pumpkins and leaves and offer something a bit more sophisticated and on-trend.\n",
            "\n",
            "**What are 3-5 specific home decor trends for Fall 2024 that are *not* the usual fall tropes, and what types of products would I need to stock to capitalize on those trends?**\n",
            "\n"
          ]
        }
      ]
    },
    {
      "cell_type": "code",
      "source": [
        "# Generate the prompt for the second product description\n",
        "generated_prompt = prompt_template.format(\n",
        "    system_prompt=system_prompt[0],\n",
        "    question=question[0],\n",
        "    description=description[1]\n",
        ")\n",
        "\n",
        "# Generate response from the Gemini 2.0 Flash model\n",
        "llm_response = flash_model.generate_content(\n",
        "    generated_prompt\n",
        ")\n",
        "\n",
        "# Display the response using Markdown\n",
        "display(Markdown(llm_response.text))\n",
        "\n",
        "# Do not remove logging section\n",
        "log_message = f\"Markdown output: {llm_response.text}\"\n",
        "logging.info(log_message)"
      ],
      "metadata": {
        "colab": {
          "base_uri": "https://localhost:8080/",
          "height": 118
        },
        "id": "MJh-OZYFnGWI",
        "outputId": "b20f1bd3-3cc2-4bfb-da7d-5ebe310cd6bc"
      },
      "id": "MJh-OZYFnGWI",
      "execution_count": 11,
      "outputs": [
        {
          "output_type": "display_data",
          "data": {
            "text/plain": [
              "<IPython.core.display.Markdown object>"
            ],
            "text/markdown": "This summer floral midi dress features a vibrant floral print, a flattering silhouette with a cinched waist and A-line skirt, and delicate details like spaghetti straps and ruffle accents, perfect for both casual and dressy occasions.\n"
          },
          "metadata": {}
        },
        {
          "output_type": "stream",
          "name": "stderr",
          "text": [
            "INFO:root:Markdown output: This summer floral midi dress features a vibrant floral print, a flattering silhouette with a cinched waist and A-line skirt, and delicate details like spaghetti straps and ruffle accents, perfect for both casual and dressy occasions.\n",
            "\n"
          ]
        }
      ]
    },
    {
      "cell_type": "code",
      "source": [
        "import pandas as pd\n",
        "import logging\n",
        "from IPython.display import display, Markdown\n",
        "\n",
        "import vertexai\n",
        "from vertexai.generative_models import GenerativeModel, GenerationConfig\n",
        "\n",
        "# Initialize Vertex AI\n",
        "# Make sure PROJECT_ID and LOCATION are defined if not already in your environment\n",
        "# For qwiklabs, these are often set automatically or provided.\n",
        "# You might need to replace \"qwiklabs-gcp-03-49581a752317\" with your actual Project ID\n",
        "# and \"us-west1\" with your actual Location if running outside a specific Qwiklabs environment.\n",
        "PROJECT_ID = \"qwiklabs-gcp-03-49581a752317\"\n",
        "LOCATION = \"us-west1\"\n",
        "\n",
        "vertexai.init(project=PROJECT_ID, location=LOCATION)\n",
        "\n",
        "# Set the prompt_template\n",
        "prompt_template = \"# System_prompt\\n{system_prompt} # Question\\n{question} # Description {description}\"\n",
        "\n",
        "# Define the system prompt, question, and sample product data\n",
        "system_prompt = [\"You are an retail domestic merchandise expert\"]\n",
        "\n",
        "question = [\"Provide a one sentence summary of the following text\"]\n",
        "\n",
        "description = [\n",
        "  \"Men’s Blue Dress Shorts Elevate your warm-weather wardrobe with these tailored men's blue dress shorts — where polished style meets everyday comfort. Designed with a modern slim fit and cut from a lightweight, breathable cotton-blend fabric, these shorts offer a refined silhouette perfect for smart-casual settings. Featuring a flat front, belt loops, and discreet side and back pockets, they pair effortlessly with a crisp button-down or a relaxed polo. Whether you're headed to a summer wedding, rooftop brunch, or casual Friday at the office, these shorts strike the perfect balance between laid-back and sophisticated\",\n",
        "\n",
        "  \"Summer Floral Dress. Breathe life into your summer wardrobe with this effortlessly elegant floral midi dress. Crafted from lightweight, breathable fabric, this dress is designed to keep you cool and confident from sunny brunches to sunset strolls. The vibrant floral print pops against soft pastels, while the flattering silhouette — complete with a cinched waist and flowing A-line skirt — moves beautifully with every step. Featuring delicate spaghetti straps, a sweetheart neckline, and subtle ruffle detailing, this dress is the perfect balance of feminine charm and relaxed ease. Style it with strappy sandals for a daytime look or elevate it with wedges and a clutch for those golden-hour moments.\",\n",
        "\n",
        "  \"Outdoor Garden Furniture Transform your backyard into a personal oasis with this elegant garden furniture set designed for comfort, durability, and timeless style. Whether you're hosting a summer soirée, enjoying a quiet morning coffee, or stretching out under the stars, this set offers the perfect blend of relaxation and sophistication. Crafted with weather-resistant materials and plush, all-season cushions, it’s built to withstand the elements while keeping you cozy. The modern, neutral design complements any garden, patio, or balcony — making it a seamless fit for both small spaces and open-air retreats.\",\n",
        "\n",
        "  \"OLED 4K Ultra HD Smart TV. Step into the future of home entertainment with breathtaking clarity, vibrant color, and cinematic sound. This OLED 4K Ultra HD Smart TV transforms your living room into a private theater — where every scene comes alive with lifelike detail and stunning contrast. With self-lit pixels that turn on and off individually, OLED delivers perfect blacks and infinite contrast, revealing depth and dimension that LED TVs simply can’t match. Whether you're streaming your favorite show, gaming at high frame rates, or watching the big game in dazzling clarity, every moment is immersive. Powered by a next-gen AI processor, it automatically adjusts picture and sound based on your environment and content, so you always get the optimal viewing experience. And with an ultra-slim bezel and sleek modern design, it’s not just a TV — it’s a centerpiece.\",\n",
        "\n",
        "  \"Smartwash Dishwasher. Let your kitchen work for you. Say goodbye to scrubbing and soaking — the SmartWash Dishwasher delivers a powerful, whisper-quiet clean that saves you time, energy, and water. Whether it’s post-dinner chaos or a pile of party plates, this dishwasher handles it all with precision and polish. With advanced spray technology, high-temperature sanitization, and intuitive smart cycles, every dish comes out sparkling — from delicate wine glasses to stubborn, baked-on pots. The sleek stainless steel finish adds a modern touch to any kitchen, while the adjustable racks and spacious interior let you load more in fewer cycles. Plus, with smart connectivity, you can monitor and control your wash right from your phone — because clean dishes should never slow you down. \"\n",
        "]\n",
        "\n",
        "# Instantiate a flash_model variable with a GenerativeModel that uses Gemini version gemini-2.0-flash.\n",
        "# Add a generation configuration to the model to set the temperature to 0.\n",
        "flash_model = GenerativeModel(\n",
        "    \"gemini-2.0-flash\",\n",
        "    generation_config={\n",
        "        \"temperature\": 0.0, # Temperature set to 0 as requested\n",
        "        \"top_p\": 0.4, # Keeping top_p from your previous code, as it's a common configuration\n",
        "    },\n",
        ")\n",
        "\n",
        "# Using the prompt template and data, generate a response to the second product description (description[0])\n",
        "# from the gemini-2.0-flash model.\n",
        "# Use the Markdown() class imported from IPython.display to wrap the response text to render Gemini's responses.\n",
        "\n",
        "# Generate the full prompt for the second product description\n",
        "generated_prompt = prompt_template.format(\n",
        "    system_prompt=system_prompt[0],\n",
        "    question=question[0],\n",
        "    description=description[0]\n",
        ")\n",
        "\n",
        "# Generate response from the Gemini 2.0 Flash model\n",
        "llm_response = flash_model.generate_content(\n",
        "    generated_prompt\n",
        ")\n",
        "\n",
        "# Display the response using Markdown\n",
        "print(\"--- Model's Summary for Description 2 ---\")\n",
        "display(Markdown(llm_response.text))\n",
        "\n",
        "# Do not remove logging section\n",
        "log_message = f\"Markdown output: {llm_response.text}\"\n",
        "logging.info(log_message)"
      ],
      "metadata": {
        "colab": {
          "base_uri": "https://localhost:8080/",
          "height": 98
        },
        "id": "VVqZFqYert42",
        "outputId": "c38056b9-45d8-47ce-e7e3-bc9f499cb940"
      },
      "id": "VVqZFqYert42",
      "execution_count": 17,
      "outputs": [
        {
          "output_type": "stream",
          "name": "stdout",
          "text": [
            "--- Model's Summary for Description 2 ---\n"
          ]
        },
        {
          "output_type": "display_data",
          "data": {
            "text/plain": [
              "<IPython.core.display.Markdown object>"
            ],
            "text/markdown": "These men's blue dress shorts offer a refined, comfortable style suitable for various smart-casual occasions with their slim fit and breathable cotton-blend fabric.\n"
          },
          "metadata": {}
        },
        {
          "output_type": "stream",
          "name": "stderr",
          "text": [
            "INFO:root:Markdown output: These men's blue dress shorts offer a refined, comfortable style suitable for various smart-casual occasions with their slim fit and breathable cotton-blend fabric.\n",
            "\n"
          ]
        }
      ]
    },
    {
      "cell_type": "code",
      "source": [
        "llm_response = Markdown(flash_model.generate_content(system_prompt[0] + str(description[0])))\n",
        "\n",
        "# Do not remove logging section\n",
        "log_message = f\"Markdown output: {llm_response.text}\"\n",
        "logging.info(log_message)\n"
      ],
      "metadata": {
        "colab": {
          "base_uri": "https://localhost:8080/",
          "height": 964
        },
        "id": "zvbg1e0TukOt",
        "outputId": "57d17027-d94a-4615-b901-68e0210cd719"
      },
      "id": "zvbg1e0TukOt",
      "execution_count": 19,
      "outputs": [
        {
          "output_type": "error",
          "ename": "TypeError",
          "evalue": "Markdown expects text, not candidates {\n  content {\n    role: \"model\"\n    parts {\n      text: \"Okay, I can definitely work with that description and expand on it from a retail domestic merchandise expert\\'s perspective. Here\\'s a breakdown of what I see, and how I\\'d approach selling these shorts:\\n\\n**Strengths of the Current Description:**\\n\\n*   **Highlights Key Features:** Slim fit, lightweight fabric, flat front, pockets, belt loops.\\n*   **Focuses on Versatility:** Suitable for various occasions (wedding, brunch, office).\\n*   **Emphasizes Comfort and Style:** Balances \\\"polished style\\\" with \\\"everyday comfort.\\\"\\n*   **Clear Target Audience:** Men looking for a refined, smart-casual look.\\n\\n**Areas for Improvement & Expansion (From a Retail Expert\\'s View):**\\n\\n*   **Fabric Specifics:** Go beyond \\\"cotton-blend.\\\" What *kind* of cotton blend? (e.g., \\\"premium cotton-linen blend,\\\" \\\"stretch cotton twill,\\\" \\\"performance cotton-poly blend\\\"). This impacts feel, drape, and care.\\n*   **Construction Details:** Mention things like:\\n    *   **Seam Quality:** \\\"Durable, reinforced seams for lasting wear.\\\"\\n    *   **Lining:** \\\"Partially lined for added comfort and structure.\\\" (If applicable)\\n    *   **Closure:** \\\"Secure button and zip fly closure.\\\"\\n    *   **Pocket Depth:** \\\"Deep front pockets to securely hold essentials.\\\"\\n*   **Color Nuance:** \\\"Blue\\\" is broad. Is it navy, royal blue, sky blue, chambray? Be specific.\\n*   **Sizing & Fit Details:**\\n    *   \\\"Available in sizes [range].\\\"\\n    *   \\\"Slim fit through the seat and thigh, with a tailored leg opening.\\\"\\n    *   \\\"Sits comfortably at the natural waist.\\\"\\n*   **Care Instructions:** \\\"Machine washable for easy care.\\\" (Or specific instructions if needed)\\n*   **Styling Suggestions (More Specific):**\\n    *   \\\"Pair with a linen shirt and loafers for a relaxed summer look.\\\"\\n    *   \\\"Dress them up with a blazer and dress shoes for a more formal occasion.\\\"\\n    *   \\\"Try them with a striped t-shirt and sneakers for a casual weekend vibe.\\\"\\n*   **Call to Action:** \\\"Shop now and elevate your summer style!\\\" or \\\"Add these versatile shorts to your wardrobe today!\\\"\\n*   **Consider adding lifestyle imagery:** Show the shorts being worn in different settings to inspire customers.\\n\\n**Revised Description (Example - Incorporating Improvements):**\\n\\n\\\"**Men\\'s Navy Blue Stretch Cotton Twill Dress Shorts**\\n\\nElevate your warm-weather wardrobe with these tailored men\\'s navy blue dress shorts — where polished style meets everyday comfort. Designed with a modern slim fit and cut from a lightweight, breathable stretch cotton twill fabric (97% Cotton, 3% Spandex), these shorts offer a refined silhouette perfect for smart-casual settings. The added spandex provides a comfortable range of motion.\\n\\nFeaturing a flat front, belt loops, and discreet side and back pockets, they pair effortlessly with a crisp button-down or a relaxed polo. Durable, reinforced seams ensure lasting wear. The shorts feature a secure button and zip fly closure and deep front pockets to securely hold essentials.\\n\\nAvailable in sizes 30-40. Slim fit through the seat and thigh, with a tailored leg opening. Sits comfortably at the natural waist. Machine washable for easy care.\\n\\n**Style Tips:**\\n\\n*   Pair with a light blue linen shirt and loafers for a relaxed summer look.\\n*   Dress them up with a navy blazer, white dress shirt, and brown leather dress shoes for a more formal occasion.\\n*   Try them with a striped t-shirt and white sneakers for a casual weekend vibe.\\n\\nWhether you\\'re headed to a summer wedding, rooftop brunch, or casual Friday at the office, these shorts strike the perfect balance between laid-back and sophisticated.\\n\\n**Shop now and elevate your summer style!**\\\"\\n\\n**Why These Changes Matter (From a Retail Perspective):**\\n\\n*   **Increased Credibility:** Specific details build trust with the customer.\\n*   **Reduced Returns:** Accurate sizing and fit information minimizes the chance of returns due to poor fit.\\n*   **Improved SEO:** Specific keywords (e.g., \\\"stretch cotton twill,\\\" \\\"navy blue\\\") help the product rank higher in search results.\\n*   **Enhanced Customer Experience:** Clear styling suggestions help customers visualize how to wear the shorts and create outfits.\\n*   **Higher Conversion Rates:** A compelling description with a clear call to action encourages customers to make a purchase.\\n\\nBy focusing on these details, you transform a basic product description into a compelling sales tool that drives conversions and builds customer loyalty. Remember to always tailor the description to your specific target audience and brand voice.\\n\"\n    }\n  }\n  finish_reason: STOP\n  avg_logprobs: -0.16275280761718749\n}\nusage_metadata {\n  prompt_token_count: 129\n  candidates_token_count: 1000\n  total_token_count: 1129\n  prompt_tokens_details {\n    modality: TEXT\n    token_count: 129\n  }\n  candidates_tokens_details {\n    modality: TEXT\n    token_count: 1000\n  }\n}\nmodel_version: \"gemini-2.0-flash\"\ncreate_time {\n  seconds: 1750715188\n  nanos: 431367000\n}\nresponse_id: \"NMtZaIeqGtWIi9YPytnoqQ8\"\n",
          "traceback": [
            "\u001b[0;31m---------------------------------------------------------------------------\u001b[0m",
            "\u001b[0;31mTypeError\u001b[0m                                 Traceback (most recent call last)",
            "\u001b[0;32m<ipython-input-19-2070030632>\u001b[0m in \u001b[0;36m<cell line: 0>\u001b[0;34m()\u001b[0m\n\u001b[0;32m----> 1\u001b[0;31m \u001b[0mllm_response\u001b[0m \u001b[0;34m=\u001b[0m \u001b[0mMarkdown\u001b[0m\u001b[0;34m(\u001b[0m\u001b[0mflash_model\u001b[0m\u001b[0;34m.\u001b[0m\u001b[0mgenerate_content\u001b[0m\u001b[0;34m(\u001b[0m\u001b[0msystem_prompt\u001b[0m\u001b[0;34m[\u001b[0m\u001b[0;36m0\u001b[0m\u001b[0;34m]\u001b[0m \u001b[0;34m+\u001b[0m \u001b[0mstr\u001b[0m\u001b[0;34m(\u001b[0m\u001b[0mdescription\u001b[0m\u001b[0;34m[\u001b[0m\u001b[0;36m0\u001b[0m\u001b[0;34m]\u001b[0m\u001b[0;34m)\u001b[0m\u001b[0;34m)\u001b[0m\u001b[0;34m)\u001b[0m\u001b[0;34m\u001b[0m\u001b[0;34m\u001b[0m\u001b[0m\n\u001b[0m\u001b[1;32m      2\u001b[0m \u001b[0;34m\u001b[0m\u001b[0m\n\u001b[1;32m      3\u001b[0m \u001b[0;31m# Do not remove logging section\u001b[0m\u001b[0;34m\u001b[0m\u001b[0;34m\u001b[0m\u001b[0m\n\u001b[1;32m      4\u001b[0m \u001b[0mlog_message\u001b[0m \u001b[0;34m=\u001b[0m \u001b[0;34mf\"Markdown output: {llm_response.text}\"\u001b[0m\u001b[0;34m\u001b[0m\u001b[0;34m\u001b[0m\u001b[0m\n\u001b[1;32m      5\u001b[0m \u001b[0mlogging\u001b[0m\u001b[0;34m.\u001b[0m\u001b[0minfo\u001b[0m\u001b[0;34m(\u001b[0m\u001b[0mlog_message\u001b[0m\u001b[0;34m)\u001b[0m\u001b[0;34m\u001b[0m\u001b[0;34m\u001b[0m\u001b[0m\n",
            "\u001b[0;32m/usr/local/lib/python3.11/dist-packages/IPython/core/display.py\u001b[0m in \u001b[0;36m__init__\u001b[0;34m(self, data, url, filename, metadata)\u001b[0m\n\u001b[1;32m    636\u001b[0m \u001b[0;34m\u001b[0m\u001b[0m\n\u001b[1;32m    637\u001b[0m         \u001b[0mself\u001b[0m\u001b[0;34m.\u001b[0m\u001b[0mreload\u001b[0m\u001b[0;34m(\u001b[0m\u001b[0;34m)\u001b[0m\u001b[0;34m\u001b[0m\u001b[0;34m\u001b[0m\u001b[0m\n\u001b[0;32m--> 638\u001b[0;31m         \u001b[0mself\u001b[0m\u001b[0;34m.\u001b[0m\u001b[0m_check_data\u001b[0m\u001b[0;34m(\u001b[0m\u001b[0;34m)\u001b[0m\u001b[0;34m\u001b[0m\u001b[0;34m\u001b[0m\u001b[0m\n\u001b[0m\u001b[1;32m    639\u001b[0m \u001b[0;34m\u001b[0m\u001b[0m\n\u001b[1;32m    640\u001b[0m     \u001b[0;32mdef\u001b[0m \u001b[0m__repr__\u001b[0m\u001b[0;34m(\u001b[0m\u001b[0mself\u001b[0m\u001b[0;34m)\u001b[0m\u001b[0;34m:\u001b[0m\u001b[0;34m\u001b[0m\u001b[0;34m\u001b[0m\u001b[0m\n",
            "\u001b[0;32m/usr/local/lib/python3.11/dist-packages/IPython/core/display.py\u001b[0m in \u001b[0;36m_check_data\u001b[0;34m(self)\u001b[0m\n\u001b[1;32m    698\u001b[0m     \u001b[0;32mdef\u001b[0m \u001b[0m_check_data\u001b[0m\u001b[0;34m(\u001b[0m\u001b[0mself\u001b[0m\u001b[0;34m)\u001b[0m\u001b[0;34m:\u001b[0m\u001b[0;34m\u001b[0m\u001b[0;34m\u001b[0m\u001b[0m\n\u001b[1;32m    699\u001b[0m         \u001b[0;32mif\u001b[0m \u001b[0mself\u001b[0m\u001b[0;34m.\u001b[0m\u001b[0mdata\u001b[0m \u001b[0;32mis\u001b[0m \u001b[0;32mnot\u001b[0m \u001b[0;32mNone\u001b[0m \u001b[0;32mand\u001b[0m \u001b[0;32mnot\u001b[0m \u001b[0misinstance\u001b[0m\u001b[0;34m(\u001b[0m\u001b[0mself\u001b[0m\u001b[0;34m.\u001b[0m\u001b[0mdata\u001b[0m\u001b[0;34m,\u001b[0m \u001b[0mstr\u001b[0m\u001b[0;34m)\u001b[0m\u001b[0;34m:\u001b[0m\u001b[0;34m\u001b[0m\u001b[0;34m\u001b[0m\u001b[0m\n\u001b[0;32m--> 700\u001b[0;31m             \u001b[0;32mraise\u001b[0m \u001b[0mTypeError\u001b[0m\u001b[0;34m(\u001b[0m\u001b[0;34m\"%s expects text, not %r\"\u001b[0m \u001b[0;34m%\u001b[0m \u001b[0;34m(\u001b[0m\u001b[0mself\u001b[0m\u001b[0;34m.\u001b[0m\u001b[0m__class__\u001b[0m\u001b[0;34m.\u001b[0m\u001b[0m__name__\u001b[0m\u001b[0;34m,\u001b[0m \u001b[0mself\u001b[0m\u001b[0;34m.\u001b[0m\u001b[0mdata\u001b[0m\u001b[0;34m)\u001b[0m\u001b[0;34m)\u001b[0m\u001b[0;34m\u001b[0m\u001b[0;34m\u001b[0m\u001b[0m\n\u001b[0m\u001b[1;32m    701\u001b[0m \u001b[0;34m\u001b[0m\u001b[0m\n\u001b[1;32m    702\u001b[0m \u001b[0;32mclass\u001b[0m \u001b[0mPretty\u001b[0m\u001b[0;34m(\u001b[0m\u001b[0mTextDisplayObject\u001b[0m\u001b[0;34m)\u001b[0m\u001b[0;34m:\u001b[0m\u001b[0;34m\u001b[0m\u001b[0;34m\u001b[0m\u001b[0m\n",
            "\u001b[0;31mTypeError\u001b[0m: Markdown expects text, not candidates {\n  content {\n    role: \"model\"\n    parts {\n      text: \"Okay, I can definitely work with that description and expand on it from a retail domestic merchandise expert\\'s perspective. Here\\'s a breakdown of what I see, and how I\\'d approach selling these shorts:\\n\\n**Strengths of the Current Description:**\\n\\n*   **Highlights Key Features:** Slim fit, lightweight fabric, flat front, pockets, belt loops.\\n*   **Focuses on Versatility:** Suitable for various occasions (wedding, brunch, office).\\n*   **Emphasizes Comfort and Style:** Balances \\\"polished style\\\" with \\\"everyday comfort.\\\"\\n*   **Clear Target Audience:** Men looking for a refined, smart-casual look.\\n\\n**Areas for Improvement & Expansion (From a Retail Expert\\'s View):**\\n\\n*   **Fabric Specifics:** Go beyond \\\"cotton-blend.\\\" What *kind* of cotton blend? (e.g., \\\"premium cotton-linen blend,\\\" \\\"stretch cotton twill,\\\" \\\"performance cotton-poly blend\\\"). This impacts feel, drape, and care.\\n*   **Construction Details:** Mention things like:\\n    *   **Seam Quality:** \\\"Durable, reinforced seams for lasting wear.\\\"\\n    *   **Lining:** \\\"Partially lined for added comfort and structure.\\\" (If applicable)\\n    *   **Closure:** \\\"Secure button and zip fly closure.\\\"\\n    *   **Pocket Depth:** \\\"Deep front pockets to securely hold essentials.\\\"\\n*   **Color Nuance:** \\\"Blue\\\" is broad. Is it navy, royal blue, sky blue, chambray? Be specific.\\n*   **Sizing & Fit Details:**\\n    *   \\\"Available in sizes [range].\\\"\\n    *   \\\"Slim fit through the seat and thigh, w...\n    }\n  }\n  finish_reason: STOP\n  avg_logprobs: -0.16275280761718749\n}\nusage_metadata {\n  prompt_token_count: 129\n  candidates_token_count: 1000\n  total_token_count: 1129\n  prompt_tokens_details {\n    modality: TEXT\n    token_count: 129\n  }\n  candidates_tokens_details {\n    modality: TEXT\n    token_count: 1000\n  }\n}\nmodel_version: \"gemini-2.0-flash\"\ncreate_time {\n  seconds: 1750715188\n  nanos: 431367000\n}\nresponse_id: \"NMtZaIeqGtWIi9YPytnoqQ8\"\n"
          ]
        }
      ]
    },
    {
      "cell_type": "code",
      "source": [
        "str(llm_response)"
      ],
      "metadata": {
        "colab": {
          "base_uri": "https://localhost:8080/",
          "height": 35
        },
        "id": "nrhQnPCIv5cW",
        "outputId": "4041057f-bfaf-46d0-830b-4483ed89f533"
      },
      "id": "nrhQnPCIv5cW",
      "execution_count": 21,
      "outputs": [
        {
          "output_type": "execute_result",
          "data": {
            "text/plain": [
              "'<IPython.core.display.Markdown object>'"
            ],
            "application/vnd.google.colaboratory.intrinsic+json": {
              "type": "string"
            }
          },
          "metadata": {},
          "execution_count": 21
        }
      ]
    },
    {
      "cell_type": "code",
      "source": [],
      "metadata": {
        "id": "JNr6xfYGwkc5"
      },
      "id": "JNr6xfYGwkc5",
      "execution_count": null,
      "outputs": []
    }
  ],
  "metadata": {
    "kernelspec": {
      "display_name": "Python 3",
      "language": "python",
      "name": "python3"
    },
    "language_info": {
      "codemirror_mode": {
        "name": "ipython",
        "version": 3
      },
      "file_extension": ".py",
      "mimetype": "text/x-python",
      "name": "python",
      "nbconvert_exporter": "python",
      "pygments_lexer": "ipython3",
      "version": "3.10.10"
    },
    "colab": {
      "provenance": [],
      "name": "student-01-20caa271585e (Jun 23, 2025, 1:51:51 PM)"
    }
  },
  "nbformat": 4,
  "nbformat_minor": 5
}