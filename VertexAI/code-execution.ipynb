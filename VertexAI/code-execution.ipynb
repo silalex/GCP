{
 "cells": [
  {
   "cell_type": "markdown",
   "id": "ca131e67",
   "metadata": {},
   "source": [
    "# Code Execution with Gemini\n",
    "\n",
    "[Lab link](https://partner.cloudskillsboost.google/paths/2294/course_templates/1235/labs/527178)\n",
    "\n",
    "Note: this ipy-notebook was created step-by-spet according to the lab instructions (there is no a template file is ready to use)\n",
    "\n",
    "### Objective\n",
    "\n",
    "In this lab, you will learn how to generate and execute code using the Gemini API in Vertex AI and the Google Gen AI SDK for Python with the Gemini 2.0 Flash model.\n",
    "\n",
    "You will complete the following tasks:\n",
    " - Generate and run sample Python code from text prompts.\n",
    " - Explore data using code execution in multi-turn chats.\n",
    " - Use code execution in streaming sessions.\n",
    "\n",
    " ### Task 1. Initialize the Google Gen AI SDK in a Colab Enterprise notebook"
   ]
  },
  {
   "cell_type": "code",
   "execution_count": null,
   "id": "31e3ce61",
   "metadata": {
    "vscode": {
     "languageId": "markdown"
    }
   },
   "outputs": [],
   "source": [
    "# Install the Google Gen AI SDK and restart the kernel\n",
    "%pip install --upgrade --quiet google-\n",
    "\n",
    "# After the cell completes running, indicated by a checkmark to the left of the cell, \n",
    "# the new packages should be installed. To use them, restart the runtime by selecting Runtime \n",
    "# from the menu bar and clicking Restart Session. \n",
    "#\n",
    "# When asked to confirm, select Yes. The runtime will restart, indicated by clearing the green checkmark \n",
    "# and the integer next to the cell above representing the order in which the cells have run."
   ]
  },
  {
   "cell_type": "code",
   "execution_count": null,
   "id": "5ab5dc2d",
   "metadata": {
    "vscode": {
     "languageId": "markdown"
    }
   },
   "outputs": [],
   "source": []
  },
  {
   "cell_type": "code",
   "execution_count": null,
   "id": "95d90ff1",
   "metadata": {},
   "outputs": [],
   "source": []
  }
 ],
 "metadata": {
  "language_info": {
   "name": "python"
  }
 },
 "nbformat": 4,
 "nbformat_minor": 5
}
