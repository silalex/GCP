{
 "cells": [
  {
   "cell_type": "markdown",
   "id": "b95c7233",
   "metadata": {},
   "source": [
    "# Use function calling and grounding with Google Search to create a research tool\n",
    "\n",
    "[link](https://partner.cloudskillsboost.google/paths/2294/course_templates/1235/labs/527176)\n",
    "\n",
    "Note: this ipy-notebook was created step-by-spet according to the lab instructions (there is no a template file \"sec_filings_analysis.ipynb\" that is ready to use)\n",
    "\n",
    "### Task 1. Prepare the environment in Vertex AI Workbench"
   ]
  },
  {
   "cell_type": "code",
   "execution_count": null,
   "id": "21a1bf66",
   "metadata": {},
   "outputs": [],
   "source": [
    "import os\n",
    "import re\n",
    "import requests\n",
    "from datetime import datetime\n",
    "\n",
    "from bs4 import BeautifulSoup, NavigableString\n",
    "\n",
    "import vertexai\n",
    "from vertexai.generative_models import (\n",
    "    GenerativeModel,\n",
    "    GenerationConfig,\n",
    "    Tool,\n",
    "    FunctionDeclaration,\n",
    "    Part)"
   ]
  },
  {
   "cell_type": "code",
   "execution_count": null,
   "id": "78da19f4",
   "metadata": {},
   "outputs": [],
   "source": [
    "#  initialize Vertex AI:\n",
    "project_id = !gcloud config get project\n",
    "project_id = project_id[0]\n",
    "\n",
    "vertexai.init(project=project_id, location=\"us-central1\")"
   ]
  }
 ],
 "metadata": {
  "language_info": {
   "name": "python"
  }
 },
 "nbformat": 4,
 "nbformat_minor": 5
}
