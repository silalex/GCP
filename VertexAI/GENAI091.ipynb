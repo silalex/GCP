{
 "cells": [
  {
   "cell_type": "markdown",
   "id": "6ecd3e2a",
   "metadata": {},
   "source": [
    "# Configure AI Applications to Optimize Search Results : Challenge Lab (GENAI091) #\n",
    "\n",
    "Lab link: https://partner.cloudskillsboost.google/paths/2302/course_templates/1250/labs/529942"
   ]
  },
  {
   "cell_type": "markdown",
   "id": "784137f1",
   "metadata": {},
   "source": [
    "### Task 1. Create a metadata document for data store ###"
   ]
  },
  {
   "cell_type": "code",
   "execution_count": 1,
   "id": "f2abd1d7",
   "metadata": {},
   "outputs": [
    {
     "name": "stdout",
     "output_type": "stream",
     "text": [
      "Successfully created 'metadata.json' with the new structure.\n"
     ]
    }
   ],
   "source": [
    "import json\n",
    "\n",
    "original_data = [\n",
    "    {\"id\": \"doc-1\", \"title\": \"Heaven Resort\", \"category\": \"information\", \"rating\": 4.8, \"document_uri\": \"gs://qwiklabs-gcp-04-f9b8c7153658/hotel1.pdf\"},\n",
    "    {\"id\": \"doc-2\", \"title\": \"Paradise Reef Resort\", \"category\": \"information\", \"rating\": 4.7, \"document_uri\": \"gs://qwiklabs-gcp-04-f9b8c7153658/hotel2.pdf\"},\n",
    "    {\"id\": \"doc-3\", \"title\": \"AquaPulse Maldives\", \"category\": \"information\", \"rating\": 4.0, \"document_uri\": \"gs://qwiklabs-gcp-04-f9b8c7153658/hotel3.pdf\"},\n",
    "    {\"id\": \"doc-4\", \"title\": \"Heaven Resort Financials\", \"category\": \"financials\", \"rating\": 4.8, \"document_uri\": \"gs://qwiklabs-gcp-04-f9b8c7153658/hotel1-financials.pdf\"},\n",
    "    {\"id\": \"doc-5\", \"title\": \"Paradise Reef Resort Financials\", \"category\": \"financials\", \"rating\": 4.7, \"document_uri\": \"gs://qwiklabs-gcp-04-f9b8c7153658/hotel2-financials.pdf\"},\n",
    "    {\"id\": \"doc-6\", \"title\": \"AquaPulse Maldives Financials\", \"category\": \"financials\", \"rating\": 4.0, \"document_uri\": \"gs://qwiklabs-gcp-04-f9b8c7153658/hotel3-financials.pdf\"}\n",
    "]\n",
    "\n",
    "transformed_data = []\n",
    "for item in original_data:\n",
    "    # Extract fields for jsonData\n",
    "    json_data_payload = {\n",
    "        \"title\": item[\"title\"],\n",
    "        \"category\": item[\"category\"],\n",
    "        \"rating\": item[\"rating\"]\n",
    "    }\n",
    "    \n",
    "    # Create the new structure\n",
    "    new_item = {\n",
    "        \"id\": item[\"id\"],\n",
    "        \"jsonData\": json.dumps(json_data_payload), # This nests the JSON as a string\n",
    "        \"content\": {\n",
    "            \"mimeType\": \"application/pdf\", # Assuming all are PDFs based on your URIs\n",
    "            \"uri\": item[\"document_uri\"]\n",
    "        }\n",
    "    }\n",
    "    transformed_data.append(new_item)\n",
    "\n",
    "output_filename = \"metadata.json\"\n",
    "\n",
    "with open(output_filename, 'w', encoding='utf-8') as f:\n",
    "    for record in transformed_data:\n",
    "        f.write(json.dumps(record, ensure_ascii=False) + '\\n')\n",
    "\n",
    "print(f\"Successfully created '{output_filename}' with the new structure.\")"
   ]
  },
  {
   "cell_type": "markdown",
   "id": "22b19817",
   "metadata": {},
   "source": [
    "### Task 2. Set up Google Identity ###"
   ]
  },
  {
   "cell_type": "code",
   "execution_count": 2,
   "id": "4171bcf1",
   "metadata": {},
   "outputs": [],
   "source": [
    "# GCP Console:\n",
    "# AI Applications => Settings => Location: Global : (*) Google Identity"
   ]
  },
  {
   "cell_type": "markdown",
   "id": "b9afebaf",
   "metadata": {},
   "source": [
    "### Task 3. Create and query an unstructured data search app ###"
   ]
  },
  {
   "cell_type": "code",
   "execution_count": null,
   "id": "d1e66757",
   "metadata": {},
   "outputs": [],
   "source": [
    "# GCP Console:\n",
    "\n",
    "# #1: Create AI App\n",
    "# In AI Applications console create a new app of type Agentspace named cymbal-travel with company name cymbal-hotels-company in the global region.\n",
    "# Configure this app to use a data store named cymbal-travel that ingests linked unstructured documents (JSONL with metadata) from metadata.json file you uploaded to : gs://qwiklabs-gcp-04-f9b8c7153658/metadata.json.\n",
    "# Finally, preview the app and verify if it is working as intended.\n",
    "# Note: It will take up to 15 minutes to import documents. Check the data store to see if the data has been parsed, ingested and indexed. Further tasks will proceed only after this task is complete."
   ]
  },
  {
   "cell_type": "code",
   "execution_count": null,
   "id": "5643e043",
   "metadata": {},
   "outputs": [],
   "source": [
    "#2-a: Set up Configure Fields in Results\n",
    "\n",
    "# Field Type    Value\n",
    "# Title\t        title\n",
    "# Text 1        category\n",
    "# Text 2        rating\n",
    "\n",
    "# GCP Console:\n",
    "# => AI Applications => Apps => App-Name => Configurations\n",
    "## Modify: Data display options => Configure fields in results(!)"
   ]
  },
  {
   "cell_type": "code",
   "execution_count": null,
   "id": "f72ea6e1",
   "metadata": {},
   "outputs": [],
   "source": [
    "#2-b: Set up Facet Settings as followed:\n",
    "\n",
    "# Field            Value\n",
    "# Field 1          category\n",
    "# Display Name 1   Category\n",
    "\n",
    "# GCP Console:\n",
    "# => AI Applications => Apps => App-Name => Configurations\n",
    "## Modify: Data display options => Facet Settings(!)"
   ]
  }
 ],
 "metadata": {
  "kernelspec": {
   "display_name": "Python 3",
   "language": "python",
   "name": "python3"
  },
  "language_info": {
   "codemirror_mode": {
    "name": "ipython",
    "version": 3
   },
   "file_extension": ".py",
   "mimetype": "text/x-python",
   "name": "python",
   "nbconvert_exporter": "python",
   "pygments_lexer": "ipython3",
   "version": "3.10.11"
  }
 },
 "nbformat": 4,
 "nbformat_minor": 5
}
